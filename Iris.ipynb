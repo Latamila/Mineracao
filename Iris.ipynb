{
  "nbformat": 4,
  "nbformat_minor": 0,
  "metadata": {
    "colab": {
      "provenance": [],
      "authorship_tag": "ABX9TyPN8k7LrfsZkIKHvczS410I",
      "include_colab_link": true
    },
    "kernelspec": {
      "name": "python3",
      "display_name": "Python 3"
    },
    "language_info": {
      "name": "python"
    }
  },
  "cells": [
    {
      "cell_type": "markdown",
      "metadata": {
        "id": "view-in-github",
        "colab_type": "text"
      },
      "source": [
        "<a href=\"https://colab.research.google.com/github/Latamila/Mineracao/blob/main/Iris.ipynb\" target=\"_parent\"><img src=\"https://colab.research.google.com/assets/colab-badge.svg\" alt=\"Open In Colab\"/></a>"
      ]
    },
    {
      "cell_type": "code",
      "source": [
        "# Read datasets directly from the URL\n",
        "csv_url = \"https://archive.ics.uci.edu/ml/machine-learning-databases/iris/iris.data\"\n",
        "\n",
        "# The CSV file at the UCI repository does not contain the header\n",
        "header = [\"SepalLength\", \"SepalWidth\", \"PetalLength\", \"PetalWidth\", \"Name\"]\n",
        "\n",
        "iris_url = pd.read_csv(csv_url, names = header)\n",
        "iris_url.dtypes"
      ],
      "metadata": {
        "id": "F4zNVca7NFzG"
      },
      "execution_count": null,
      "outputs": []
    },
    {
      "cell_type": "code",
      "source": [
        "andrews_curves(iris_url, \"Name\")"
      ],
      "metadata": {
        "id": "bHL1sW9RNIEf"
      },
      "execution_count": null,
      "outputs": []
    },
    {
      "cell_type": "code",
      "source": [
        "import time\n",
        "\n",
        "import numpy as np\n",
        "import sklearn\n",
        "from sklearn.model_selection import train_test_split"
      ],
      "metadata": {
        "id": "r9goL-H1NKiz"
      },
      "execution_count": null,
      "outputs": []
    },
    {
      "cell_type": "code",
      "execution_count": null,
      "metadata": {
        "id": "45cZfebFI8kP"
      },
      "outputs": [],
      "source": [
        "X_train, X_test, Y_train, Y_test = train_test_split(\n",
        "    *shap.datasets.iris(), test_size=0.2, random_state=0)\n",
        "\n",
        "def print_accuracy(f):\n",
        "    print(f'Accuracy = {100 * np.sum(f(X_test) == Y_test) / len(Y_test)}%')\n",
        "    time.sleep(0.5)\n",
        "\n",
        "shap.initjs()"
      ]
    },
    {
      "cell_type": "markdown",
      "source": [
        "#PREDIÇÃO"
      ],
      "metadata": {
        "id": "rfdi-CegNYGV"
      }
    },
    {
      "cell_type": "code",
      "source": [
        "knn = sklearn.neighbors.KNeighborsClassifier()\n",
        "knn.fit(X_train, Y_train)\n",
        "\n",
        "print_accuracy(knn.predict)\n"
      ],
      "metadata": {
        "id": "JaNM2IHWI-QC"
      },
      "execution_count": null,
      "outputs": []
    },
    {
      "cell_type": "code",
      "source": [
        "import sklearn.tree\n",
        "dtree = sklearn.tree.DecisionTreeClassifier(min_samples_split=2)\n",
        "dtree.fit(X_train, Y_train)\n",
        "print_accuracy(dtree.predict)"
      ],
      "metadata": {
        "id": "qWz7dJFHJCxU"
      },
      "execution_count": null,
      "outputs": []
    },
    {
      "cell_type": "code",
      "source": [
        "from sklearn.ensemble import RandomForestClassifier\n",
        "\n",
        "rforest = RandomForestClassifier(\n",
        "    n_estimators=100,\n",
        "    max_depth=None,\n",
        "    min_samples_split=2,\n",
        "    random_state=0)\n",
        "\n",
        "rforest.fit(X_train, Y_train)\n",
        "print_accuracy(rforest.predict)"
      ],
      "metadata": {
        "id": "5Raj-kPKJgbC"
      },
      "execution_count": null,
      "outputs": []
    },
    {
      "cell_type": "code",
      "source": [
        "from sklearn.neural_network import MLPClassifier\n",
        "\n",
        "nn = MLPClassifier(\n",
        "    solver='lbfgs',\n",
        "    alpha=1e-1,\n",
        "    hidden_layer_sizes=(5, 2),\n",
        "    random_state=0)\n",
        "\n",
        "nn.fit(X_train, Y_train)\n",
        "print_accuracy(nn.predict)"
      ],
      "metadata": {
        "id": "_kUHD-hfM_TA"
      },
      "execution_count": null,
      "outputs": []
    },
    {
      "cell_type": "code",
      "source": [],
      "metadata": {
        "id": "HBwtF7HkNAQq"
      },
      "execution_count": null,
      "outputs": []
    },
    {
      "cell_type": "code",
      "source": [],
      "metadata": {
        "id": "RS4PsiRlNAFS"
      },
      "execution_count": null,
      "outputs": []
    }
  ]
}
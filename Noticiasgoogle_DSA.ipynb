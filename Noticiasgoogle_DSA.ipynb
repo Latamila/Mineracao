{
  "nbformat": 4,
  "nbformat_minor": 0,
  "metadata": {
    "colab": {
      "provenance": [],
      "authorship_tag": "ABX9TyPwILycsGg2FgMWYDnGZ3tc",
      "include_colab_link": true
    },
    "kernelspec": {
      "name": "python3",
      "display_name": "Python 3"
    },
    "language_info": {
      "name": "python"
    }
  },
  "cells": [
    {
      "cell_type": "markdown",
      "metadata": {
        "id": "view-in-github",
        "colab_type": "text"
      },
      "source": [
        "<a href=\"https://colab.research.google.com/github/Latamila/Mineracao/blob/main/Noticiasgoogle_DSA.ipynb\" target=\"_parent\"><img src=\"https://colab.research.google.com/assets/colab-badge.svg\" alt=\"Open In Colab\"/></a>"
      ]
    },
    {
      "cell_type": "markdown",
      "source": [
        "#AULA WEBSCRAPING DA UNIVESP DO YOUTUBE PARA DATA SCIENCE"
      ],
      "metadata": {
        "id": "t1qmzPmFCBJZ"
      }
    },
    {
      "cell_type": "markdown",
      "source": [
        "USO DO BEAUTIFULSOUP"
      ],
      "metadata": {
        "id": "nzwX3wVgCLQs"
      }
    },
    {
      "cell_type": "code",
      "source": [
        "import urllib.request"
      ],
      "metadata": {
        "id": "ftB2PpDcsjWY"
      },
      "execution_count": 1,
      "outputs": []
    },
    {
      "cell_type": "code",
      "source": [
        "from urllib.request import urlopen as uReq"
      ],
      "metadata": {
        "id": "VkTaMwT0cnWU"
      },
      "execution_count": 2,
      "outputs": []
    },
    {
      "cell_type": "code",
      "execution_count": 3,
      "metadata": {
        "id": "xC1zb9jpbYmR"
      },
      "outputs": [],
      "source": [
        "import requests"
      ]
    },
    {
      "cell_type": "code",
      "source": [
        "from bs4 import BeautifulSoup"
      ],
      "metadata": {
        "id": "-poO6WlCiqVw"
      },
      "execution_count": 4,
      "outputs": []
    },
    {
      "cell_type": "code",
      "source": [
        "import pandas as pd"
      ],
      "metadata": {
        "id": "5dLyqLsqiupn"
      },
      "execution_count": 5,
      "outputs": []
    },
    {
      "cell_type": "code",
      "source": [
        "html=requests.get(\"https://www.google.com/search?q=ciencia+de+dados+E+engenharia+de+software+E+machine+learning&sca_esv=4b3e726407594cc1&tbs=qdr:m,lr:lang_1pt&source=lnt&lr=lang_pt&sa=X&ved=2ahUKEwjG8rCtoO-EAxVWqpUCHUsDAIQQpwV6BAgMEAc&biw=767&bih=694&dpr=1.25\")"
      ],
      "metadata": {
        "id": "CN6P0i_tiwTM"
      },
      "execution_count": 43,
      "outputs": []
    },
    {
      "cell_type": "code",
      "source": [
        "html"
      ],
      "metadata": {
        "colab": {
          "base_uri": "https://localhost:8080/"
        },
        "id": "gDZx4xzri-ef",
        "outputId": "b87e7d9e-b918-4509-fccc-aa901d94da55"
      },
      "execution_count": 44,
      "outputs": [
        {
          "output_type": "execute_result",
          "data": {
            "text/plain": [
              "<Response [200]>"
            ]
          },
          "metadata": {},
          "execution_count": 44
        }
      ]
    },
    {
      "cell_type": "code",
      "source": [
        "soup=BeautifulSoup(html.text,'html.parser')"
      ],
      "metadata": {
        "id": "YZkn-APvjqI3"
      },
      "execution_count": 45,
      "outputs": []
    },
    {
      "cell_type": "code",
      "source": [
        "soup.head"
      ],
      "metadata": {
        "colab": {
          "base_uri": "https://localhost:8080/"
        },
        "id": "5Yb1RNI09KSL",
        "outputId": "658e90f0-9957-4dd1-e72e-016398c48fd1"
      },
      "execution_count": 46,
      "outputs": [
        {
          "output_type": "execute_result",
          "data": {
            "text/plain": [
              "<head><meta charset=\"utf-8\"/><meta content=\"AjoCq8Zg5PcXgfl/SoTikc1e/dzQCdxW0fvo8FxmdXtMpTHFSPThDszr2GTn4aDO9n/lpkW3Zv/js+E6AktuqgkAAABveyJvcmlnaW4iOiJodHRwczovL2dvb2dsZS5jb206NDQzIiwiZmVhdHVyZSI6IkxvbmdBbmltYXRpb25GcmFtZVRpbWluZyIsImV4cGlyeSI6MTcwOTY4MzE5OSwiaXNTdWJkb21haW4iOnRydWV9\" http-equiv=\"origin-trial\"/><meta content=\"/images/branding/googleg/1x/googleg_standard_color_128dp.png\" itemprop=\"image\"/><title>ciencia de dados E engenharia de software E machine learning - Google Search</title><script nonce=\"EwKK-u6r7FPOUgwGc715yA\">(function(){\n",
              "document.documentElement.addEventListener(\"submit\",function(b){var a;if(a=b.target){var c=a.getAttribute(\"data-submitfalse\");a=\"1\"===c||\"q\"===c&&!a.elements.q.value?!0:!1}else a=!1;a&&(b.preventDefault(),b.stopPropagation())},!0);document.documentElement.addEventListener(\"click\",function(b){var a;a:{for(a=b.target;a&&a!==document.documentElement;a=a.parentElement)if(\"A\"===a.tagName){a=\"1\"===a.getAttribute(\"data-nohref\");break a}a=!1}a&&b.preventDefault()},!0);}).call(this);(function(){var a=window.performance;window.start=Date.now();a:{var b=window;if(a){var c=a.timing;if(c){var d=c.navigationStart,f=c.responseStart;if(f>d&&f<=window.start){window.start=f;b.wsrt=f-d;break a}}a.now&&(b.wsrt=Math.floor(a.now()))}}window.google=window.google||{};var h=function(g){g&&g.target.setAttribute(\"data-iml\",String(Date.now()))};document.documentElement.addEventListener(\"load\",h,!0);google.rglh=function(){document.documentElement.removeEventListener(\"load\",h,!0)};}).call(this);(function(){window.google.erd={jsr:1,bv:1969,de:true};})();(function(){var sdo=false;var mei=10;\n",
              "var h=this||self;var k,l=null!=(k=h.mei)?k:1,n,p=null!=(n=h.sdo)?n:!0,q=0,r,t=google.erd,v=t.jsr;google.ml=function(a,b,d,m,e){e=void 0===e?2:e;b&&(r=a&&a.message);void 0===d&&(d={});d.cad=\"ple_\"+google.ple+\".aple_\"+google.aple;if(google.dl)return google.dl(a,e,d),null;b=d;if(0>v){window.console&&console.error(a,b);if(-2===v)throw a;b=!1}else b=!a||!a.message||\"Error loading script\"===a.message||q>=l&&!m?!1:!0;if(!b)return null;q++;d=d||{};b=encodeURIComponent;var c=\"/gen_204?atyp=i&ei=\"+b(google.kEI);google.kEXPI&&(c+=\"&jexpid=\"+b(google.kEXPI));c+=\"&srcpg=\"+b(google.sn)+\"&jsr=\"+b(t.jsr)+\"&bver=\"+\n",
              "b(t.bv);var f=a.lineNumber;void 0!==f&&(c+=\"&line=\"+f);var g=a.fileName;g&&(0<g.indexOf(\"-extension:/\")&&(e=3),c+=\"&script=\"+b(g),f&&g===window.location.href&&(f=document.documentElement.outerHTML.split(\"\\n\")[f],c+=\"&cad=\"+b(f?f.substring(0,300):\"No script found.\")));google.ple&&1===google.ple&&(e=2);c+=\"&jsel=\"+e;for(var u in d)c+=\"&\",c+=b(u),c+=\"=\",c+=b(d[u]);c=c+\"&emsg=\"+b(a.name+\": \"+a.message);c=c+\"&jsst=\"+b(a.stack||\"N/A\");12288<=c.length&&(c=c.substr(0,12288));a=c;m||google.log(0,\"\",a);return a};window.onerror=function(a,b,d,m,e){r!==a&&(a=e instanceof Error?e:Error(a),void 0===d||\"lineNumber\"in a||(a.lineNumber=d),void 0===b||\"fileName\"in a||(a.fileName=b),google.ml(a,!1,void 0,!1,\"SyntaxError\"===a.name||\"SyntaxError\"===a.message.substring(0,11)||-1!==a.message.indexOf(\"Script error\")?3:0));r=null;p&&q>=l&&(window.onerror=null)};})();(function(){var c=[],e=0;window.ping=function(b){-1==b.indexOf(\"&zx\")&&(b+=\"&zx=\"+Date.now());var a=new Image,d=e++;c[d]=a;a.onerror=a.onload=a.onabort=function(){delete c[d]};a.src=b};}).call(this);</script><style>a{color:#1a0dab;text-decoration:none;tap-highlight-color:rgba(0,0,0,.10)}a:visited{color:#4b11a8}a:hover{text-decoration:underline}img{border:0}html{font-family:arial,sans-serif;font-size:14px;line-height:20px;text-size-adjust:100%;color:#3c4043;word-wrap:break-word;background-color:#fff}.bRsWnc{background-color:#fff;border-top:1px solid #dadce0;height:39px;overflow:hidden}.N6RWV{height:51px;overflow-scrolling:touch;overflow-x:auto;overflow-y:hidden}.Uv67qb{box-pack:justify;font-size:12px;line-height:37px;justify-content:space-between;justify-content:space-between}.Uv67qb a,.Uv67qb span{color:#70757a;display:block;flex:none;padding:0 16px;text-align:center;text-transform:uppercase;}span.OXXup{border-bottom:2px solid #4285f4;color:#4285f4;font-weight:bold}a.eZt8xd:visited{color:#70757a}.FElbsf{border-left:1px solid rgba(0,0,0,.12)}header article{overflow:visible}.Pg70bf{height:39px;display:box;display:flex;display:flex;width:100%}.H0PQec{position:relative;flex:1}.sbc{display:flex;width:100%}.Pg70bf input{margin:2px 4px 2px 8px;}.x{width:26px;color:#70757a;font:27px/38px arial, sans-serif;line-height:40px;}#qdClwb{flex:0 0 auto;width:39px;height:39px;border-bottom:0;padding:0;border-top-right-radius:8px;background-color:#1a73e8;border:1px solid #1a73e8;background-image:url(data:image/gif;base64,R0lGODdhJAAjAPIHAODr/nCk+MPZ/FmV96zK+/7+/5K5+kqL9iwAAAAAJAAjAEADani63P4wykmbKcQRXDscQAEMXmmeaLQVLCukzyC09AjfeK7v/MAajACLhPMVAgwjsUcEiZa8xgAYrVqv2Kx2iwsIAAABknfBBAKrTE4IcMyot8ur8datqIbQfJdnAfo2WE6BV05wXIiJigkAOw==);}.sc{font-size:16px;position:absolute;top:39px;left:0;right:0;box-shadow:0 2px 5px rgba(0,0,0,.2);z-index:2;background-color:#fff}.sc>div{padding:10px 10px;padding-left:16px;padding-left:14px;border-top:1px solid #dfe1e5;}.scs{background-color:#fafafa;}.noHIxc{display:block;font-size:16px;padding:0 0 0 8px;flex:1;height:35px;outline:none;border:none;width:100%;-webkit-tap-highlight-color:rgba(0,0,0,0);overflow:hidden;}.sbc input[type=text]{background:none}.bz1lBb{background-color:#fff;border-radius:8px 8px 0 0;box-shadow:0 0 0 1px #dfe1e5;margin-top:24px;}.KP7LCb{border-radius:0 0 8px 8px;box-shadow:0px 1px 0px 1px #dfe1e5;margin-bottom:30px;overflow:hidden}html{background-color:#fff}body{margin:0 auto 0 156px;max-width:652px;min-width:652px;padding:0 8px}.cOl4Id{letter-spacing:-1px;text-align:center;font:22pt Futura, Arial, sans-serif;font-smoothing:antialiased;height:37px;padding:32px 28px 0 24px;position:absolute;left:0;top:0}.cOl4Id span{display:inline-block}.V6gwVd{color:#4285f4}.iWkuvd{color:#ea4335}.cDrQ7{color:#fcc934}.ntlR9{color:#34a853}.tJ3Myc{-webkit-transform:rotate(-20deg);position:relative;left:-1px;display:inline-block}footer{text-align:center;margin-top:18px}footer a,footer a:visited,.smiUbb{color:#70757a}.xeDNfc{margin:0 13px;display:inline-block}#EOlPnc{margin-top:36px}#EOlPnc>div{margin:20px}.Srfpq{color:#70757a}</style></head>"
            ]
          },
          "metadata": {},
          "execution_count": 46
        }
      ]
    },
    {
      "cell_type": "code",
      "source": [
        "soup.title#aqui mostra como a busca foi feita no google"
      ],
      "metadata": {
        "colab": {
          "base_uri": "https://localhost:8080/"
        },
        "id": "VS-tBXi-9P_F",
        "outputId": "0124e48e-f163-4110-8ed4-c8ead57bb8ba"
      },
      "execution_count": 47,
      "outputs": [
        {
          "output_type": "execute_result",
          "data": {
            "text/plain": [
              "<title>ciencia de dados E engenharia de software E machine learning - Google Search</title>"
            ]
          },
          "metadata": {},
          "execution_count": 47
        }
      ]
    },
    {
      "cell_type": "code",
      "source": [
        "head_tag = soup.head"
      ],
      "metadata": {
        "id": "kHDTALbF93n2"
      },
      "execution_count": 48,
      "outputs": []
    },
    {
      "cell_type": "code",
      "source": [
        "head_tag.contents"
      ],
      "metadata": {
        "id": "mY14Zw6_-AAq",
        "colab": {
          "base_uri": "https://localhost:8080/"
        },
        "outputId": "6ac29e06-e8cf-4839-b600-7f5bb95f8b8f"
      },
      "execution_count": 49,
      "outputs": [
        {
          "output_type": "execute_result",
          "data": {
            "text/plain": [
              "[<meta charset=\"utf-8\"/>,\n",
              " <meta content=\"AjoCq8Zg5PcXgfl/SoTikc1e/dzQCdxW0fvo8FxmdXtMpTHFSPThDszr2GTn4aDO9n/lpkW3Zv/js+E6AktuqgkAAABveyJvcmlnaW4iOiJodHRwczovL2dvb2dsZS5jb206NDQzIiwiZmVhdHVyZSI6IkxvbmdBbmltYXRpb25GcmFtZVRpbWluZyIsImV4cGlyeSI6MTcwOTY4MzE5OSwiaXNTdWJkb21haW4iOnRydWV9\" http-equiv=\"origin-trial\"/>,\n",
              " <meta content=\"/images/branding/googleg/1x/googleg_standard_color_128dp.png\" itemprop=\"image\"/>,\n",
              " <title>ciencia de dados E engenharia de software E machine learning - Google Search</title>,\n",
              " <script nonce=\"EwKK-u6r7FPOUgwGc715yA\">(function(){\n",
              " document.documentElement.addEventListener(\"submit\",function(b){var a;if(a=b.target){var c=a.getAttribute(\"data-submitfalse\");a=\"1\"===c||\"q\"===c&&!a.elements.q.value?!0:!1}else a=!1;a&&(b.preventDefault(),b.stopPropagation())},!0);document.documentElement.addEventListener(\"click\",function(b){var a;a:{for(a=b.target;a&&a!==document.documentElement;a=a.parentElement)if(\"A\"===a.tagName){a=\"1\"===a.getAttribute(\"data-nohref\");break a}a=!1}a&&b.preventDefault()},!0);}).call(this);(function(){var a=window.performance;window.start=Date.now();a:{var b=window;if(a){var c=a.timing;if(c){var d=c.navigationStart,f=c.responseStart;if(f>d&&f<=window.start){window.start=f;b.wsrt=f-d;break a}}a.now&&(b.wsrt=Math.floor(a.now()))}}window.google=window.google||{};var h=function(g){g&&g.target.setAttribute(\"data-iml\",String(Date.now()))};document.documentElement.addEventListener(\"load\",h,!0);google.rglh=function(){document.documentElement.removeEventListener(\"load\",h,!0)};}).call(this);(function(){window.google.erd={jsr:1,bv:1969,de:true};})();(function(){var sdo=false;var mei=10;\n",
              " var h=this||self;var k,l=null!=(k=h.mei)?k:1,n,p=null!=(n=h.sdo)?n:!0,q=0,r,t=google.erd,v=t.jsr;google.ml=function(a,b,d,m,e){e=void 0===e?2:e;b&&(r=a&&a.message);void 0===d&&(d={});d.cad=\"ple_\"+google.ple+\".aple_\"+google.aple;if(google.dl)return google.dl(a,e,d),null;b=d;if(0>v){window.console&&console.error(a,b);if(-2===v)throw a;b=!1}else b=!a||!a.message||\"Error loading script\"===a.message||q>=l&&!m?!1:!0;if(!b)return null;q++;d=d||{};b=encodeURIComponent;var c=\"/gen_204?atyp=i&ei=\"+b(google.kEI);google.kEXPI&&(c+=\"&jexpid=\"+b(google.kEXPI));c+=\"&srcpg=\"+b(google.sn)+\"&jsr=\"+b(t.jsr)+\"&bver=\"+\n",
              " b(t.bv);var f=a.lineNumber;void 0!==f&&(c+=\"&line=\"+f);var g=a.fileName;g&&(0<g.indexOf(\"-extension:/\")&&(e=3),c+=\"&script=\"+b(g),f&&g===window.location.href&&(f=document.documentElement.outerHTML.split(\"\\n\")[f],c+=\"&cad=\"+b(f?f.substring(0,300):\"No script found.\")));google.ple&&1===google.ple&&(e=2);c+=\"&jsel=\"+e;for(var u in d)c+=\"&\",c+=b(u),c+=\"=\",c+=b(d[u]);c=c+\"&emsg=\"+b(a.name+\": \"+a.message);c=c+\"&jsst=\"+b(a.stack||\"N/A\");12288<=c.length&&(c=c.substr(0,12288));a=c;m||google.log(0,\"\",a);return a};window.onerror=function(a,b,d,m,e){r!==a&&(a=e instanceof Error?e:Error(a),void 0===d||\"lineNumber\"in a||(a.lineNumber=d),void 0===b||\"fileName\"in a||(a.fileName=b),google.ml(a,!1,void 0,!1,\"SyntaxError\"===a.name||\"SyntaxError\"===a.message.substring(0,11)||-1!==a.message.indexOf(\"Script error\")?3:0));r=null;p&&q>=l&&(window.onerror=null)};})();(function(){var c=[],e=0;window.ping=function(b){-1==b.indexOf(\"&zx\")&&(b+=\"&zx=\"+Date.now());var a=new Image,d=e++;c[d]=a;a.onerror=a.onload=a.onabort=function(){delete c[d]};a.src=b};}).call(this);</script>,\n",
              " <style>a{color:#1a0dab;text-decoration:none;tap-highlight-color:rgba(0,0,0,.10)}a:visited{color:#4b11a8}a:hover{text-decoration:underline}img{border:0}html{font-family:arial,sans-serif;font-size:14px;line-height:20px;text-size-adjust:100%;color:#3c4043;word-wrap:break-word;background-color:#fff}.bRsWnc{background-color:#fff;border-top:1px solid #dadce0;height:39px;overflow:hidden}.N6RWV{height:51px;overflow-scrolling:touch;overflow-x:auto;overflow-y:hidden}.Uv67qb{box-pack:justify;font-size:12px;line-height:37px;justify-content:space-between;justify-content:space-between}.Uv67qb a,.Uv67qb span{color:#70757a;display:block;flex:none;padding:0 16px;text-align:center;text-transform:uppercase;}span.OXXup{border-bottom:2px solid #4285f4;color:#4285f4;font-weight:bold}a.eZt8xd:visited{color:#70757a}.FElbsf{border-left:1px solid rgba(0,0,0,.12)}header article{overflow:visible}.Pg70bf{height:39px;display:box;display:flex;display:flex;width:100%}.H0PQec{position:relative;flex:1}.sbc{display:flex;width:100%}.Pg70bf input{margin:2px 4px 2px 8px;}.x{width:26px;color:#70757a;font:27px/38px arial, sans-serif;line-height:40px;}#qdClwb{flex:0 0 auto;width:39px;height:39px;border-bottom:0;padding:0;border-top-right-radius:8px;background-color:#1a73e8;border:1px solid #1a73e8;background-image:url(data:image/gif;base64,R0lGODdhJAAjAPIHAODr/nCk+MPZ/FmV96zK+/7+/5K5+kqL9iwAAAAAJAAjAEADani63P4wykmbKcQRXDscQAEMXmmeaLQVLCukzyC09AjfeK7v/MAajACLhPMVAgwjsUcEiZa8xgAYrVqv2Kx2iwsIAAABknfBBAKrTE4IcMyot8ur8datqIbQfJdnAfo2WE6BV05wXIiJigkAOw==);}.sc{font-size:16px;position:absolute;top:39px;left:0;right:0;box-shadow:0 2px 5px rgba(0,0,0,.2);z-index:2;background-color:#fff}.sc>div{padding:10px 10px;padding-left:16px;padding-left:14px;border-top:1px solid #dfe1e5;}.scs{background-color:#fafafa;}.noHIxc{display:block;font-size:16px;padding:0 0 0 8px;flex:1;height:35px;outline:none;border:none;width:100%;-webkit-tap-highlight-color:rgba(0,0,0,0);overflow:hidden;}.sbc input[type=text]{background:none}.bz1lBb{background-color:#fff;border-radius:8px 8px 0 0;box-shadow:0 0 0 1px #dfe1e5;margin-top:24px;}.KP7LCb{border-radius:0 0 8px 8px;box-shadow:0px 1px 0px 1px #dfe1e5;margin-bottom:30px;overflow:hidden}html{background-color:#fff}body{margin:0 auto 0 156px;max-width:652px;min-width:652px;padding:0 8px}.cOl4Id{letter-spacing:-1px;text-align:center;font:22pt Futura, Arial, sans-serif;font-smoothing:antialiased;height:37px;padding:32px 28px 0 24px;position:absolute;left:0;top:0}.cOl4Id span{display:inline-block}.V6gwVd{color:#4285f4}.iWkuvd{color:#ea4335}.cDrQ7{color:#fcc934}.ntlR9{color:#34a853}.tJ3Myc{-webkit-transform:rotate(-20deg);position:relative;left:-1px;display:inline-block}footer{text-align:center;margin-top:18px}footer a,footer a:visited,.smiUbb{color:#70757a}.xeDNfc{margin:0 13px;display:inline-block}#EOlPnc{margin-top:36px}#EOlPnc>div{margin:20px}.Srfpq{color:#70757a}</style>]"
            ]
          },
          "metadata": {},
          "execution_count": 49
        }
      ]
    },
    {
      "cell_type": "code",
      "source": [
        "title_tag = head_tag.contents[3]"
      ],
      "metadata": {
        "id": "LMvFAGHC-BNM"
      },
      "execution_count": 50,
      "outputs": []
    },
    {
      "cell_type": "code",
      "source": [
        "title_tag"
      ],
      "metadata": {
        "id": "XKLqtQB4-HaN",
        "colab": {
          "base_uri": "https://localhost:8080/"
        },
        "outputId": "d81fa8e9-bdfe-49cf-a613-6c283d9d739e"
      },
      "execution_count": 51,
      "outputs": [
        {
          "output_type": "execute_result",
          "data": {
            "text/plain": [
              "<title>ciencia de dados E engenharia de software E machine learning - Google Search</title>"
            ]
          },
          "metadata": {},
          "execution_count": 51
        }
      ]
    },
    {
      "cell_type": "code",
      "source": [
        "for child in soup.title.children:\n",
        "    print(child)"
      ],
      "metadata": {
        "colab": {
          "base_uri": "https://localhost:8080/"
        },
        "id": "VQIKMBM09vqF",
        "outputId": "385de38a-fed0-485e-a0df-6ad6024920bb"
      },
      "execution_count": 52,
      "outputs": [
        {
          "output_type": "stream",
          "name": "stdout",
          "text": [
            "ciencia de dados E engenharia de software E machine learning - Google Search\n"
          ]
        }
      ]
    },
    {
      "cell_type": "code",
      "source": [
        "print(soup.prettify())"
      ],
      "metadata": {
        "colab": {
          "base_uri": "https://localhost:8080/"
        },
        "id": "ws16bs7XjswJ",
        "outputId": "da7189b8-edee-483c-9708-f59e11614da3"
      },
      "execution_count": 53,
      "outputs": [
        {
          "output_type": "stream",
          "name": "stdout",
          "text": [
            "<!DOCTYPE html>\n",
            "<html lang=\"en\">\n",
            " <head>\n",
            "  <meta charset=\"utf-8\"/>\n",
            "  <meta content=\"AjoCq8Zg5PcXgfl/SoTikc1e/dzQCdxW0fvo8FxmdXtMpTHFSPThDszr2GTn4aDO9n/lpkW3Zv/js+E6AktuqgkAAABveyJvcmlnaW4iOiJodHRwczovL2dvb2dsZS5jb206NDQzIiwiZmVhdHVyZSI6IkxvbmdBbmltYXRpb25GcmFtZVRpbWluZyIsImV4cGlyeSI6MTcwOTY4MzE5OSwiaXNTdWJkb21haW4iOnRydWV9\" http-equiv=\"origin-trial\"/>\n",
            "  <meta content=\"/images/branding/googleg/1x/googleg_standard_color_128dp.png\" itemprop=\"image\"/>\n",
            "  <title>\n",
            "   ciencia de dados E engenharia de software E machine learning - Google Search\n",
            "  </title>\n",
            "  <script nonce=\"EwKK-u6r7FPOUgwGc715yA\">\n",
            "   (function(){\n",
            "document.documentElement.addEventListener(\"submit\",function(b){var a;if(a=b.target){var c=a.getAttribute(\"data-submitfalse\");a=\"1\"===c||\"q\"===c&&!a.elements.q.value?!0:!1}else a=!1;a&&(b.preventDefault(),b.stopPropagation())},!0);document.documentElement.addEventListener(\"click\",function(b){var a;a:{for(a=b.target;a&&a!==document.documentElement;a=a.parentElement)if(\"A\"===a.tagName){a=\"1\"===a.getAttribute(\"data-nohref\");break a}a=!1}a&&b.preventDefault()},!0);}).call(this);(function(){var a=window.performance;window.start=Date.now();a:{var b=window;if(a){var c=a.timing;if(c){var d=c.navigationStart,f=c.responseStart;if(f>d&&f<=window.start){window.start=f;b.wsrt=f-d;break a}}a.now&&(b.wsrt=Math.floor(a.now()))}}window.google=window.google||{};var h=function(g){g&&g.target.setAttribute(\"data-iml\",String(Date.now()))};document.documentElement.addEventListener(\"load\",h,!0);google.rglh=function(){document.documentElement.removeEventListener(\"load\",h,!0)};}).call(this);(function(){window.google.erd={jsr:1,bv:1969,de:true};})();(function(){var sdo=false;var mei=10;\n",
            "var h=this||self;var k,l=null!=(k=h.mei)?k:1,n,p=null!=(n=h.sdo)?n:!0,q=0,r,t=google.erd,v=t.jsr;google.ml=function(a,b,d,m,e){e=void 0===e?2:e;b&&(r=a&&a.message);void 0===d&&(d={});d.cad=\"ple_\"+google.ple+\".aple_\"+google.aple;if(google.dl)return google.dl(a,e,d),null;b=d;if(0>v){window.console&&console.error(a,b);if(-2===v)throw a;b=!1}else b=!a||!a.message||\"Error loading script\"===a.message||q>=l&&!m?!1:!0;if(!b)return null;q++;d=d||{};b=encodeURIComponent;var c=\"/gen_204?atyp=i&ei=\"+b(google.kEI);google.kEXPI&&(c+=\"&jexpid=\"+b(google.kEXPI));c+=\"&srcpg=\"+b(google.sn)+\"&jsr=\"+b(t.jsr)+\"&bver=\"+\n",
            "b(t.bv);var f=a.lineNumber;void 0!==f&&(c+=\"&line=\"+f);var g=a.fileName;g&&(0<g.indexOf(\"-extension:/\")&&(e=3),c+=\"&script=\"+b(g),f&&g===window.location.href&&(f=document.documentElement.outerHTML.split(\"\\n\")[f],c+=\"&cad=\"+b(f?f.substring(0,300):\"No script found.\")));google.ple&&1===google.ple&&(e=2);c+=\"&jsel=\"+e;for(var u in d)c+=\"&\",c+=b(u),c+=\"=\",c+=b(d[u]);c=c+\"&emsg=\"+b(a.name+\": \"+a.message);c=c+\"&jsst=\"+b(a.stack||\"N/A\");12288<=c.length&&(c=c.substr(0,12288));a=c;m||google.log(0,\"\",a);return a};window.onerror=function(a,b,d,m,e){r!==a&&(a=e instanceof Error?e:Error(a),void 0===d||\"lineNumber\"in a||(a.lineNumber=d),void 0===b||\"fileName\"in a||(a.fileName=b),google.ml(a,!1,void 0,!1,\"SyntaxError\"===a.name||\"SyntaxError\"===a.message.substring(0,11)||-1!==a.message.indexOf(\"Script error\")?3:0));r=null;p&&q>=l&&(window.onerror=null)};})();(function(){var c=[],e=0;window.ping=function(b){-1==b.indexOf(\"&zx\")&&(b+=\"&zx=\"+Date.now());var a=new Image,d=e++;c[d]=a;a.onerror=a.onload=a.onabort=function(){delete c[d]};a.src=b};}).call(this);\n",
            "  </script>\n",
            "  <style>\n",
            "   a{color:#1a0dab;text-decoration:none;tap-highlight-color:rgba(0,0,0,.10)}a:visited{color:#4b11a8}a:hover{text-decoration:underline}img{border:0}html{font-family:arial,sans-serif;font-size:14px;line-height:20px;text-size-adjust:100%;color:#3c4043;word-wrap:break-word;background-color:#fff}.bRsWnc{background-color:#fff;border-top:1px solid #dadce0;height:39px;overflow:hidden}.N6RWV{height:51px;overflow-scrolling:touch;overflow-x:auto;overflow-y:hidden}.Uv67qb{box-pack:justify;font-size:12px;line-height:37px;justify-content:space-between;justify-content:space-between}.Uv67qb a,.Uv67qb span{color:#70757a;display:block;flex:none;padding:0 16px;text-align:center;text-transform:uppercase;}span.OXXup{border-bottom:2px solid #4285f4;color:#4285f4;font-weight:bold}a.eZt8xd:visited{color:#70757a}.FElbsf{border-left:1px solid rgba(0,0,0,.12)}header article{overflow:visible}.Pg70bf{height:39px;display:box;display:flex;display:flex;width:100%}.H0PQec{position:relative;flex:1}.sbc{display:flex;width:100%}.Pg70bf input{margin:2px 4px 2px 8px;}.x{width:26px;color:#70757a;font:27px/38px arial, sans-serif;line-height:40px;}#qdClwb{flex:0 0 auto;width:39px;height:39px;border-bottom:0;padding:0;border-top-right-radius:8px;background-color:#1a73e8;border:1px solid #1a73e8;background-image:url(data:image/gif;base64,R0lGODdhJAAjAPIHAODr/nCk+MPZ/FmV96zK+/7+/5K5+kqL9iwAAAAAJAAjAEADani63P4wykmbKcQRXDscQAEMXmmeaLQVLCukzyC09AjfeK7v/MAajACLhPMVAgwjsUcEiZa8xgAYrVqv2Kx2iwsIAAABknfBBAKrTE4IcMyot8ur8datqIbQfJdnAfo2WE6BV05wXIiJigkAOw==);}.sc{font-size:16px;position:absolute;top:39px;left:0;right:0;box-shadow:0 2px 5px rgba(0,0,0,.2);z-index:2;background-color:#fff}.sc>div{padding:10px 10px;padding-left:16px;padding-left:14px;border-top:1px solid #dfe1e5;}.scs{background-color:#fafafa;}.noHIxc{display:block;font-size:16px;padding:0 0 0 8px;flex:1;height:35px;outline:none;border:none;width:100%;-webkit-tap-highlight-color:rgba(0,0,0,0);overflow:hidden;}.sbc input[type=text]{background:none}.bz1lBb{background-color:#fff;border-radius:8px 8px 0 0;box-shadow:0 0 0 1px #dfe1e5;margin-top:24px;}.KP7LCb{border-radius:0 0 8px 8px;box-shadow:0px 1px 0px 1px #dfe1e5;margin-bottom:30px;overflow:hidden}html{background-color:#fff}body{margin:0 auto 0 156px;max-width:652px;min-width:652px;padding:0 8px}.cOl4Id{letter-spacing:-1px;text-align:center;font:22pt Futura, Arial, sans-serif;font-smoothing:antialiased;height:37px;padding:32px 28px 0 24px;position:absolute;left:0;top:0}.cOl4Id span{display:inline-block}.V6gwVd{color:#4285f4}.iWkuvd{color:#ea4335}.cDrQ7{color:#fcc934}.ntlR9{color:#34a853}.tJ3Myc{-webkit-transform:rotate(-20deg);position:relative;left:-1px;display:inline-block}footer{text-align:center;margin-top:18px}footer a,footer a:visited,.smiUbb{color:#70757a}.xeDNfc{margin:0 13px;display:inline-block}#EOlPnc{margin-top:36px}#EOlPnc>div{margin:20px}.Srfpq{color:#70757a}\n",
            "  </style>\n",
            " </head>\n",
            " <body jsmodel=\"hspDDf \">\n",
            "  <header id=\"hdr\">\n",
            "   <script nonce=\"EwKK-u6r7FPOUgwGc715yA\">\n",
            "    (function(){\n",
            "var k=this||self,l=function(a){var b=typeof a;return\"object\"==b&&null!=a||\"function\"==b},m=function(a,b){function c(){}c.prototype=b.prototype;a.j=b.prototype;a.prototype=new c;a.prototype.constructor=a;a.l=function(d,e,f){for(var g=Array(arguments.length-2),h=2;h<arguments.length;h++)g[h-2]=arguments[h];return b.prototype[e].apply(d,g)}};var n=Array.prototype.indexOf?function(a,b){return Array.prototype.indexOf.call(a,b,void 0)}:function(a,b){if(\"string\"===typeof a)return\"string\"!==typeof b||1!=b.length?-1:a.indexOf(b,0);for(var c=0;c<a.length;c++)if(c in a&&a[c]===b)return c;return-1};var p=function(a){return\"string\"==typeof a.className?a.className:a.getAttribute&&a.getAttribute(\"class\")||\"\"},q=function(a,b){\"string\"==typeof a.className?a.className=b:a.setAttribute&&a.setAttribute(\"class\",b)},r=function(a,b){a.classList?b=a.classList.contains(b):(a=a.classList?a.classList:p(a).match(/\\S+/g)||[],b=0<=n(a,b));return b},v=function(){var a=t,b=u;a.classList?a.classList.remove(b):r(a,b)&&q(a,Array.prototype.filter.call(a.classList?a.classList:p(a).match(/\\S+/g)||[],function(c){return c!=\n",
            "b}).join(\" \"))};function w(){var a=k.navigator;return a&&(a=a.userAgent)?a:\"\"};var x=function(a){x[\" \"](a);return a};x[\" \"]=function(){};var y=-1!=w().indexOf(\"Gecko\")&&!(-1!=w().toLowerCase().indexOf(\"webkit\")&&-1==w().indexOf(\"Edge\"))&&!(-1!=w().indexOf(\"Trident\")||-1!=w().indexOf(\"MSIE\"))&&-1==w().indexOf(\"Edge\");var z=function(a,b){this.type=a;this.target=b};z.prototype.g=function(){};var A=function(){if(!k.addEventListener||!Object.defineProperty)return!1;var a=!1,b=Object.defineProperty({},\"passive\",{get:function(){a=!0}});try{var c=function(){};k.addEventListener(\"test\",c,b);k.removeEventListener(\"test\",c,b)}catch(d){}return a}();var C=function(a){z.call(this,a?a.type:\"\");this.relatedTarget=this.target=null;this.button=this.screenY=this.screenX=this.clientY=this.clientX=0;this.key=\"\";this.keyCode=0;this.metaKey=this.shiftKey=this.altKey=this.ctrlKey=!1;this.state=null;this.pointerId=0;this.pointerType=\"\";this.h=null;if(a){var b=this.type=a.type,c=a.changedTouches&&a.changedTouches.length?a.changedTouches[0]:null;this.target=a.target||a.srcElement;var d=a.relatedTarget;if(d){if(y){a:{try{x(d.nodeName);var e=!0;break a}catch(f){}e=\n",
            "!1}e||(d=null)}}else\"mouseover\"==b?d=a.fromElement:\"mouseout\"==b&&(d=a.toElement);this.relatedTarget=d;c?(this.clientX=void 0!==c.clientX?c.clientX:c.pageX,this.clientY=void 0!==c.clientY?c.clientY:c.pageY,this.screenX=c.screenX||0,this.screenY=c.screenY||0):(this.clientX=void 0!==a.clientX?a.clientX:a.pageX,this.clientY=void 0!==a.clientY?a.clientY:a.pageY,this.screenX=a.screenX||0,this.screenY=a.screenY||0);this.button=a.button;this.keyCode=a.keyCode||0;this.key=a.key||\"\";this.ctrlKey=a.ctrlKey;this.altKey=a.altKey;this.shiftKey=a.shiftKey;this.metaKey=a.metaKey;this.pointerId=a.pointerId||0;this.pointerType=\"string\"===typeof a.pointerType?a.pointerType:B[a.pointerType]||\"\";this.state=a.state;this.h=a;a.defaultPrevented&&C.j.g.call(this)}};m(C,z);var B={2:\"touch\",3:\"pen\",4:\"mouse\"};C.prototype.g=function(){C.j.g.call(this);var a=this.h;a.preventDefault?a.preventDefault():a.returnValue=!1};var D=\"closure_listenable_\"+(1E6*Math.random()|0);var E=0;var F=function(a,b,c,d,e){this.listener=a;this.proxy=null;this.src=b;this.type=c;this.capture=!!d;this.h=e;this.key=++E;this.g=this.i=!1},G=function(a){a.g=!0;a.listener=null;a.proxy=null;a.src=null;a.h=null};var H=function(a){this.src=a;this.g={};this.h=0};H.prototype.add=function(a,b,c,d,e){var f=a.toString();a=this.g[f];a||(a=this.g[f]=[],this.h++);var g;a:{for(g=0;g<a.length;++g){var h=a[g];if(!h.g&&h.listener==b&&h.capture==!!d&&h.h==e)break a}g=-1}-1<g?(b=a[g],c||(b.i=!1)):(b=new F(b,this.src,f,!!d,e),b.i=c,a.push(b));return b};var I=\"closure_lm_\"+(1E6*Math.random()|0),J={},K=0,M=function(a,b,c,d,e){if(d&&d.once)return L(a,b,c,d,e);if(Array.isArray(b)){for(var f=0;f<b.length;f++)M(a,b[f],c,d,e);return null}c=N(c);return a&&a[D]?a.g(b,c,l(d)?!!d.capture:!!d,e):O(a,b,c,!1,d,e)},O=function(a,b,c,d,e,f){if(!b)throw Error(\"a\");var g=l(e)?!!e.capture:!!e,h=P(a);h||(a[I]=h=new H(a));c=h.add(b,c,d,g,f);if(c.proxy)return c;d=Q();c.proxy=d;d.src=a;d.listener=c;if(a.addEventListener)A||(e=g),void 0===e&&(e=!1),a.addEventListener(b.toString(),d,e);else if(a.attachEvent)a.attachEvent(R(b.toString()),d);else if(a.addListener&&a.removeListener)a.addListener(d);else throw Error(\"b\");K++;return c},Q=function(){var a=S,b=function(c){return a.call(b.src,b.listener,c)};return b},L=function(a,b,c,d,e){if(Array.isArray(b)){for(var f=0;f<b.length;f++)L(a,b[f],c,d,e);return null}c=N(c);return a&&a[D]?a.h(b,c,l(d)?!!d.capture:!!d,e):O(a,b,c,!0,d,e)},T=function(a){if(\"number\"!==typeof a&&a&&!a.g){var b=a.src;if(b&&b[D])b.s(a);else{var c=a.type,d=a.proxy;b.removeEventListener?b.removeEventListener(c,d,a.capture):b.detachEvent?b.detachEvent(R(c),d):b.addListener&&b.removeListener&&b.removeListener(d);K--;if(c=P(b)){d=a.type;if(d in c.g){var e=c.g[d],f=n(e,a),g;(g=0<=f)&&Array.prototype.splice.call(e,f,1);g&&(G(a),0==c.g[d].length&&(delete c.g[d],c.h--))}0==c.h&&(c.src=null,b[I]=null)}else G(a)}}},R=function(a){return a in J?J[a]:J[a]=\"on\"+a},S=function(a,b){if(a.g)a=!0;else{b=new C(b,this);var c=a.listener,d=a.h||a.src;a.i&&T(a);a=c.call(d,b)}return a},P=function(a){a=a[I];return a instanceof H?a:null},U=\"__closure_events_fn_\"+(1E9*Math.random()>>>0),N=function(a){if(\"function\"===typeof a)return a;a[U]||(a[U]=function(b){return a.handleEvent(b)});return a[U]};var u,t=document.documentElement,V;function W(){T(V);V=L(t,\"mousedown\",function(){v();X()},{capture:!0})}function X(){T(V);V=M(t,\"keydown\",function(a){if(9===a.keyCode){a=t;var b=u;if(a.classList)a.classList.add(b);else if(!r(a,b)){var c=p(a);q(a,c+(0<c.length?\" \"+b:b))}W()}})};u=\"zAoYTe\";X();}).call(this);\n",
            "   </script>\n",
            "   <div class=\"cOl4Id\">\n",
            "    <a href=\"/?sa=X&amp;ved=0ahUKEwiXyqvvoO-EAxUKFlkFHajtDygQOwgC\">\n",
            "     <span class=\"V6gwVd\">\n",
            "      G\n",
            "     </span>\n",
            "     <span class=\"iWkuvd\">\n",
            "      o\n",
            "     </span>\n",
            "     <span class=\"cDrQ7\">\n",
            "      o\n",
            "     </span>\n",
            "     <span class=\"V6gwVd\">\n",
            "      g\n",
            "     </span>\n",
            "     <span class=\"ntlR9\">\n",
            "      l\n",
            "     </span>\n",
            "     <span class=\"iWkuvd tJ3Myc\">\n",
            "      e\n",
            "     </span>\n",
            "    </a>\n",
            "   </div>\n",
            "   <div class=\"bz1lBb\">\n",
            "    <form class=\"Pg70bf\" id=\"sf\">\n",
            "     <input name=\"lr\" type=\"hidden\" value=\"lang_pt\"/>\n",
            "     <input name=\"sca_esv\" type=\"hidden\" value=\"4b3e726407594cc1\"/>\n",
            "     <input name=\"biw\" type=\"hidden\" value=\"767\"/>\n",
            "     <input name=\"bih\" type=\"hidden\" value=\"694\"/>\n",
            "     <input name=\"ie\" type=\"hidden\" value=\"ISO-8859-1\"/>\n",
            "     <input name=\"tbs\" type=\"hidden\" value=\"qdr:m,lr:lang_1pt\"/>\n",
            "     <div class=\"H0PQec\">\n",
            "      <div class=\"sbc esbc\">\n",
            "       <input autocapitalize=\"none\" autocomplete=\"off\" class=\"noHIxc\" name=\"q\" spellcheck=\"false\" type=\"text\" value=\"ciencia de dados E engenharia de software E machine learning\"/>\n",
            "       <input name=\"oq\" type=\"hidden\"/>\n",
            "       <input name=\"aqs\" type=\"hidden\"/>\n",
            "       <div class=\"x\">\n",
            "        ×\n",
            "       </div>\n",
            "       <div class=\"sc\">\n",
            "       </div>\n",
            "      </div>\n",
            "     </div>\n",
            "     <button id=\"qdClwb\" type=\"submit\">\n",
            "     </button>\n",
            "    </form>\n",
            "   </div>\n",
            "   <noscript>\n",
            "    <meta content=\"0;url=/search?q=ciencia+de+dados+E+engenharia+de+software+E+machine+learning&amp;lr=lang_pt&amp;sa=X&amp;sca_esv=4b3e726407594cc1&amp;biw=767&amp;bih=694&amp;ie=UTF-8&amp;tbs=qdr:m,lr:lang_1pt&amp;gbv=1&amp;sei=4JHwZZfaKoqs5NoPqNu_wAI\" http-equiv=\"refresh\"/>\n",
            "    <style>\n",
            "     table,div,span,p{display:none}\n",
            "    </style>\n",
            "    <div style=\"display:block\">\n",
            "     Please click\n",
            "     <a href=\"/search?q=ciencia+de+dados+E+engenharia+de+software+E+machine+learning&amp;lr=lang_pt&amp;sa=X&amp;sca_esv=4b3e726407594cc1&amp;biw=767&amp;bih=694&amp;ie=UTF-8&amp;tbs=qdr:m,lr:lang_1pt&amp;gbv=1&amp;sei=4JHwZZfaKoqs5NoPqNu_wAI\">\n",
            "      here\n",
            "     </a>\n",
            "     if you are not redirected within a few seconds.\n",
            "    </div>\n",
            "   </noscript>\n",
            "  </header>\n",
            "  <div id=\"main\">\n",
            "   <div>\n",
            "    <div class=\"KP7LCb\">\n",
            "     <div class=\"bRsWnc\">\n",
            "      <div class=\"N6RWV\">\n",
            "       <div class=\"Pg70bf Uv67qb\">\n",
            "        <span class=\"OXXup\">\n",
            "         All\n",
            "        </span>\n",
            "        <a class=\"eZt8xd\" href=\"/search?q=ciencia+de+dados+E+engenharia+de+software+E+machine+learning&amp;lr=lang_pt&amp;sca_esv=4b3e726407594cc1&amp;biw=767&amp;bih=694&amp;ie=UTF-8&amp;tbs=lr:lang_1pt&amp;tbm=bks&amp;source=lnms&amp;sa=X&amp;ved=0ahUKEwiXyqvvoO-EAxUKFlkFHajtDygQ_AUIBigB\">\n",
            "         Books\n",
            "        </a>\n",
            "        <a class=\"eZt8xd\" href=\"/search?q=ciencia+de+dados+E+engenharia+de+software+E+machine+learning&amp;lr=lang_pt&amp;sca_esv=4b3e726407594cc1&amp;biw=767&amp;bih=694&amp;ie=UTF-8&amp;tbs=lr:lang_1pt&amp;tbm=vid&amp;source=lnms&amp;sa=X&amp;ved=0ahUKEwiXyqvvoO-EAxUKFlkFHajtDygQ_AUIBygC\">\n",
            "         Videos\n",
            "        </a>\n",
            "        <a class=\"eZt8xd\" href=\"/search?q=ciencia+de+dados+E+engenharia+de+software+E+machine+learning&amp;lr=lang_pt&amp;sca_esv=4b3e726407594cc1&amp;biw=767&amp;bih=694&amp;ie=UTF-8&amp;tbs=lr:lang_1pt&amp;tbm=nws&amp;source=lnms&amp;sa=X&amp;ved=0ahUKEwiXyqvvoO-EAxUKFlkFHajtDygQ_AUICCgD\">\n",
            "         News\n",
            "        </a>\n",
            "        <a href=\"/search?q=ciencia+de+dados+E+engenharia+de+software+E+machine+learning&amp;lr=lang_pt&amp;sca_esv=4b3e726407594cc1&amp;biw=767&amp;bih=694&amp;ie=UTF-8&amp;tbs=lr:lang_1pt&amp;tbm=isch&amp;source=lnms&amp;sa=X&amp;ved=0ahUKEwiXyqvvoO-EAxUKFlkFHajtDygQ_AUICSgE\">\n",
            "         Images\n",
            "        </a>\n",
            "        <a href=\"/url?q=https://maps.google.com/maps%3Fq%3Dciencia%2Bde%2Bdados%2BE%2Bengenharia%2Bde%2Bsoftware%2BE%2Bmachine%2Blearning%26sca_esv%3D4b3e726407594cc1%26lr%3Dlang_pt%26biw%3D767%26bih%3D694%26dpr%3D1.25%26um%3D1%26ie%3DUTF-8%26ved%3D1t:200713%26ictx%3D111&amp;opi=89978449&amp;sa=U&amp;ved=0ahUKEwiXyqvvoO-EAxUKFlkFHajtDygQiaAMCAooBQ&amp;usg=AOvVaw1gU-GFG5-uPp4LxqdVMQjT\">\n",
            "         Maps\n",
            "        </a>\n",
            "        <a href=\"/url?q=/search%3Fq%3Dciencia%2Bde%2Bdados%2BE%2Bengenharia%2Bde%2Bsoftware%2BE%2Bmachine%2Blearning%26lr%3Dlang_pt%26sca_esv%3D4b3e726407594cc1%26biw%3D767%26bih%3D694%26ie%3DUTF-8%26tbs%3Dlr:lang_1pt%26tbm%3Dshop%26source%3Dlnms%26ved%3D1t:200713%26ictx%3D111&amp;opi=89978449&amp;sa=U&amp;ved=0ahUKEwiXyqvvoO-EAxUKFlkFHajtDygQiaAMCAsoBg&amp;usg=AOvVaw2OwZkjf8qxb3FbwmmXwNBe\">\n",
            "         Shopping\n",
            "        </a>\n",
            "        <div class=\"FElbsf\">\n",
            "         <a href=\"/advanced_search\" id=\"st-toggle\" role=\"button\" style=\"white-space:nowrap\">\n",
            "          Search tools\n",
            "         </a>\n",
            "        </div>\n",
            "       </div>\n",
            "      </div>\n",
            "     </div>\n",
            "    </div>\n",
            "    <div class=\"Pg70bf wEsjbd Gx5Zad xpd EtOod pkphOe\" id=\"st-card\">\n",
            "     <style>\n",
            "      .wEsjbd{height:44px;white-space:nowrap}.coPU8c{height:60px;overflow-scrolling:touch;overflow-x:auto;overflow-y:hidden}.Xj2aue{height:44px;overflow:hidden}.RnNGze{margin:11px 16px}.wEsjbd div,.wEsjbd a,.wEsjbd li{outline-width:0;outline:none}\n",
            "     </style>\n",
            "     <div class=\"Xj2aue\">\n",
            "      <div class=\"coPU8c\">\n",
            "       <div class=\"RnNGze\">\n",
            "        <style>\n",
            "         .PA9J5{display:inline-block}.RXaOfd{display:inline-block;height:22px;position:relative;padding-top:0;padding-bottom:0;padding-right:16px;padding-left:0;line-height:22px;cursor:pointer;text-transform:uppercase;font-size:12px;color:#70757a}.sa1toc{background:#fff;display:none;position:absolute;border:1px solid #dadce0;box-shadow:0 2px 4px rgba(0,0,0,.3);margin:0;white-space:nowrap;z-index:103;line-height:17px;padding-top:5px;padding-bottom:5px;padding-left:0}.PA9J5:hover .sa1toc{display:block}.mGSy8d a:active,.RXaOfd:active{color:#4285f4}\n",
            "        </style>\n",
            "        <div class=\"PA9J5\">\n",
            "         <div class=\"RXaOfd vQYuGf\" role=\"button\" tabindex=\"0\">\n",
            "          <style>\n",
            "           .TWMOUc{display:inline-block;padding-right:14px;white-space:nowrap}.vQYuGf{font-weight:bold}.OmTIzf{border-color:#909090 transparent;border-style:solid;border-width:4px 4px 0 4px;width:0;height:0;margin-left:-10px;top:50%;margin-top:-2px;position:absolute}.RXaOfd:active .OmTIzf{border-color:#4285f4 transparent}\n",
            "          </style>\n",
            "          <div class=\"TWMOUc\">\n",
            "           Search Portuguese pages\n",
            "          </div>\n",
            "          <span class=\"OmTIzf\">\n",
            "          </span>\n",
            "         </div>\n",
            "         <ul class=\"sa1toc ozatM\">\n",
            "          <style>\n",
            "           .ozatM{font-size:12px;text-transform:uppercase}.ozatM .yNFsl,.ozatM li{list-style-type:none;list-style-position:outside;list-style-image:none}.yNFsl.SkUj4c,.yNFsl a{color:#70757a;text-decoration:none;padding:6px 44px 6px 14px;line-height:17px;display:block}.SkUj4c{background-image:url(//ssl.gstatic.com/ui/v1/menu/checkmark2.png);background-position:right center;background-repeat:no-repeat}.SkUj4c:active{background-color:#f8f9fa}\n",
            "          </style>\n",
            "          <li class=\"yNFsl\">\n",
            "           <a href=\"/search?q=ciencia+de+dados+E+engenharia+de+software+E+machine+learning&amp;sca_esv=4b3e726407594cc1&amp;biw=767&amp;bih=694&amp;ie=UTF-8&amp;tbs=qdr:m&amp;tbas=0&amp;source=lnt&amp;sa=X&amp;ved=0ahUKEwiXyqvvoO-EAxUKFlkFHajtDygQpwUIDA\">\n",
            "            Any language\n",
            "           </a>\n",
            "          </li>\n",
            "          <li class=\"yNFsl SkUj4c\">\n",
            "           Search Portuguese pages\n",
            "          </li>\n",
            "         </ul>\n",
            "        </div>\n",
            "        <div class=\"PA9J5\">\n",
            "         <div class=\"RXaOfd vQYuGf\" role=\"button\" tabindex=\"0\">\n",
            "          <div class=\"TWMOUc\">\n",
            "           Past month\n",
            "          </div>\n",
            "          <span class=\"OmTIzf\">\n",
            "          </span>\n",
            "         </div>\n",
            "         <ul class=\"sa1toc ozatM\">\n",
            "          <li class=\"yNFsl\">\n",
            "           <a href=\"/search?q=ciencia+de+dados+E+engenharia+de+software+E+machine+learning&amp;lr=lang_pt&amp;sca_esv=4b3e726407594cc1&amp;biw=767&amp;bih=694&amp;ie=UTF-8&amp;tbs=lr:lang_1pt&amp;tbas=0&amp;source=lnt&amp;sa=X&amp;ved=0ahUKEwiXyqvvoO-EAxUKFlkFHajtDygQpwUIDg\">\n",
            "            Any time\n",
            "           </a>\n",
            "          </li>\n",
            "          <li class=\"yNFsl\">\n",
            "           <a href=\"/search?q=ciencia+de+dados+E+engenharia+de+software+E+machine+learning&amp;lr=lang_pt&amp;sca_esv=4b3e726407594cc1&amp;biw=767&amp;bih=694&amp;ie=UTF-8&amp;tbs=lr:lang_1pt,qdr:h&amp;source=lnt&amp;sa=X&amp;ved=0ahUKEwiXyqvvoO-EAxUKFlkFHajtDygQpwUIDw\">\n",
            "            Past hour\n",
            "           </a>\n",
            "          </li>\n",
            "          <li class=\"yNFsl\">\n",
            "           <a href=\"/search?q=ciencia+de+dados+E+engenharia+de+software+E+machine+learning&amp;lr=lang_pt&amp;sca_esv=4b3e726407594cc1&amp;biw=767&amp;bih=694&amp;ie=UTF-8&amp;tbs=lr:lang_1pt,qdr:d&amp;source=lnt&amp;sa=X&amp;ved=0ahUKEwiXyqvvoO-EAxUKFlkFHajtDygQpwUIEA\">\n",
            "            Past 24 hours\n",
            "           </a>\n",
            "          </li>\n",
            "          <li class=\"yNFsl\">\n",
            "           <a href=\"/search?q=ciencia+de+dados+E+engenharia+de+software+E+machine+learning&amp;lr=lang_pt&amp;sca_esv=4b3e726407594cc1&amp;biw=767&amp;bih=694&amp;ie=UTF-8&amp;tbs=lr:lang_1pt,qdr:w&amp;source=lnt&amp;sa=X&amp;ved=0ahUKEwiXyqvvoO-EAxUKFlkFHajtDygQpwUIEQ\">\n",
            "            Past week\n",
            "           </a>\n",
            "          </li>\n",
            "          <li class=\"yNFsl SkUj4c\">\n",
            "           Past month\n",
            "          </li>\n",
            "          <li class=\"yNFsl\">\n",
            "           <a href=\"/search?q=ciencia+de+dados+E+engenharia+de+software+E+machine+learning&amp;lr=lang_pt&amp;sca_esv=4b3e726407594cc1&amp;biw=767&amp;bih=694&amp;ie=UTF-8&amp;tbs=lr:lang_1pt,qdr:y&amp;source=lnt&amp;sa=X&amp;ved=0ahUKEwiXyqvvoO-EAxUKFlkFHajtDygQpwUIEw\">\n",
            "            Past year\n",
            "           </a>\n",
            "          </li>\n",
            "         </ul>\n",
            "        </div>\n",
            "        <div class=\"PA9J5\">\n",
            "         <div class=\"RXaOfd\" role=\"button\" tabindex=\"0\">\n",
            "          <div class=\"TWMOUc\">\n",
            "           All results\n",
            "          </div>\n",
            "          <span class=\"OmTIzf\">\n",
            "          </span>\n",
            "         </div>\n",
            "         <ul class=\"sa1toc ozatM\">\n",
            "          <li class=\"yNFsl SkUj4c\">\n",
            "           All results\n",
            "          </li>\n",
            "          <li class=\"yNFsl\">\n",
            "           <a href=\"/search?q=ciencia+de+dados+E+engenharia+de+software+E+machine+learning&amp;sca_esv=4b3e726407594cc1&amp;biw=767&amp;bih=694&amp;ie=UTF-8&amp;tbs=li:1&amp;source=lnt&amp;sa=X&amp;ved=0ahUKEwiXyqvvoO-EAxUKFlkFHajtDygQpwUIFQ\">\n",
            "            Verbatim\n",
            "           </a>\n",
            "          </li>\n",
            "         </ul>\n",
            "        </div>\n",
            "       </div>\n",
            "      </div>\n",
            "     </div>\n",
            "     <script nonce=\"EwKK-u6r7FPOUgwGc715yA\">\n",
            "      (function(){var a=document.getElementById(\"st-toggle\"),b=document.getElementById(\"st-card\");a&&b&&a.addEventListener(\"click\",function(c){b.style.display=b.style.display?\"\":\"none\";c.preventDefault()},!1);}).call(this);\n",
            "     </script>\n",
            "    </div>\n",
            "   </div>\n",
            "   <style>\n",
            "    .Gx5Zad{background-color:#fff;margin-bottom:30px;box-shadow:0 0 0 1px #dfe1e5;border-radius:8px}.pkphOe{font-size:14px;line-height:22px;}.EtOod>*:first-child{border-top-left-radius:8px;border-top-right-radius:8px}.EtOod>*:last-child{border-bottom-left-radius:8px;border-bottom-right-radius:8px}.EtOod.avPKgf>*:last-child{border-bottom-left-radius:4px}.EtOod>.qxDOhb>*:first-child{border-top-left-radius:8px;border-top-right-radius:8px}.EtOod>.qxDOhb>*:last-child{border-bottom-left-radius:8px;border-bottom-right-radius:8px}.fP1Qef{background:transparent !important;box-shadow:none !important;border:none !important}.Gx5Zad.fP1Qef{margin-top:-12px;margin-bottom:18px}.rl7ilb{display:block;clear:both}.egMi0{margin-bottom:-19px}.kCrYT{padding:12px 16px 12px}a.fdYsqf{color:#4b11a8}.sCuL3{position:absolute;width:100%;top:0;left:0;padding-top:1px;margin-bottom:-1px}.j039Wc{padding-top:28px;margin-bottom:-1px}.DnJfK{position:relative}.l97dzf{font-weight:400}.zBAuLc{line-height:normal;margin:0;padding:0}.BNeawe{white-space:pre-line;word-wrap:break-word}.vvjwJb{color:#1a0dab;font-size:20px;line-height:26px}a:visited .vvjwJb,.vvjwJb a:visited{color:#4b11a8}.vvjwJb.HrGdeb{color:#fff}a:visited .vvjwJb.HrGdeb,.vvjwJb.HrGdeb a:visited{color:rgba(255,255,255,.70)}.UPmit{font-size:14px;line-height:22px}.UPmit.HrGdeb{color:rgba(255,255,255,.70)}.UPmit.AP7Wnd{color:#202124}.lRVwie{text-overflow:ellipsis;white-space:nowrap;overflow:hidden}.Ap5OSd{padding-bottom:12px}.s3v9rd{font-size:14px;line-height:22px}.s3v9rd.HrGdeb{color:#fff}.s3v9rd.AP7Wnd{color:#202124}.mSx1Ee{padding-left:48px;margin:0}.v9i61e{padding-bottom:8px}.r0bn4c.tr0dw{color:rgba(255,255,255,.70)}.r0bn4c.rQMQod{color:#70757a}.K8tyEc{padding-bottom:12px}.mEUgP{font-weight:bold;font-size:16px;color:#000;padding:12px 16px 0px 16px;margin:0}.x54gtf{height:1px;background-color:#dadce0;margin:0 16px}.Q0HXG{height:1px;background-color:#dadce0}.iIWm4b{box-sizing:border-box;min-height:48px}.gGQDvd{position:relative;padding:14px}.Q71vJc{display:block;position:relative;width:100%}.kjGX2{position:absolute;vertical-align:bottom;display:inline-block;color:#3c4043;left:48px;right:0}.ieB2Dd{overflow:hidden;margin-top:-10px;margin-bottom:-16px;margin-right:8px;border-radius:4px;display:inline-block;border-radius:50%;padding:10px}.OEaqif{width:20px;height:20px;display:block}.RJI4s{vertical-align:middle}.rLshyf,.BmP5tf{padding-top:12px;padding-bottom:12px}.YOx3Ab{padding-left:16px;}.w1C3Le,.BmP5tf,.G5NbBd,.CS4w5b{padding-left:16px;padding-right:16px;}.G5NbBd{padding-bottom:12px}.CS4w5b{padding-top:12px}.nMymef{display:flex}.G5eFlf{flex:1;display:block}.nMymef span{text-align:center}.EYqSq{margin:6px 4px 9px 0;border-radius:100%;display:inline-block;height:10px;vertical-align:middle;width:10px}.dfB0uf{color:#3c4043;font-weight:bold}.IffyKc{word-wrap:break-word}\n",
            "   </style>\n",
            "   <div>\n",
            "   </div>\n",
            "   <div>\n",
            "    <div class=\"Gx5Zad fP1Qef xpd EtOod pkphOe\">\n",
            "     <div class=\"egMi0 kCrYT\">\n",
            "      <a data-ved=\"2ahUKEwiXyqvvoO-EAxUKFlkFHajtDygQFnoECAIQAg\" href=\"/url?q=https://especializacao.ccec.puc-rio.br/especializacao-b/ciencia-de-dados-e-analytics&amp;sa=U&amp;ved=2ahUKEwiXyqvvoO-EAxUKFlkFHajtDygQFnoECAIQAg&amp;usg=AOvVaw3l6mNbPXxuRqkCd7AZ-b8a\">\n",
            "       <div class=\"DnJfK\">\n",
            "        <div class=\"j039Wc\">\n",
            "         <h3 class=\"zBAuLc l97dzf\">\n",
            "          <div class=\"BNeawe vvjwJb AP7Wnd\">\n",
            "           Pós-Graduação em Ciência de Dados e Analytics - PUC-Rio Digital\n",
            "          </div>\n",
            "         </h3>\n",
            "        </div>\n",
            "        <div class=\"sCuL3\">\n",
            "         <div class=\"BNeawe UPmit AP7Wnd lRVwie\">\n",
            "          especializacao.ccec.puc-rio.br › especializacao-b › cie...\n",
            "         </div>\n",
            "        </div>\n",
            "       </div>\n",
            "      </a>\n",
            "     </div>\n",
            "     <div class=\"kCrYT\">\n",
            "      <div>\n",
            "       <div class=\"BNeawe s3v9rd AP7Wnd\">\n",
            "        <div>\n",
            "         <div>\n",
            "          <div class=\"BNeawe s3v9rd AP7Wnd\">\n",
            "           <span class=\"r0bn4c rQMQod\">\n",
            "            Feb 19, 2024\n",
            "           </span>\n",
            "           <span class=\"r0bn4c rQMQod\">\n",
            "            ·\n",
            "           </span>\n",
            "           Machine Learning. Duração: 30h | Profs.: Tatiana Escovedo e Hugo Villamizar · Analytics - Descriptive and Predictive. Duração: 30h | Profs.: Augusto Baffa, ...\n",
            "          </div>\n",
            "         </div>\n",
            "        </div>\n",
            "       </div>\n",
            "      </div>\n",
            "     </div>\n",
            "    </div>\n",
            "   </div>\n",
            "   <div>\n",
            "    <div class=\"Gx5Zad fP1Qef xpd EtOod pkphOe\">\n",
            "     <div class=\"egMi0 kCrYT\">\n",
            "      <a data-ved=\"2ahUKEwiXyqvvoO-EAxUKFlkFHajtDygQFnoECAkQAg\" href=\"/url?q=https://blog.dsacademy.com.br/qual-trilha-de-aprendizagem-devo-escolher-na-data-science-academy/&amp;sa=U&amp;ved=2ahUKEwiXyqvvoO-EAxUKFlkFHajtDygQFnoECAkQAg&amp;usg=AOvVaw1AC060mxNfdQURH31cs4eq\">\n",
            "       <div class=\"DnJfK\">\n",
            "        <div class=\"j039Wc\">\n",
            "         <h3 class=\"zBAuLc l97dzf\">\n",
            "          <div class=\"BNeawe vvjwJb AP7Wnd\">\n",
            "           Qual Trilha de Aprendizagem 4.0 Devo Escolher na Data Science ...\n",
            "          </div>\n",
            "         </h3>\n",
            "        </div>\n",
            "        <div class=\"sCuL3\">\n",
            "         <div class=\"BNeawe UPmit AP7Wnd lRVwie\">\n",
            "          blog.dsacademy.com.br › qual-trilha-de-aprendizagem...\n",
            "         </div>\n",
            "        </div>\n",
            "       </div>\n",
            "      </a>\n",
            "     </div>\n",
            "     <div class=\"kCrYT\">\n",
            "      <div>\n",
            "       <div class=\"BNeawe s3v9rd AP7Wnd\">\n",
            "        <div>\n",
            "         <div>\n",
            "          <div class=\"BNeawe s3v9rd AP7Wnd\">\n",
            "           <span class=\"r0bn4c rQMQod\">\n",
            "            Feb 16, 2024\n",
            "           </span>\n",
            "           <span class=\"r0bn4c rQMQod\">\n",
            "            ·\n",
            "           </span>\n",
            "           Agora na versão 4.0, o objetivo principal desta Formação é que o aluno desenvolva as habilidades em todo o processo de Ciência de Dados e Machine Learning, com ...\n",
            "          </div>\n",
            "         </div>\n",
            "        </div>\n",
            "       </div>\n",
            "      </div>\n",
            "     </div>\n",
            "    </div>\n",
            "   </div>\n",
            "   <div>\n",
            "    <div class=\"Gx5Zad fP1Qef xpd EtOod pkphOe\">\n",
            "     <div class=\"egMi0 kCrYT\">\n",
            "      <a data-ved=\"2ahUKEwiXyqvvoO-EAxUKFlkFHajtDygQFnoECAoQAg\" href=\"/url?q=https://carreiraemti.com.br/blog/analise-de-dados-ciencia-de-dados-e-business-intelligence-entenda-as-diferencas/&amp;sa=U&amp;ved=2ahUKEwiXyqvvoO-EAxUKFlkFHajtDygQFnoECAoQAg&amp;usg=AOvVaw0YC2xrYxDpLIfHLL8YeRrK\">\n",
            "       <div class=\"DnJfK\">\n",
            "        <div class=\"j039Wc\">\n",
            "         <h3 class=\"zBAuLc l97dzf\">\n",
            "          <div class=\"BNeawe vvjwJb AP7Wnd\">\n",
            "           Análise de Dados, Ciência de Dados e Business Intelligence\n",
            "          </div>\n",
            "         </h3>\n",
            "        </div>\n",
            "        <div class=\"sCuL3\">\n",
            "         <div class=\"BNeawe UPmit AP7Wnd lRVwie\">\n",
            "          carreiraemti.com.br › blog › analise-de-dados-ciencia-...\n",
            "         </div>\n",
            "        </div>\n",
            "       </div>\n",
            "      </a>\n",
            "     </div>\n",
            "     <div class=\"kCrYT\">\n",
            "      <div>\n",
            "       <div class=\"BNeawe s3v9rd AP7Wnd\">\n",
            "        <div>\n",
            "         <div>\n",
            "          <div class=\"BNeawe s3v9rd AP7Wnd\">\n",
            "           <span class=\"r0bn4c rQMQod\">\n",
            "            Feb 28, 2024\n",
            "           </span>\n",
            "           <span class=\"r0bn4c rQMQod\">\n",
            "            ·\n",
            "           </span>\n",
            "           A Ciência de Dados frequentemente incorpora técnicas de Machine Learning (ML) e Inteligência Artificial (IA). O ML permite aos modelos aprenderem padrões a ...\n",
            "          </div>\n",
            "         </div>\n",
            "        </div>\n",
            "       </div>\n",
            "      </div>\n",
            "     </div>\n",
            "    </div>\n",
            "   </div>\n",
            "   <div>\n",
            "    <div class=\"Gx5Zad fP1Qef xpd EtOod pkphOe\">\n",
            "     <div class=\"egMi0 kCrYT\">\n",
            "      <a data-ved=\"2ahUKEwiXyqvvoO-EAxUKFlkFHajtDygQFnoECAcQAg\" href=\"/url?q=https://unintereuropa.com/graduacao-ead/ciencia-de-dados&amp;sa=U&amp;ved=2ahUKEwiXyqvvoO-EAxUKFlkFHajtDygQFnoECAcQAg&amp;usg=AOvVaw0t91cv5UVn_Dgot_FCu3a8\">\n",
            "       <div class=\"DnJfK\">\n",
            "        <div class=\"j039Wc\">\n",
            "         <h3 class=\"zBAuLc l97dzf\">\n",
            "          <div class=\"BNeawe vvjwJb AP7Wnd\">\n",
            "           Ciência de Dados Graduação EAD - Uninter - Europa\n",
            "          </div>\n",
            "         </h3>\n",
            "        </div>\n",
            "        <div class=\"sCuL3\">\n",
            "         <div class=\"BNeawe UPmit AP7Wnd lRVwie\">\n",
            "          unintereuropa.com › graduacao-ead › ciencia-de-dados\n",
            "         </div>\n",
            "        </div>\n",
            "       </div>\n",
            "      </a>\n",
            "     </div>\n",
            "     <div class=\"kCrYT\">\n",
            "      <div>\n",
            "       <div class=\"BNeawe s3v9rd AP7Wnd\">\n",
            "        <div>\n",
            "         <div class=\"v9i61e\">\n",
            "          <div class=\"BNeawe s3v9rd AP7Wnd\">\n",
            "           <span class=\"r0bn4c rQMQod\">\n",
            "            €189.00\n",
            "           </span>\n",
            "          </div>\n",
            "         </div>\n",
            "         <div>\n",
            "          <div class=\"BNeawe s3v9rd AP7Wnd\">\n",
            "           <span class=\"r0bn4c rQMQod\">\n",
            "            Feb 20, 2024\n",
            "           </span>\n",
            "           <span class=\"r0bn4c rQMQod\">\n",
            "            ·\n",
            "           </span>\n",
            "           ... Ciência de Dados alia a técnica (como machine learning e big data) à realidade dos negócios. Seja um profissional estratégico em uma área que atrai ...\n",
            "          </div>\n",
            "         </div>\n",
            "        </div>\n",
            "       </div>\n",
            "      </div>\n",
            "     </div>\n",
            "    </div>\n",
            "   </div>\n",
            "   <div>\n",
            "    <div class=\"Gx5Zad fP1Qef xpd EtOod pkphOe\">\n",
            "     <div class=\"egMi0 kCrYT\">\n",
            "      <a data-ved=\"2ahUKEwiXyqvvoO-EAxUKFlkFHajtDygQFnoECAYQAg\" href=\"/url?q=https://learn.microsoft.com/pt-pt/azure/architecture/data-science-process/lifecycle&amp;sa=U&amp;ved=2ahUKEwiXyqvvoO-EAxUKFlkFHajtDygQFnoECAYQAg&amp;usg=AOvVaw3wX6nAAhe6Bnb4kt7jXJ16\">\n",
            "       <div class=\"DnJfK\">\n",
            "        <div class=\"j039Wc\">\n",
            "         <h3 class=\"zBAuLc l97dzf\">\n",
            "          <div class=\"BNeawe vvjwJb AP7Wnd\">\n",
            "           O ciclo de vida do Processo de Ciência de Dados da Equipe\n",
            "          </div>\n",
            "         </h3>\n",
            "        </div>\n",
            "        <div class=\"sCuL3\">\n",
            "         <div class=\"BNeawe UPmit AP7Wnd lRVwie\">\n",
            "          learn.microsoft.com › data-science-process › lifecycle\n",
            "         </div>\n",
            "        </div>\n",
            "       </div>\n",
            "      </a>\n",
            "     </div>\n",
            "     <div class=\"kCrYT\">\n",
            "      <div>\n",
            "       <div class=\"BNeawe s3v9rd AP7Wnd\">\n",
            "        <div>\n",
            "         <div>\n",
            "          <div class=\"BNeawe s3v9rd AP7Wnd\">\n",
            "           <span class=\"r0bn4c rQMQod\">\n",
            "            4 days ago\n",
            "           </span>\n",
            "           <span class=\"r0bn4c rQMQod\">\n",
            "            ·\n",
            "           </span>\n",
            "           Analise o material a seguir para investigar os recursos e aplicativos do TDSP. Engenharia de Software para Machine Learning: Um Estudo de Caso (páginas 291-300).\n",
            "          </div>\n",
            "         </div>\n",
            "        </div>\n",
            "       </div>\n",
            "      </div>\n",
            "     </div>\n",
            "    </div>\n",
            "   </div>\n",
            "   <div>\n",
            "    <div class=\"Gx5Zad fP1Qef xpd EtOod pkphOe\">\n",
            "     <div class=\"egMi0 kCrYT\">\n",
            "      <a data-ved=\"2ahUKEwiXyqvvoO-EAxUKFlkFHajtDygQFnoECAQQAg\" href=\"/url?q=https://botzao.com/ciencia-de-dados-e-inteligencia-artificial/&amp;sa=U&amp;ved=2ahUKEwiXyqvvoO-EAxUKFlkFHajtDygQFnoECAQQAg&amp;usg=AOvVaw11MksDc7YiPt3ZvlXBrF0M\">\n",
            "       <div class=\"DnJfK\">\n",
            "        <div class=\"j039Wc\">\n",
            "         <h3 class=\"zBAuLc l97dzf\">\n",
            "          <div class=\"BNeawe vvjwJb AP7Wnd\">\n",
            "           Ciência de Dados e Inteligência Artificial - Botzão\n",
            "          </div>\n",
            "         </h3>\n",
            "        </div>\n",
            "        <div class=\"sCuL3\">\n",
            "         <div class=\"BNeawe UPmit AP7Wnd lRVwie\">\n",
            "          botzao.com › Blog\n",
            "         </div>\n",
            "        </div>\n",
            "       </div>\n",
            "      </a>\n",
            "     </div>\n",
            "     <div class=\"kCrYT\">\n",
            "      <div>\n",
            "       <div class=\"BNeawe s3v9rd AP7Wnd\">\n",
            "        <div>\n",
            "         <div>\n",
            "          <div class=\"BNeawe s3v9rd AP7Wnd\">\n",
            "           <span class=\"r0bn4c rQMQod\">\n",
            "            Feb 17, 2024\n",
            "           </span>\n",
            "           <span class=\"r0bn4c rQMQod\">\n",
            "            ·\n",
            "           </span>\n",
            "           Eles atuam como cientistas de dados, engenheiros de machine learning, analistas de business intelligence e até mesmo como consultores de inovação tecnológica.\n",
            "          </div>\n",
            "         </div>\n",
            "        </div>\n",
            "       </div>\n",
            "      </div>\n",
            "     </div>\n",
            "    </div>\n",
            "   </div>\n",
            "   <div>\n",
            "    <div class=\"Gx5Zad fP1Qef xpd EtOod pkphOe\">\n",
            "     <div class=\"egMi0 kCrYT\">\n",
            "      <a data-ved=\"2ahUKEwiXyqvvoO-EAxUKFlkFHajtDygQFnoECAMQAg\" href=\"/url?q=https://pt.quora.com/Vale-a-pena-cursar-Engenharia-de-Software-pensando-em-se-especializar-em-Intelig%25C3%25AAncia-Artificial&amp;sa=U&amp;ved=2ahUKEwiXyqvvoO-EAxUKFlkFHajtDygQFnoECAMQAg&amp;usg=AOvVaw1L5DtvHJsqysTzGs_RD5WO\">\n",
            "       <div class=\"DnJfK\">\n",
            "        <div class=\"j039Wc\">\n",
            "         <h3 class=\"zBAuLc l97dzf\">\n",
            "          <div class=\"BNeawe vvjwJb AP7Wnd\">\n",
            "           Vale a pena cursar Engenharia de Software pensando em ... - Quora\n",
            "          </div>\n",
            "         </h3>\n",
            "        </div>\n",
            "        <div class=\"sCuL3\">\n",
            "         <div class=\"BNeawe UPmit AP7Wnd lRVwie\">\n",
            "          pt.quora.com › Vale-a-pena-cursar-Engenharia-de-Software-pensando-em-...\n",
            "         </div>\n",
            "        </div>\n",
            "       </div>\n",
            "      </a>\n",
            "     </div>\n",
            "     <div class=\"kCrYT\">\n",
            "      <div>\n",
            "       <div class=\"BNeawe s3v9rd AP7Wnd\">\n",
            "        <div>\n",
            "         <div>\n",
            "          <div class=\"BNeawe s3v9rd AP7Wnd\">\n",
            "           <span class=\"r0bn4c rQMQod\">\n",
            "            Feb 13, 2024\n",
            "           </span>\n",
            "           <span class=\"r0bn4c rQMQod\">\n",
            "            ·\n",
            "           </span>\n",
            "           Isso pode ser útil se você quer trabalhar com modelagem computacional, ciência de dados, bioinformática, IA, processamentos de imagens, coisas que necessitam de ...\n",
            "          </div>\n",
            "         </div>\n",
            "        </div>\n",
            "       </div>\n",
            "      </div>\n",
            "     </div>\n",
            "    </div>\n",
            "   </div>\n",
            "   <div>\n",
            "    <div class=\"Gx5Zad fP1Qef xpd EtOod pkphOe\">\n",
            "     <div class=\"egMi0 kCrYT\">\n",
            "      <a data-ved=\"2ahUKEwiXyqvvoO-EAxUKFlkFHajtDygQFnoECAUQAg\" href=\"/url?q=https://www.youtube.com/%40IuryRosal/addons/matchrecursive&amp;sa=U&amp;ved=2ahUKEwiXyqvvoO-EAxUKFlkFHajtDygQFnoECAUQAg&amp;usg=AOvVaw0yKdbT4Yn_ZADq7jqCKxNb\">\n",
            "       <div class=\"DnJfK\">\n",
            "        <div class=\"j039Wc\">\n",
            "         <h3 class=\"zBAuLc l97dzf\">\n",
            "          <div class=\"BNeawe vvjwJb AP7Wnd\">\n",
            "           Iury Rosal - YouTube\n",
            "          </div>\n",
            "         </h3>\n",
            "        </div>\n",
            "        <div class=\"sCuL3\">\n",
            "         <div class=\"BNeawe UPmit AP7Wnd lRVwie\">\n",
            "          www.youtube.com › addons › matchrecursive\n",
            "         </div>\n",
            "        </div>\n",
            "       </div>\n",
            "      </a>\n",
            "     </div>\n",
            "     <div class=\"kCrYT\">\n",
            "      <div>\n",
            "       <div class=\"BNeawe s3v9rd AP7Wnd\">\n",
            "        <div>\n",
            "         <div>\n",
            "          <div class=\"BNeawe s3v9rd AP7Wnd\">\n",
            "           <span class=\"r0bn4c rQMQod\">\n",
            "            6 days ago\n",
            "           </span>\n",
            "           <span class=\"r0bn4c rQMQod\">\n",
            "            ·\n",
            "           </span>\n",
            "           Seja muito bem vindo(a) ao meu canal! Aqui compartilho ideias e conhecimentos envolvendo Engenharia de Software, Ciência e Engenharia de Dados.\n",
            "          </div>\n",
            "         </div>\n",
            "        </div>\n",
            "       </div>\n",
            "      </div>\n",
            "     </div>\n",
            "    </div>\n",
            "   </div>\n",
            "   <div>\n",
            "    <div class=\"Gx5Zad fP1Qef xpd EtOod pkphOe\">\n",
            "     <div class=\"egMi0 kCrYT\">\n",
            "      <a data-ved=\"2ahUKEwiXyqvvoO-EAxUKFlkFHajtDygQFnoECAAQAg\" href=\"/url?q=https://medium.com/%40bruno.giannellam/migrando-de-engenheiro-de-software-para-engenheiro-de-ia-274af6000077&amp;sa=U&amp;ved=2ahUKEwiXyqvvoO-EAxUKFlkFHajtDygQFnoECAAQAg&amp;usg=AOvVaw3Chl2rjeHI6C-qzrD9agFB\">\n",
            "       <div class=\"DnJfK\">\n",
            "        <div class=\"j039Wc\">\n",
            "         <h3 class=\"zBAuLc l97dzf\">\n",
            "          <div class=\"BNeawe vvjwJb AP7Wnd\">\n",
            "           Migrando de Engenheiro de Software para Engenheiro de IA\n",
            "          </div>\n",
            "         </h3>\n",
            "        </div>\n",
            "        <div class=\"sCuL3\">\n",
            "         <div class=\"BNeawe UPmit AP7Wnd lRVwie\">\n",
            "          medium.com › migrando-de-engenheiro-de-software-...\n",
            "         </div>\n",
            "        </div>\n",
            "       </div>\n",
            "      </a>\n",
            "     </div>\n",
            "     <div class=\"kCrYT\">\n",
            "      <div>\n",
            "       <div class=\"BNeawe s3v9rd AP7Wnd\">\n",
            "        <div>\n",
            "         <div>\n",
            "          <div class=\"BNeawe s3v9rd AP7Wnd\">\n",
            "           <span class=\"r0bn4c rQMQod\">\n",
            "            7 days ago\n",
            "           </span>\n",
            "           <span class=\"r0bn4c rQMQod\">\n",
            "            ·\n",
            "           </span>\n",
            "           Projetos que envolvem a coleta, limpeza e análise de grandes conjuntos de dados, bem como a aplicação de algoritmos de aprendizado de máquina para previsões ou ...\n",
            "          </div>\n",
            "         </div>\n",
            "        </div>\n",
            "       </div>\n",
            "      </div>\n",
            "     </div>\n",
            "    </div>\n",
            "   </div>\n",
            "   <div>\n",
            "    <div class=\"Gx5Zad fP1Qef xpd EtOod pkphOe\">\n",
            "     <div class=\"egMi0 kCrYT\">\n",
            "      <a data-ved=\"2ahUKEwiXyqvvoO-EAxUKFlkFHajtDygQFnoECAEQAg\" href=\"/url?q=https://saberinteressante.net/data-science-academy-e-bom/&amp;sa=U&amp;ved=2ahUKEwiXyqvvoO-EAxUKFlkFHajtDygQFnoECAEQAg&amp;usg=AOvVaw0Plz0y1b2fSW1sacd27iVd\">\n",
            "       <div class=\"DnJfK\">\n",
            "        <div class=\"j039Wc\">\n",
            "         <h3 class=\"zBAuLc l97dzf\">\n",
            "          <div class=\"BNeawe vvjwJb AP7Wnd\">\n",
            "           Análise: Data Science Academy - Vale a Pena? - SaberInteressante\n",
            "          </div>\n",
            "         </h3>\n",
            "        </div>\n",
            "        <div class=\"sCuL3\">\n",
            "         <div class=\"BNeawe UPmit AP7Wnd lRVwie\">\n",
            "          saberinteressante.net › data-science-academy-e-bom\n",
            "         </div>\n",
            "        </div>\n",
            "       </div>\n",
            "      </a>\n",
            "     </div>\n",
            "     <div class=\"kCrYT\">\n",
            "      <div>\n",
            "       <div class=\"BNeawe s3v9rd AP7Wnd\">\n",
            "        <div>\n",
            "         <div>\n",
            "          <div class=\"BNeawe s3v9rd AP7Wnd\">\n",
            "           <span class=\"r0bn4c rQMQod\">\n",
            "            6 days ago\n",
            "           </span>\n",
            "           <span class=\"r0bn4c rQMQod\">\n",
            "            ·\n",
            "           </span>\n",
            "           Voltado para profissionais que desejam se especializar em áreas como Data Science, Big Data, Machine Learning e Inteligência Artificial, o curso proporciona uma ...\n",
            "          </div>\n",
            "         </div>\n",
            "        </div>\n",
            "       </div>\n",
            "      </div>\n",
            "     </div>\n",
            "    </div>\n",
            "   </div>\n",
            "   <div>\n",
            "    <div class=\"Gx5Zad xpd EtOod pkphOe\">\n",
            "     <div class=\"K8tyEc\">\n",
            "      <div class=\"mEUgP\">\n",
            "       <span>\n",
            "        <div class=\"BNeawe\">\n",
            "         Related searches\n",
            "        </div>\n",
            "       </span>\n",
            "      </div>\n",
            "     </div>\n",
            "     <div class=\"x54gtf\">\n",
            "     </div>\n",
            "     <div>\n",
            "      <div class=\"gGQDvd iIWm4b\">\n",
            "       <a class=\"Q71vJc\" data-ved=\"2ahUKEwiXyqvvoO-EAxUKFlkFHajtDygQ1QJ6BAgIEAI\" href=\"/search?lr=lang_pt&amp;sca_esv=4b3e726407594cc1&amp;biw=767&amp;bih=694&amp;ie=UTF-8&amp;tbs=qdr:m,lr:lang_1pt&amp;q=Data+Science+Academy&amp;sa=X&amp;ved=2ahUKEwiXyqvvoO-EAxUKFlkFHajtDygQ1QJ6BAgIEAI\">\n",
            "        <accordion-entry-search-icon>\n",
            "         <span class=\"ieB2Dd\">\n",
            "          <img alt=\"\" class=\"OEaqif\" data-deferred=\"1\" id=\"dimg_1\" src=\"data:image/gif;base64,R0lGODlhAQABAIAAAP///////yH5BAEKAAEALAAAAAABAAEAAAICTAEAOw==\" style=\"max-width:20px;max-height:20px\"/>\n",
            "         </span>\n",
            "        </accordion-entry-search-icon>\n",
            "        <div class=\"kjGX2\">\n",
            "         <span class=\"Xe4YD\">\n",
            "          <div class=\"BNeawe s3v9rd AP7Wnd lRVwie\">\n",
            "           Data Science Academy\n",
            "          </div>\n",
            "         </span>\n",
            "        </div>\n",
            "       </a>\n",
            "      </div>\n",
            "     </div>\n",
            "     <div class=\"x54gtf\">\n",
            "     </div>\n",
            "     <div>\n",
            "      <div class=\"gGQDvd iIWm4b\">\n",
            "       <a class=\"Q71vJc\" data-ved=\"2ahUKEwiXyqvvoO-EAxUKFlkFHajtDygQ1QJ6BAgIEAQ\" href=\"/search?lr=lang_pt&amp;sca_esv=4b3e726407594cc1&amp;biw=767&amp;bih=694&amp;ie=UTF-8&amp;tbs=qdr:m,lr:lang_1pt&amp;q=Cientista+de+dados&amp;sa=X&amp;ved=2ahUKEwiXyqvvoO-EAxUKFlkFHajtDygQ1QJ6BAgIEAQ\">\n",
            "        <accordion-entry-search-icon>\n",
            "         <span class=\"ieB2Dd\">\n",
            "          <img alt=\"\" class=\"OEaqif\" data-deferred=\"1\" id=\"dimg_3\" src=\"data:image/gif;base64,R0lGODlhAQABAIAAAP///////yH5BAEKAAEALAAAAAABAAEAAAICTAEAOw==\" style=\"max-width:20px;max-height:20px\"/>\n",
            "         </span>\n",
            "        </accordion-entry-search-icon>\n",
            "        <div class=\"kjGX2\">\n",
            "         <span class=\"Xe4YD\">\n",
            "          <div class=\"BNeawe s3v9rd AP7Wnd lRVwie\">\n",
            "           Cientista de dados\n",
            "          </div>\n",
            "         </span>\n",
            "        </div>\n",
            "       </a>\n",
            "      </div>\n",
            "     </div>\n",
            "     <div class=\"x54gtf\">\n",
            "     </div>\n",
            "     <div>\n",
            "      <div class=\"gGQDvd iIWm4b\">\n",
            "       <a class=\"Q71vJc\" data-ved=\"2ahUKEwiXyqvvoO-EAxUKFlkFHajtDygQ1QJ6BAgIEAY\" href=\"/search?lr=lang_pt&amp;sca_esv=4b3e726407594cc1&amp;biw=767&amp;bih=694&amp;ie=UTF-8&amp;tbs=qdr:m,lr:lang_1pt&amp;q=Curso+Ci%C3%AAncia+de+dados+gratuitos&amp;sa=X&amp;ved=2ahUKEwiXyqvvoO-EAxUKFlkFHajtDygQ1QJ6BAgIEAY\">\n",
            "        <accordion-entry-search-icon>\n",
            "         <span class=\"ieB2Dd\">\n",
            "          <img alt=\"\" class=\"OEaqif\" data-deferred=\"1\" id=\"dimg_5\" src=\"data:image/gif;base64,R0lGODlhAQABAIAAAP///////yH5BAEKAAEALAAAAAABAAEAAAICTAEAOw==\" style=\"max-width:20px;max-height:20px\"/>\n",
            "         </span>\n",
            "        </accordion-entry-search-icon>\n",
            "        <div class=\"kjGX2\">\n",
            "         <span class=\"Xe4YD\">\n",
            "          <div class=\"BNeawe s3v9rd AP7Wnd lRVwie\">\n",
            "           Curso Ciência de dados gratuitos\n",
            "          </div>\n",
            "         </span>\n",
            "        </div>\n",
            "       </a>\n",
            "      </div>\n",
            "     </div>\n",
            "     <div class=\"x54gtf\">\n",
            "     </div>\n",
            "     <div>\n",
            "      <div class=\"gGQDvd iIWm4b\">\n",
            "       <a class=\"Q71vJc\" data-ved=\"2ahUKEwiXyqvvoO-EAxUKFlkFHajtDygQ1QJ6BAgIEAg\" href=\"/search?lr=lang_pt&amp;sca_esv=4b3e726407594cc1&amp;biw=767&amp;bih=694&amp;ie=UTF-8&amp;tbs=qdr:m,lr:lang_1pt&amp;q=Como+se+tornar+um+Data+scientist&amp;sa=X&amp;ved=2ahUKEwiXyqvvoO-EAxUKFlkFHajtDygQ1QJ6BAgIEAg\">\n",
            "        <accordion-entry-search-icon>\n",
            "         <span class=\"ieB2Dd\">\n",
            "          <img alt=\"\" class=\"OEaqif\" data-deferred=\"1\" id=\"dimg_7\" src=\"data:image/gif;base64,R0lGODlhAQABAIAAAP///////yH5BAEKAAEALAAAAAABAAEAAAICTAEAOw==\" style=\"max-width:20px;max-height:20px\"/>\n",
            "         </span>\n",
            "        </accordion-entry-search-icon>\n",
            "        <div class=\"kjGX2\">\n",
            "         <span class=\"Xe4YD\">\n",
            "          <div class=\"BNeawe s3v9rd AP7Wnd lRVwie\">\n",
            "           Como se tornar um Data scientist\n",
            "          </div>\n",
            "         </span>\n",
            "        </div>\n",
            "       </a>\n",
            "      </div>\n",
            "     </div>\n",
            "     <div class=\"x54gtf\">\n",
            "     </div>\n",
            "     <div>\n",
            "      <div class=\"gGQDvd iIWm4b\">\n",
            "       <a class=\"Q71vJc\" data-ved=\"2ahUKEwiXyqvvoO-EAxUKFlkFHajtDygQ1QJ6BAgIEAo\" href=\"/search?lr=lang_pt&amp;sca_esv=4b3e726407594cc1&amp;biw=767&amp;bih=694&amp;ie=UTF-8&amp;tbs=qdr:m,lr:lang_1pt&amp;q=Fundamentos+de+engenharia+de+Dados&amp;sa=X&amp;ved=2ahUKEwiXyqvvoO-EAxUKFlkFHajtDygQ1QJ6BAgIEAo\">\n",
            "        <accordion-entry-search-icon>\n",
            "         <span class=\"ieB2Dd\">\n",
            "          <img alt=\"\" class=\"OEaqif\" data-deferred=\"1\" id=\"dimg_9\" src=\"data:image/gif;base64,R0lGODlhAQABAIAAAP///////yH5BAEKAAEALAAAAAABAAEAAAICTAEAOw==\" style=\"max-width:20px;max-height:20px\"/>\n",
            "         </span>\n",
            "        </accordion-entry-search-icon>\n",
            "        <div class=\"kjGX2\">\n",
            "         <span class=\"Xe4YD\">\n",
            "          <div class=\"BNeawe s3v9rd AP7Wnd lRVwie\">\n",
            "           Fundamentos de engenharia de Dados\n",
            "          </div>\n",
            "         </span>\n",
            "        </div>\n",
            "       </a>\n",
            "      </div>\n",
            "     </div>\n",
            "     <div class=\"x54gtf\">\n",
            "     </div>\n",
            "     <div>\n",
            "      <div class=\"gGQDvd iIWm4b\">\n",
            "       <a class=\"Q71vJc\" data-ved=\"2ahUKEwiXyqvvoO-EAxUKFlkFHajtDygQ1QJ6BAgIEAw\" href=\"/search?lr=lang_pt&amp;sca_esv=4b3e726407594cc1&amp;biw=767&amp;bih=694&amp;ie=UTF-8&amp;tbs=qdr:m,lr:lang_1pt&amp;q=Dsa+forma%C3%A7%C3%A3o&amp;sa=X&amp;ved=2ahUKEwiXyqvvoO-EAxUKFlkFHajtDygQ1QJ6BAgIEAw\">\n",
            "        <accordion-entry-search-icon>\n",
            "         <span class=\"ieB2Dd\">\n",
            "          <img alt=\"\" class=\"OEaqif\" data-deferred=\"1\" id=\"dimg_11\" src=\"data:image/gif;base64,R0lGODlhAQABAIAAAP///////yH5BAEKAAEALAAAAAABAAEAAAICTAEAOw==\" style=\"max-width:20px;max-height:20px\"/>\n",
            "         </span>\n",
            "        </accordion-entry-search-icon>\n",
            "        <div class=\"kjGX2\">\n",
            "         <span class=\"Xe4YD\">\n",
            "          <div class=\"BNeawe s3v9rd AP7Wnd lRVwie\">\n",
            "           Dsa formação\n",
            "          </div>\n",
            "         </span>\n",
            "        </div>\n",
            "       </a>\n",
            "      </div>\n",
            "     </div>\n",
            "     <div class=\"x54gtf\">\n",
            "     </div>\n",
            "     <div>\n",
            "      <div class=\"gGQDvd iIWm4b\">\n",
            "       <a class=\"Q71vJc\" data-ved=\"2ahUKEwiXyqvvoO-EAxUKFlkFHajtDygQ1QJ6BAgIEA4\" href=\"/search?lr=lang_pt&amp;sca_esv=4b3e726407594cc1&amp;biw=767&amp;bih=694&amp;ie=UTF-8&amp;tbs=qdr:m,lr:lang_1pt&amp;q=Como+ser+analista+de+dados&amp;sa=X&amp;ved=2ahUKEwiXyqvvoO-EAxUKFlkFHajtDygQ1QJ6BAgIEA4\">\n",
            "        <accordion-entry-search-icon>\n",
            "         <span class=\"ieB2Dd\">\n",
            "          <img alt=\"\" class=\"OEaqif\" data-deferred=\"1\" id=\"dimg_13\" src=\"data:image/gif;base64,R0lGODlhAQABAIAAAP///////yH5BAEKAAEALAAAAAABAAEAAAICTAEAOw==\" style=\"max-width:20px;max-height:20px\"/>\n",
            "         </span>\n",
            "        </accordion-entry-search-icon>\n",
            "        <div class=\"kjGX2\">\n",
            "         <span class=\"Xe4YD\">\n",
            "          <div class=\"BNeawe s3v9rd AP7Wnd lRVwie\">\n",
            "           Como ser analista de dados\n",
            "          </div>\n",
            "         </span>\n",
            "        </div>\n",
            "       </a>\n",
            "      </div>\n",
            "     </div>\n",
            "     <div class=\"x54gtf\">\n",
            "     </div>\n",
            "     <div>\n",
            "      <div class=\"gGQDvd iIWm4b\">\n",
            "       <a class=\"Q71vJc\" data-ved=\"2ahUKEwiXyqvvoO-EAxUKFlkFHajtDygQ1QJ6BAgIEBA\" href=\"/search?lr=lang_pt&amp;sca_esv=4b3e726407594cc1&amp;biw=767&amp;bih=694&amp;ie=UTF-8&amp;tbs=qdr:m,lr:lang_1pt&amp;q=Data+science+academy+sql&amp;sa=X&amp;ved=2ahUKEwiXyqvvoO-EAxUKFlkFHajtDygQ1QJ6BAgIEBA\">\n",
            "        <accordion-entry-search-icon>\n",
            "         <span class=\"ieB2Dd\">\n",
            "          <img alt=\"\" class=\"OEaqif\" data-deferred=\"1\" id=\"dimg_15\" src=\"data:image/gif;base64,R0lGODlhAQABAIAAAP///////yH5BAEKAAEALAAAAAABAAEAAAICTAEAOw==\" style=\"max-width:20px;max-height:20px\"/>\n",
            "         </span>\n",
            "        </accordion-entry-search-icon>\n",
            "        <div class=\"kjGX2\">\n",
            "         <span class=\"Xe4YD\">\n",
            "          <div class=\"BNeawe s3v9rd AP7Wnd lRVwie\">\n",
            "           Data science academy sql\n",
            "          </div>\n",
            "         </span>\n",
            "        </div>\n",
            "       </a>\n",
            "      </div>\n",
            "     </div>\n",
            "    </div>\n",
            "   </div>\n",
            "   <footer>\n",
            "    <div>\n",
            "     <div class=\"Gx5Zad xpd EtOod pkphOe BmP5tf\">\n",
            "      <div class=\"nMymef Va3FIb lVm3ye\">\n",
            "       <a aria-label=\"Next page\" class=\"nBDE1b G5eFlf\" href=\"/search?q=ciencia+de+dados+E+engenharia+de+software+E+machine+learning&amp;lr=lang_pt&amp;sca_esv=4b3e726407594cc1&amp;biw=767&amp;bih=694&amp;ie=UTF-8&amp;tbs=qdr:m,lr:lang_1pt&amp;ei=4JHwZZfaKoqs5NoPqNu_wAI&amp;start=10&amp;sa=N\">\n",
            "        Next &gt;\n",
            "       </a>\n",
            "      </div>\n",
            "     </div>\n",
            "    </div>\n",
            "    <div id=\"EOlPnc\">\n",
            "     <div class=\"Srfpq\">\n",
            "      <div>\n",
            "       <span class=\"EYqSq unknown_loc\">\n",
            "       </span>\n",
            "       <span class=\"dfB0uf\">\n",
            "        United States\n",
            "       </span>\n",
            "      </div>\n",
            "      <span>\n",
            "       From your IP address\n",
            "      </span>\n",
            "      <span>\n",
            "       -\n",
            "      </span>\n",
            "      <a aria-label=\"Learn more about this location\" class=\"IffyKc\" href=\"/url?q=https://support.google.com/websearch%3Fp%3Dws_settings_location%26hl%3Den&amp;opi=89978449&amp;sa=U&amp;ved=0ahUKEwiXyqvvoO-EAxUKFlkFHajtDygQty4IXA&amp;usg=AOvVaw3MMocc7BZAGU5Xp6zx0mEM\" tabindex=\"0\">\n",
            "       Learn more\n",
            "      </a>\n",
            "     </div>\n",
            "     <div>\n",
            "      <a href=\"/url?q=https://accounts.google.com/ServiceLogin%3Fcontinue%3Dhttps://www.google.com/search%253Fq%253Dciencia%252Bde%252Bdados%252BE%252Bengenharia%252Bde%252Bsoftware%252BE%252Bmachine%252Blearning%2526sca_esv%253D4b3e726407594cc1%2526tbs%253Dqdr:m,lr:lang_1pt%2526source%253Dlnt%2526lr%253Dlang_pt%2526sa%253DX%2526ved%253D2ahUKEwjG8rCtoO-EAxVWqpUCHUsDAIQQpwV6BAgMEAc%2526biw%253D767%2526bih%253D694%2526dpr%253D1.25%26hl%3Den&amp;opi=89978449&amp;sa=U&amp;ved=0ahUKEwiXyqvvoO-EAxUKFlkFHajtDygQxs8CCF0&amp;usg=AOvVaw0OMvaF3PUlPHF78EFFtpbm\">\n",
            "       Sign in\n",
            "      </a>\n",
            "     </div>\n",
            "     <div>\n",
            "      <a class=\"xeDNfc\" href=\"https://www.google.com/preferences?hl=en&amp;fg=1&amp;sa=X&amp;ved=0ahUKEwiXyqvvoO-EAxUKFlkFHajtDygQ5fUCCF4\">\n",
            "       Settings\n",
            "      </a>\n",
            "      <a class=\"xeDNfc\" href=\"https://policies.google.com/privacy?hl=en&amp;fg=1\">\n",
            "       Privacy\n",
            "      </a>\n",
            "      <a class=\"xeDNfc\" href=\"https://policies.google.com/terms?hl=en&amp;fg=1\">\n",
            "       Terms\n",
            "      </a>\n",
            "      <a class=\"xeDNfc\" href=\"/setprefs?hl=en&amp;prev=https://www.google.com/search?q%3Dciencia%2Bde%2Bdados%2BE%2Bengenharia%2Bde%2Bsoftware%2BE%2Bmachine%2Blearning%26sca_esv%3D4b3e726407594cc1%26tbs%3Dqdr:m,lr:lang_1pt%26source%3Dlnt%26lr%3Dlang_pt%26sa%3DX%26ved%3D2ahUKEwjG8rCtoO-EAxVWqpUCHUsDAIQQpwV6BAgMEAc%26biw%3D767%26bih%3D694%26dpr%3D1.25%26pccc%3D1&amp;sig=0_WxZryhYhVZZICPdMtLnLYvv6vw8%3D&amp;cs=2&amp;sa=X&amp;ved=0ahUKEwiXyqvvoO-EAxUKFlkFHajtDygQjcAJCF8\">\n",
            "       Dark theme: Off\n",
            "      </a>\n",
            "     </div>\n",
            "    </div>\n",
            "   </footer>\n",
            "   <script nonce=\"EwKK-u6r7FPOUgwGc715yA\">\n",
            "    (function(){var hl='en';(function(){\n",
            "var f=this||self,g=function(a){return a};var h,k=function(){if(void 0===h){var a=null,b=f.trustedTypes;if(b&&b.createPolicy){try{a=b.createPolicy(\"goog#html\",{createHTML:g,createScript:g,createScriptURL:g})}catch(c){f.console&&f.console.error(c.message)}h=a}else h=a}return h};var p=function(a,b){this.g=a===l&&b||\"\";this.h=m};p.prototype.toString=function(){return this.g};var q=function(a){return a instanceof p&&a.constructor===p&&a.h===m?a.g:\"type_error:Const\"},m={},l={};var r=function(a){this.g=a};r.prototype.toString=function(){return this.g+\"\"};var t=function(a){return a instanceof r&&a.constructor===r?a.g:\"type_error:TrustedResourceUrl\"},x=function(){var a={},b=q(new p(l,\"/complete/search\"));if(!u.test(b))throw Error(\"e`\"+b);var c=b.replace(v,function(e,d){if(!Object.prototype.hasOwnProperty.call(a,d))throw Error(\"f`\"+d+\"`\"+b+\"`\"+JSON.stringify(a));e=a[d];return e instanceof p?q(e):encodeURIComponent(String(e))});return w(c)},v=/%{(\\w+)}/g,u=RegExp(\"^((https:)?//[0-9a-z.:[\\\\]-]+/|/[^/\\\\\\\\]|[^:/\\\\\\\\%]+/|[^:/\\\\\\\\%]*[?#]|about:blank#)\",\"i\"),y=/^([^?#]*)(\\?[^#]*)?(#[\\s\\S]*)?/,z={},w=function(a){var b=k();a=b?b.createScriptURL(a):a;return new r(a,z)},A=function(a,b,c){if(null==c)return b;if(\"string\"===typeof c)return c?a+encodeURIComponent(c):\"\";for(var e in c)if(Object.prototype.hasOwnProperty.call(c,e)){var d=c[e];d=Array.isArray(d)?d:[d];for(var n=0;n<d.length;n++){var O=d[n];null!=O&&(b||(b=a),b+=(b.length>a.length?\"&\":\"\")+encodeURIComponent(e)+\"=\"+encodeURIComponent(String(O)))}}return b};var B={},C=function(a){this.g=a};C.prototype.toString=function(){return this.g.toString()};\n",
            "function D(a,b){if(1===a.nodeType){var c=a.tagName;if(\"SCRIPT\"===c||\"STYLE\"===c)throw Error(\"g\");}a.innerHTML=b instanceof C&&b.constructor===C?b.g:\"type_error:SafeHtml\"};function E(a){a=null===a?\"null\":void 0===a?\"undefined\":a;var b=k();a=b?b.createHTML(a):a;return new C(a,B)};var F=document.querySelector(\".l\"),G=document.querySelector(\"#sf\"),H=G.querySelector(\".sbc\"),I=G.querySelector(\"[type=text]\"),J=G.querySelector(\"[type=submit]\"),K=G.querySelector(\".sc\"),L=G.querySelector(\".x\"),M=I.value,N=[],P=-1,Q=M,R,S,T;M||(L&&(L.style.display=\"none\"),U(!1));function U(a){if(H.classList.contains(\"esbc\")){var b=H.classList.contains(\"chsbc\"),c=H.classList.contains(\"rtlsbc\");a&&(K.style.display=\"block\",b?(G.style.borderRadius=\"20px 20px 0 0\",K.style.borderBottom=\"1px solid #DFE1E5\",J.style.borderRadius=c?\"20px 0 0 0\":\"0 20px 0 0\"):H.style.borderRadius=c?\"0 8px 0 0\":\"8px 0 0 0\");a||(K.style.display=\"none\",b?(G.style.borderRadius=\"20px\",K.style.borderBottom=\"none\",J.style.borderRadius=c?\"20px 0 0 20px\":\"0 20px 20px 0\"):H.style.borderRadius=c?\"0 8px 8px 0\":\"8px 0 0 8px\")}}function V(){G.querySelector(\"[name=oq]\").value=Q;G.querySelector(\"[name=aqs]\").value=\"heirloom-srp.\"+(0<=P?P:\"\")+\".\"+(0<N.length?\"0l\"+N.length:\"\")}\n",
            "function W(){R=null;if(S){var a={client:\"heirloom-srp\",hl:hl,json:\"t\",callback:\"hS\",q:S};\"undefined\"!==typeof ds&&ds&&(a.ds=ds);var b=document;var c=\"SCRIPT\";\"application/xhtml+xml\"===b.contentType&&(c=c.toLowerCase());c=b.createElement(c);b=x();b=y.exec(t(b).toString());var e=b[3]||\"\";a=w(b[1]+A(\"?\",b[2]||\"\",a)+A(\"#\",e));c.src=t(a);var d,n;(d=(a=null==(n=(d=(c.ownerDocument&&c.ownerDocument.defaultView||window).document).querySelector)?void 0:n.call(d,\"script[nonce]\"))?a.nonce||a.getAttribute(\"nonce\")||\n",
            "\"\":\"\")&&c.setAttribute(\"nonce\",d);document.body.appendChild(c);S=null;R=setTimeout(W,500)}}function X(){for(;K.firstChild;)K.removeChild(K.firstChild);N=[];P=-1;U(!1)}function Y(){var a=K.querySelector(\".scs\");a&&(a.className=\"\");0<=P?(a=K.childNodes[P],a.className=\"scs\",M=a.textContent):M=Q;I.value=M}I.addEventListener(\"focus\",function(){F&&(F.style.display=\"none\")},!1);I.addEventListener(\"blur\",function(){X();F&&(F.style.display=\"\")},!1);I.addEventListener(\"keyup\",function(a){M=I.value;T=!1;13===a.which?V():27===a.which?(X(),F&&(F.style.display=\"\"),M=Q,I.value=M):40===a.which?(P++,P>=N.length&&(P=-1),Y()):38===a.which?(P--,-1>P&&(P=N.length-1),Y()):(a=M)?(L&&(L.style.display=\"\"),S=a,R||W(),Q=a):(L&&(L.style.display=\"none\"),U(!1),X(),Q=\"\",T=!0)},!1);J.addEventListener(\"click\",V,!1);L.addEventListener(\"click\",function(){I.value=\"\";L.style.display=\"none\";U(!1)},!1);H.addEventListener(\"click\",function(){I.focus()},!1);window.hS=function(a){if(!T){X();0===a[1].length&&U(!1);for(var b=0;b<a[1].length;b++){var c=a[1][b][0],e=document.createElement(\"div\");D(e,E(c));e.addEventListener(\"mousedown\",function(d){d.preventDefault();return!1},!1);c=c.replace(/<\\/?b>/g,\"\");e.addEventListener(\"click\",function(d){return function(){P=d;V();Y();X();G.submit()}}(b),!1);e.addEventListener(\"mouseover\",function(d){return function(){P!==d&&(P=d,Y())}}(b),!1);K.appendChild(e);U(!0);N.push(c)}}};}).call(this);})();(function(){function b(a){for(a=a.target||a.srcElement;a&&\"A\"!==a.nodeName;)a=a.parentElement;a&&(a.href||\"\").match(/\\/search.*[?&]tbm=isch/)&&(a.href+=\"&biw=\"+document.documentElement.clientWidth,a.href+=\"&bih=\"+document.documentElement.clientHeight)}document.addEventListener(\"click\",b,!1);document.addEventListener(\"touchStart\",b,!1);}).call(this);\n",
            "   </script>\n",
            "  </div>\n",
            "  <!-- cctlcm 5 cctlcm -->\n",
            "  <textarea class=\"csi\" name=\"csi\" style=\"display:none\"></textarea>\n",
            "  <script nonce=\"EwKK-u6r7FPOUgwGc715yA\">\n",
            "   (function(){var e='4JHwZZfaKoqs5NoPqNu_wAI';var sn='web';var timl=false;(function(){function B(a){if(!a||C(a))return 0;if(!a.getBoundingClientRect)return 1;var c=function(b){return b.getBoundingClientRect()};return D(a,c)?0:J(a,c)}function D(a,c){var b;a:{for(b=a;b&&null!==b;b=b.parentElement)if(\"hidden\"===b.style.overflow||\"G-EXPANDABLE-CONTENT\"===b.tagName&&\"hidden\"===getComputedStyle(b).getPropertyValue(\"overflow\"))break a;b=null}if(!b)return!1;a=c(a);c=c(b);return a.bottom<c.top||a.top>=c.bottom||a.right<c.left||a.left>=c.right}\n",
            "function C(a){return\"none\"===a.style.display?!0:document.defaultView&&document.defaultView.getComputedStyle?(a=document.defaultView.getComputedStyle(a),!!a&&(\"hidden\"===a.visibility||\"0px\"===a.height&&\"0px\"===a.width)):!1}\n",
            "function J(a,c){var b=c(a);a=b.left+window.pageXOffset;c=b.top+window.pageYOffset;var f=b.width;b=b.height;var g=0;if(0>=b&&0>=f)return g;var q=window.innerHeight||document.documentElement.clientHeight;0>c+b?g=2:c>=q&&(g=4);if(0>a+f||a>=(window.innerWidth||document.documentElement.clientWidth))g|=8;g||(g=1,c+b>q&&(g|=4));return g};var K=e,L=sn,M=\"undefined\"===typeof de?!0:!1!==de,N=[];function O(a,c,b){a=\"/gen_204?atyp=csi&s=\"+L+\"&t=\"+a+(\"&lite=1&ei=\"+K+\"&conn=\"+(window.navigator&&window.navigator.connection?window.navigator.connection.type:-1)+c);c=\"&rt=\";for(var f in b)a+=\"\"+c+f+\".\"+b[f],c=\",\";return a}function P(a){a={prt:a};window.wsrt&&(a.wsrt=window.wsrt);return a}function Q(a){window.ping?window.ping(a):(new Image).src=a}\n",
            "(function(){for(var a=(new Date).getTime()-window.start,c=P(a),b=0,f=0,g=0,q=document.getElementsByTagName(\"img\"),r=M?\"&biw=\"+window.innerWidth+\"&bih=\"+window.innerHeight:\"\",E=function(){r+=\"&ima=\"+g;c.aft=b;Q(O(\"aft\",r,c))},x=0,R=function(h,t,u){var n=h.src;h.onload=function(){u&&n&&n===h.src||(f=(new Date).getTime()-window.start,t&&++x===g&&(b=f,E()),h.onload=null)}},S=0,d=void 0;d=q[S++];){var v=B(d),p=!!(v&1);p&&++g;var l=d.hasAttribute(\"data-ilite\"),w=d.hasAttribute(\"data-deferred\"),F=d.hasAttribute(\"data-src\")||\n",
            "d.hasAttribute(\"data-lzysrc\"),y=!w&&!l&&F;N.push([v,w||l,y,!!(google.ldi&&d.id&&google.ldi[d.id])||l&&F]);l=(v=d.complete&&!w&&!(p&&y))&&Number(d.getAttribute(\"data-iml\"))||0;v&&l?(p&&++x,l&&(d=l-window.start,p&&(b=Math.max(b,d)),f=Math.max(f,d))):R(d,p,w||y)}b||(b=a);f||(f=b);x===g&&E();google.rglh&&google.rglh();window.addEventListener(\"load\",function(){window.setTimeout(function(){c.ol=(new Date).getTime()-window.start;timl&&(c.iml=f);var h=window.performance&&window.performance.timing;h&&(c.rqst=\n",
            "h.responseEnd-h.requestStart,c.rspt=h.responseEnd-h.responseStart);for(var t=h=0,u=0,n=0,G=0,H=0,T=0,k;k=N[T++];){var m=k[0],z=k[1],I=k[2];k=k[3];var U=0==m,V=m&8,A=m&1;m=!A&&m&4;A&&(z&&!k||++u,I&&++H);z&&(A&&k&&++h,m&&!k&&++t);U||V?I||++G:z||++n}r+=\"&ime=\"+u+\"&imel=\"+H+(\"&imex=\"+n+\"&imeh=\"+G)+(\"&imea=\"+h+\"&imeb=\"+t);Q(O(\"all\",r,c))},0)},!1)})();}).call(this);})();(function(){window.google=window.google||{};window.google.ishk=[];function a(){return window.scrollY+window.document.documentElement.clientHeight>=Math.max(document.body.scrollHeight,document.body.offsetHeight)}function b(){a()&&0===window.google.ishk.length&&(window.google.bs=!0,window.removeEventListener(\"scroll\",b))}a()?window.google.bs=!0:(window.google.bs=!1,window.addEventListener(\"scroll\",b));}).call(this);\n",
            "  </script>\n",
            "  <script nonce=\"EwKK-u6r7FPOUgwGc715yA\">\n",
            "   window._setImagesSrc=function(f,c){function h(a){a.onerror=function(){a.style.display=\"none\"};a.setAttribute(\"data-deferred\",\"2\");\"data:\"!==c.substring(0,5)&&a.setAttribute(\"data-defe\",\"1\");a.src=c;var g;(null==(g=google.c)?0:g.di)&&a.decode()}for(var d=0;d<f.length;++d){var b=f[d],e=document.getElementById(b)||document.querySelector('img[data-iid=\"'+b+'\"]');e?(b=void 0,(null==(b=google.c)?0:b.setup)&&google.c.setup(e),h(e)):(google.iir=google.iir||{},google.iir[b]=c)}};\"undefined\"===typeof window.google&&(window.google={});\n",
            "  </script>\n",
            "  <script nonce=\"EwKK-u6r7FPOUgwGc715yA\">\n",
            "   (function(){var s='data:image/png;base64,iVBORw0KGgoAAAANSUhEUgAAABQAAAAUCAYAAACNiR0NAAABAUlEQVR4AWMYesChoYElLjkzPj4lY3d8csZjIL4MxPNjUzPcSTYsISFLAqj5NBD/h+LPQPwbiT87NCuLh2gDgRr2QzXuT0jNMoBYksARn5zuHJ+UcR0kB6RXE2VYXHJGOlTDZmzyIJcB5e+D1CSkZDgQNBAaZv+jU1JkcKpJygiGeZ0I76a/Byq8jU9NZFqaCNTA48SE33/iDcw8TIyBt0GKQTFN0Msp6f2EIyUpo57YSIlLSrMhIg0WCIBcCfXSdlzJBsheTHQ6jEnOUgEFOLaEDbMIlhZBOYrorAdJk+nroVnvPsSgdGdoOF7HZyhZ2XPoGQoqjbCpIbt0AiejIQMArVLI7k/DXFkAAAAASUVORK5CYII\\x3d';var i=['dimg_1','dimg_3','dimg_5','dimg_7','dimg_9','dimg_11','dimg_13','dimg_15'];_setImagesSrc(i,s);})();\n",
            "  </script>\n",
            "  <script nonce=\"EwKK-u6r7FPOUgwGc715yA\">\n",
            "   (function(){var e='4JHwZZfaKoqs5NoPqNu_wAI';(function(){var a=e;if(2===(window.performance&&window.performance.navigation&&window.performance.navigation.type)){var b=\"\",c=[],d=void 0!==window.google&&void 0!==window.google.kOPI&&0!==window.google.kOPI?window.google.kOPI:null;null!=d&&c.push([\"opi\",d.toString()]);for(var f=0;f<c.length;f++){if(0===f||0<f)b+=\"&\";b+=c[f][0]+\"=\"+c[f][1]}window.ping(\"/gen_204?ct=backbutton&ei=\"+a+b)};}).call(this);})();(function(){var b=[function(){google.tick&&google.tick(\"load\",\"dcl\")}];google.dclc=function(a){b.length?b.push(a):a()};function c(){for(var a=b.shift();a;)a(),a=b.shift()}window.addEventListener?(document.addEventListener(\"DOMContentLoaded\",c,!1),window.addEventListener(\"load\",c,!1)):window.attachEvent&&window.attachEvent(\"onload\",c);}).call(this);(function(){var b=function(a){var c=0;return function(){return c<a.length?{done:!1,value:a[c++]}:{done:!0}}};\n",
            "var e=this||self;var g,h;a:{for(var k=[\"CLOSURE_FLAGS\"],l=e,n=0;n<k.length;n++)if(l=l[k[n]],null==l){h=null;break a}h=l}var p=h&&h[610401301];g=null!=p?p:!1;var q,r=e.navigator;q=r?r.userAgentData||null:null;function t(a){return g?q?q.brands.some(function(c){return(c=c.brand)&&-1!=c.indexOf(a)}):!1:!1}function u(a){var c;a:{if(c=e.navigator)if(c=c.userAgent)break a;c=\"\"}return-1!=c.indexOf(a)};function v(){return g?!!q&&0<q.brands.length:!1}function w(){return u(\"Safari\")&&!(x()||(v()?0:u(\"Coast\"))||(v()?0:u(\"Opera\"))||(v()?0:u(\"Edge\"))||(v()?t(\"Microsoft Edge\"):u(\"Edg/\"))||(v()?t(\"Opera\"):u(\"OPR\"))||u(\"Firefox\")||u(\"FxiOS\")||u(\"Silk\")||u(\"Android\"))}function x(){return v()?t(\"Chromium\"):(u(\"Chrome\")||u(\"CriOS\"))&&!(v()?0:u(\"Edge\"))||u(\"Silk\")}function y(){return u(\"Android\")&&!(x()||u(\"Firefox\")||u(\"FxiOS\")||(v()?0:u(\"Opera\"))||u(\"Silk\"))};var z=v()?!1:u(\"Trident\")||u(\"MSIE\");y();x();w();Object.freeze(new function(){});Object.freeze(new function(){});var A=!z&&!w(),D=function(a){if(/-[a-z]/.test(\"ved\"))return null;if(A&&a.dataset){if(y()&&!(\"ved\"in a.dataset))return null;a=a.dataset.ved;return void 0===a?null:a}return a.getAttribute(\"data-\"+\"ved\".replace(/([A-Z])/g,\"-$1\").toLowerCase())};var E=[],F=null;function G(a){a=a.target;var c=performance.now(),f=[],H=f.concat,d=E;if(!(d instanceof Array)){var m=\"undefined\"!=typeof Symbol&&Symbol.iterator&&d[Symbol.iterator];if(m)d=m.call(d);else if(\"number\"==typeof d.length)d={next:b(d)};else throw Error(\"a`\"+String(d));for(var B=[];!(m=d.next()).done;)B.push(m.value);d=B}E=H.call(f,d,[c]);if(a&&a instanceof HTMLElement)if(a===F){if(c=4<=E.length)c=5>(E[E.length-1]-E[E.length-4])/1E3;if(c){c=google.getEI(a);a.hasAttribute(\"data-ved\")?f=a?D(a)||\"\":\"\":f=(f=\n",
            "a.closest(\"[data-ved]\"))?D(f)||\"\":\"\";f=f||\"\";if(a.hasAttribute(\"jsname\"))a=a.getAttribute(\"jsname\");else{var C;a=null==(C=a.closest(\"[jsname]\"))?void 0:C.getAttribute(\"jsname\")}google.log(\"rcm\",\"&ei=\"+c+\"&ved=\"+f+\"&jsname=\"+(a||\"\"))}}else F=a,E=[c]}window.document.addEventListener(\"DOMContentLoaded\",function(){document.body.addEventListener(\"click\",G)});}).call(this);var w=function(a){var b=0;return function(){return b<a.length?{done:!1,value:a[b++]}:{done:!0}}};window.jsl=window.jsl||{};window.jsl.dh=function(a,b,m){try{var h=document.getElementById(a),e;if(!h&&(null==(e=google.stvsc)?0:e.dds)){e=[];var f=e.concat,c=google.stvsc.dds;if(c instanceof Array)var n=c;else{var p=\"undefined\"!=typeof Symbol&&Symbol.iterator&&c[Symbol.iterator];if(p)var g=p.call(c);else if(\"number\"==typeof c.length)g={next:w(c)};else throw Error(String(c)+\" is not an iterable or ArrayLike\");c=g;var q;for(g=[];!(q=c.next()).done;)g.push(q.value);n=g}var r=f.call(e,n);for(f=0;f<r.length&&!(h=r[f].getElementById(a));f++);}if(h)h.innerHTML=b,m&&m();else{var d={id:a,script:String(!!m),milestone:String(google.jslm||0)};google.jsla&&(d.async=google.jsla);var t=a.indexOf(\"_\"),k=0<t?a.substring(0,t):\"\",u=document.createElement(\"div\");u.innerHTML=b;var l=u.children[0];if(l&&(d.tag=l.tagName,d[\"class\"]=String(l.className||null),d.name=String(l.getAttribute(\"jsname\")),k)){a=[];var v=document.querySelectorAll('[id^=\"'+k+'_\"]');for(b=0;b<v.length;++b)a.push(v[b].id);d.ids=a.join(\",\")}google.ml(Error(k?\"Missing ID with prefix \"+\n",
            "k:\"Missing ID\"),!1,d)}}catch(x){google.ml(x,!0,{\"jsl.dh\":!0})}};(function(){var x=false;google.jslm=x?2:1;})();(function(){(function(){google.csct={};google.csct.ps='AOvVaw2vjEBnFX615oPxmwqihyV7\\x26ust\\x3d1710351200743629';})();})();(function(){(function(){google.csct.rd=true;})();})();(function(){(function(){google.csct.rl=true;})();})();if (!google.stvsc){google.drty && google.drty(undefined,true);}\n",
            "  </script>\n",
            " </body>\n",
            "</html>\n",
            "\n"
          ]
        }
      ]
    },
    {
      "cell_type": "code",
      "source": [
        "todos_links=soup.find_all('a')\n",
        "todos_links"
      ],
      "metadata": {
        "colab": {
          "base_uri": "https://localhost:8080/"
        },
        "id": "sOxN2AYolCJP",
        "outputId": "54cdfe86-1308-4d3a-e928-6e9c3fc35a9d"
      },
      "execution_count": 17,
      "outputs": [
        {
          "output_type": "execute_result",
          "data": {
            "text/plain": [
              "[<a href=\"/?sa=X&amp;ved=0ahUKEwimtb6knO-EAxWqM1kFHUkUDQQQOwgC\"><span class=\"V6gwVd\">G</span><span class=\"iWkuvd\">o</span><span class=\"cDrQ7\">o</span><span class=\"V6gwVd\">g</span><span class=\"ntlR9\">l</span><span class=\"iWkuvd tJ3Myc\">e</span></a>,\n",
              " <a href=\"/search?q=intelig%C3%AAncia+artificial+AND+machine+learning+AND+ci%C3%AAncia+de+dados+AND+engenharia+de+software&amp;sca_esv=4b3e726407594cc1&amp;biw=1536&amp;bih=695&amp;ie=UTF-8&amp;tbs=li:1&amp;gbv=1&amp;sei=EY3wZeboO6rn5NoPyai0IA\">here</a>,\n",
              " <a class=\"eZt8xd\" href=\"/search?q=intelig%C3%AAncia+artificial+AND+machine+learning+AND+ci%C3%AAncia+de+dados+AND+engenharia+de+software&amp;sca_esv=4b3e726407594cc1&amp;biw=1536&amp;bih=695&amp;ie=UTF-8&amp;tbm=bks&amp;source=lnms&amp;sa=X&amp;ved=0ahUKEwimtb6knO-EAxWqM1kFHUkUDQQQ_AUIBigB\">Books</a>,\n",
              " <a class=\"eZt8xd\" href=\"/search?q=intelig%C3%AAncia+artificial+AND+machine+learning+AND+ci%C3%AAncia+de+dados+AND+engenharia+de+software&amp;sca_esv=4b3e726407594cc1&amp;biw=1536&amp;bih=695&amp;ie=UTF-8&amp;tbm=nws&amp;source=lnms&amp;sa=X&amp;ved=0ahUKEwimtb6knO-EAxWqM1kFHUkUDQQQ_AUIBygC\">News</a>,\n",
              " <a class=\"eZt8xd\" href=\"/url?q=/search%3Fq%3Dintelig%25C3%25AAncia%2Bartificial%2BAND%2Bmachine%2Blearning%2BAND%2Bci%25C3%25AAncia%2Bde%2Bdados%2BAND%2Bengenharia%2Bde%2Bsoftware%26sca_esv%3D4b3e726407594cc1%26biw%3D1536%26bih%3D695%26ie%3DUTF-8%26tbm%3Dshop%26source%3Dlnms%26ved%3D1t:200713%26ictx%3D111&amp;opi=89978449&amp;sa=U&amp;ved=0ahUKEwimtb6knO-EAxWqM1kFHUkUDQQQiaAMCAgoAw&amp;usg=AOvVaw1B5Ney-skXpsUMMM3vLNQE\">Shopping</a>,\n",
              " <a href=\"/search?q=intelig%C3%AAncia+artificial+AND+machine+learning+AND+ci%C3%AAncia+de+dados+AND+engenharia+de+software&amp;sca_esv=4b3e726407594cc1&amp;biw=1536&amp;bih=695&amp;ie=UTF-8&amp;tbm=isch&amp;source=lnms&amp;sa=X&amp;ved=0ahUKEwimtb6knO-EAxWqM1kFHUkUDQQQ_AUICSgE\">Images</a>,\n",
              " <a href=\"/url?q=https://maps.google.com/maps%3Fq%3Dintelig%25C3%25AAncia%2Bartificial%2BAND%2Bmachine%2Blearning%2BAND%2Bci%25C3%25AAncia%2Bde%2Bdados%2BAND%2Bengenharia%2Bde%2Bsoftware%26sca_esv%3D4b3e726407594cc1%26biw%3D1536%26bih%3D695%26uact%3D5%26gs_lp%3DEgxnd3Mtd2l6LXNlcnAiXmludGVsaWfDqm5jaWEgYXJ0aWZpY2lhbCBBTkQgbWFjaGluZSBsZWFybmluZyBBTkQgY2nDqm5jaWEgZGUgZGFkb3MgQU5EIGVuZ2VuaGFyaWEgZGUgc29mdHdhcmVIAFAAWABwAHgBkAEAmAEAoAEAqgEAuAEDyAEA-AEBmAIAoAIAmAMAkgcAoAcA%26um%3D1%26ie%3DUTF-8%26ved%3D1t:200713%26ictx%3D111&amp;opi=89978449&amp;sa=U&amp;ved=0ahUKEwimtb6knO-EAxWqM1kFHUkUDQQQiaAMCAooBQ&amp;usg=AOvVaw1_ZLeNNs-_bp2iXpbrQgSj\">Maps</a>,\n",
              " <a href=\"/search?q=intelig%C3%AAncia+artificial+AND+machine+learning+AND+ci%C3%AAncia+de+dados+AND+engenharia+de+software&amp;sca_esv=4b3e726407594cc1&amp;biw=1536&amp;bih=695&amp;ie=UTF-8&amp;tbm=vid&amp;source=lnms&amp;sa=X&amp;ved=0ahUKEwimtb6knO-EAxWqM1kFHUkUDQQQ_AUICygG\">Videos</a>,\n",
              " <a href=\"/advanced_search\" id=\"st-toggle\" role=\"button\" style=\"white-space:nowrap\">Search tools</a>,\n",
              " <a href=\"/search?q=intelig%C3%AAncia+artificial+AND+machine+learning+AND+ci%C3%AAncia+de+dados+AND+engenharia+de+software&amp;sca_esv=4b3e726407594cc1&amp;biw=1536&amp;bih=695&amp;ie=UTF-8&amp;tbs=qdr:h&amp;source=lnt&amp;sa=X&amp;ved=0ahUKEwimtb6knO-EAxWqM1kFHUkUDQQQpwUIDQ\">Past hour</a>,\n",
              " <a href=\"/search?q=intelig%C3%AAncia+artificial+AND+machine+learning+AND+ci%C3%AAncia+de+dados+AND+engenharia+de+software&amp;sca_esv=4b3e726407594cc1&amp;biw=1536&amp;bih=695&amp;ie=UTF-8&amp;tbs=qdr:d&amp;source=lnt&amp;sa=X&amp;ved=0ahUKEwimtb6knO-EAxWqM1kFHUkUDQQQpwUIDg\">Past 24 hours</a>,\n",
              " <a href=\"/search?q=intelig%C3%AAncia+artificial+AND+machine+learning+AND+ci%C3%AAncia+de+dados+AND+engenharia+de+software&amp;sca_esv=4b3e726407594cc1&amp;biw=1536&amp;bih=695&amp;ie=UTF-8&amp;tbs=qdr:w&amp;source=lnt&amp;sa=X&amp;ved=0ahUKEwimtb6knO-EAxWqM1kFHUkUDQQQpwUIDw\">Past week</a>,\n",
              " <a href=\"/search?q=intelig%C3%AAncia+artificial+AND+machine+learning+AND+ci%C3%AAncia+de+dados+AND+engenharia+de+software&amp;sca_esv=4b3e726407594cc1&amp;biw=1536&amp;bih=695&amp;ie=UTF-8&amp;tbs=qdr:m&amp;source=lnt&amp;sa=X&amp;ved=0ahUKEwimtb6knO-EAxWqM1kFHUkUDQQQpwUIEA\">Past month</a>,\n",
              " <a href=\"/search?q=intelig%C3%AAncia+artificial+AND+machine+learning+AND+ci%C3%AAncia+de+dados+AND+engenharia+de+software&amp;sca_esv=4b3e726407594cc1&amp;biw=1536&amp;bih=695&amp;ie=UTF-8&amp;tbs=qdr:y&amp;source=lnt&amp;sa=X&amp;ved=0ahUKEwimtb6knO-EAxWqM1kFHUkUDQQQpwUIEQ\">Past year</a>,\n",
              " <a href=\"/search?q=intelig%C3%AAncia+artificial+AND+machine+learning+AND+ci%C3%AAncia+de+dados+AND+engenharia+de+software&amp;sca_esv=4b3e726407594cc1&amp;biw=1536&amp;bih=695&amp;ie=UTF-8&amp;tbas=0&amp;source=lnt&amp;sa=X&amp;ved=0ahUKEwimtb6knO-EAxWqM1kFHUkUDQQQpwUIEg\">All results</a>,\n",
              " <a data-ved=\"2ahUKEwimtb6knO-EAxWqM1kFHUkUDQQQBXoECAwQAQ\" href=\"/search?sca_esv=4b3e726407594cc1&amp;biw=1536&amp;bih=695&amp;ie=UTF-8&amp;tbs=li:1&amp;q=intelig%C3%AAncia+artificial+AND+machine+learning+AND+ci%C3%AAncia+de+dados+E+engenharia+de+software&amp;spell=1&amp;sa=X&amp;ved=2ahUKEwimtb6knO-EAxWqM1kFHUkUDQQQBXoECAwQAQ\"><span>inteligência artificial AND machine learning AND ciência de dados <b><i>E</i></b> engenharia de software</span></a>,\n",
              " <a data-ved=\"2ahUKEwimtb6knO-EAxWqM1kFHUkUDQQQtZwMegQIARAB\" href=\"/url?q=https://maps.google.com/maps%3Fsca_esv%3D4b3e726407594cc1%26biw%3D1536%26bih%3D695%26uact%3D5%26gs_lp%3DEgxnd3Mtd2l6LXNlcnAiXmludGVsaWfDqm5jaWEgYXJ0aWZpY2lhbCBBTkQgbWFjaGluZSBsZWFybmluZyBBTkQgY2nDqm5jaWEgZGUgZGFkb3MgQU5EIGVuZ2VuaGFyaWEgZGUgc29mdHdhcmVIAFAAWABwAHgBkAEAmAEAoAEAqgEAuAEDyAEA-AEBmAIAoAIAmAMAkgcAoAcA%26um%3D1%26ie%3DUTF-8%26fb%3D1%26gl%3Dus%26sa%3DX%26sll%3D37.66509,-95.711352%26sspn%3D13.4801855,22.7592182%26q%3Dintelig%25C3%25AAncia%2Bartificial%2BAND%2Bmachine%2Blearning%2BAND%2Bci%25C3%25AAncia%2Bde%2Bdados%2BAND%2Bengenharia%2Bde%2Bsoftware%26ved%3D1t:200245%26ictx%3D111&amp;sa=U&amp;ved=2ahUKEwimtb6knO-EAxWqM1kFHUkUDQQQtZwMegQIARAB&amp;usg=AOvVaw2ohg1K7WbstuOfiYp_bezj\"><img alt=\"Map image\" class=\"ZTv9Bb wVMPHe\" data-deferred=\"1\" id=\"dimg_1\" src=\"data:image/gif;base64,R0lGODlhAQABAIAAAP///////yH5BAEKAAEALAAAAAABAAEAAAICTAEAOw==\" style=\"max-width:100%;max-height:200px\"/></a>,\n",
              " <a class=\"tHmfQe\" data-ved=\"2ahUKEwimtb6knO-EAxWqM1kFHUkUDQQQvS56BAgBEAQ\" href=\"/search?sca_esv=4b3e726407594cc1&amp;biw=1536&amp;bih=695&amp;ie=UTF-8&amp;tbs=li:1&amp;q=Big+Splash+Adventure+French+Lick,+IN&amp;ludocid=7341270308717247630&amp;lsig=AB86z5UJ5Nq9xrwrtpqRt_0xEtBn&amp;phdesc=HqBZcY9jrNs&amp;sa=X&amp;ved=2ahUKEwimtb6knO-EAxWqM1kFHUkUDQQQvS56BAgBEAQ\"><div class=\"am3QBf\"><div><span><h3 class=\"zBAuLc l97dzf\"><div class=\"BNeawe deIvCb AP7Wnd\">Big Splash Adventure</div></h3></span><span><div class=\"BNeawe tAd8D AP7Wnd\"><span class=\"r0bn4c rQMQod tP9Zud\"><span> </span><span aria-hidden=\"true\" class=\"oqSTJd\">4.1</span><span> </span><div aria-label=\"Rated 4.1 out of 5\" class=\"Hk2yDb KsR1A\" role=\"img\"><span style=\"width:56px\"></span></div><span> </span><span>(3,420)</span><span> </span></span><br/>French Lick, IN</div></span></div></div></a>,\n",
              " <a data-ved=\"2ahUKEwimtb6knO-EAxWqM1kFHUkUDQQQ_pABegQIARAF\" href=\"/search?sca_esv=4b3e726407594cc1&amp;biw=1536&amp;bih=695&amp;ie=UTF-8&amp;tbs=li:1&amp;q=Big+Splash+Adventure+French+Lick,+IN&amp;ludocid=7341270308717247630&amp;lsig=AB86z5UJ5Nq9xrwrtpqRt_0xEtBn&amp;phdesc=HqBZcY9jrNs&amp;sa=X&amp;ved=2ahUKEwimtb6knO-EAxWqM1kFHUkUDQQQ_pABegQIARAF\"><img alt=\"Arrow\" class=\"ZTv9Bb Icx6Cd\" data-deferred=\"1\" id=\"dimg_3\" src=\"data:image/gif;base64,R0lGODlhAQABAIAAAP///////yH5BAEKAAEALAAAAAABAAEAAAICTAEAOw==\" style=\"max-width:24px;max-height:24px\"/></a>,\n",
              " <a class=\"tHmfQe\" data-ved=\"2ahUKEwimtb6knO-EAxWqM1kFHUkUDQQQvS56BAgBEAc\" href=\"/search?sca_esv=4b3e726407594cc1&amp;biw=1536&amp;bih=695&amp;ie=UTF-8&amp;tbs=li:1&amp;q=Great+Wolf+Lodge+Water+Park+%7C+Kansas+City+Kansas+City,+KS&amp;ludocid=13993024686544160853&amp;lsig=AB86z5V7uuc1LI7XbOQB2GYha-R8&amp;phdesc=BtOOIfugjTE&amp;sa=X&amp;ved=2ahUKEwimtb6knO-EAxWqM1kFHUkUDQQQvS56BAgBEAc\"><div class=\"am3QBf\"><div><span><h3 class=\"zBAuLc l97dzf\"><div class=\"BNeawe deIvCb AP7Wnd\">Great Wolf Lodge Water Park | Kansas City</div></h3></span><span><div class=\"BNeawe tAd8D AP7Wnd\"><span class=\"r0bn4c rQMQod tP9Zud\"><span> </span><span aria-hidden=\"true\" class=\"oqSTJd\">4.2</span><span> </span><div aria-label=\"Rated 4.2 out of 5\" class=\"Hk2yDb KsR1A\" role=\"img\"><span style=\"width:56px\"></span></div><span> </span><span>(6,499)</span><span> </span></span><br/>Kansas City, KS</div></span></div></div></a>,\n",
              " <a data-ved=\"2ahUKEwimtb6knO-EAxWqM1kFHUkUDQQQ_pABegQIARAI\" href=\"/search?sca_esv=4b3e726407594cc1&amp;biw=1536&amp;bih=695&amp;ie=UTF-8&amp;tbs=li:1&amp;q=Great+Wolf+Lodge+Water+Park+%7C+Kansas+City+Kansas+City,+KS&amp;ludocid=13993024686544160853&amp;lsig=AB86z5V7uuc1LI7XbOQB2GYha-R8&amp;phdesc=BtOOIfugjTE&amp;sa=X&amp;ved=2ahUKEwimtb6knO-EAxWqM1kFHUkUDQQQ_pABegQIARAI\"><img alt=\"Arrow\" class=\"ZTv9Bb Icx6Cd\" data-deferred=\"1\" id=\"dimg_5\" src=\"data:image/gif;base64,R0lGODlhAQABAIAAAP///////yH5BAEKAAEALAAAAAABAAEAAAICTAEAOw==\" style=\"max-width:24px;max-height:24px\"/></a>,\n",
              " <a class=\"tHmfQe\" data-ved=\"2ahUKEwimtb6knO-EAxWqM1kFHUkUDQQQvS56BAgBEAo\" href=\"/search?sca_esv=4b3e726407594cc1&amp;biw=1536&amp;bih=695&amp;ie=UTF-8&amp;tbs=li:1&amp;q=Gaylord+Opryland+Resort+%26+Convention+Center+Nashville,+TN&amp;ludocid=4236005428940527547&amp;lsig=AB86z5XqTHRI_51yJbhcQErR3vZx&amp;phdesc=jOOi2FeDf5I&amp;sa=X&amp;ved=2ahUKEwimtb6knO-EAxWqM1kFHUkUDQQQvS56BAgBEAo\"><div class=\"am3QBf\"><div><span><h3 class=\"zBAuLc l97dzf\"><div class=\"BNeawe deIvCb AP7Wnd\">Gaylord Opryland Resort &amp; Convention Center</div></h3></span><span><div class=\"BNeawe tAd8D AP7Wnd\"><span class=\"r0bn4c rQMQod tP9Zud\"><span> </span><span aria-hidden=\"true\" class=\"oqSTJd\">4.5</span><span> </span><div aria-label=\"Rated 4.5 out of 5\" class=\"Hk2yDb KsR1A\" role=\"img\"><span style=\"width:63px\"></span></div><span> </span><span>(30,435)</span><span> </span></span><br/>Nashville, TN</div></span></div></div></a>,\n",
              " <a data-ved=\"2ahUKEwimtb6knO-EAxWqM1kFHUkUDQQQ_pABegQIARAL\" href=\"/search?sca_esv=4b3e726407594cc1&amp;biw=1536&amp;bih=695&amp;ie=UTF-8&amp;tbs=li:1&amp;q=Gaylord+Opryland+Resort+%26+Convention+Center+Nashville,+TN&amp;ludocid=4236005428940527547&amp;lsig=AB86z5XqTHRI_51yJbhcQErR3vZx&amp;phdesc=jOOi2FeDf5I&amp;sa=X&amp;ved=2ahUKEwimtb6knO-EAxWqM1kFHUkUDQQQ_pABegQIARAL\"><img alt=\"Arrow\" class=\"ZTv9Bb Icx6Cd\" data-deferred=\"1\" id=\"dimg_7\" src=\"data:image/gif;base64,R0lGODlhAQABAIAAAP///////yH5BAEKAAEALAAAAAABAAEAAAICTAEAOw==\" style=\"max-width:24px;max-height:24px\"/></a>,\n",
              " <a class=\"tHmfQe\" data-ved=\"2ahUKEwimtb6knO-EAxWqM1kFHUkUDQQQvS56BAgBEA0\" href=\"/search?sca_esv=4b3e726407594cc1&amp;biw=1536&amp;bih=695&amp;ie=UTF-8&amp;tbs=li:1&amp;q=Great+Wolf+Lodge+Water+Park+%7C+Colorado+Springs+Colorado+Springs,+CO&amp;ludocid=10578098812367772114&amp;lsig=AB86z5VkJJqkRuyCvgROQa2Wp4cD&amp;phdesc=haZkb7x3FKQ&amp;sa=X&amp;ved=2ahUKEwimtb6knO-EAxWqM1kFHUkUDQQQvS56BAgBEA0\"><div class=\"am3QBf\"><div><span><h3 class=\"zBAuLc l97dzf\"><div class=\"BNeawe deIvCb AP7Wnd\">Great Wolf Lodge Water Park | Colorado Springs</div></h3></span><span><div class=\"BNeawe tAd8D AP7Wnd\"><span class=\"r0bn4c rQMQod tP9Zud\"><span> </span><span aria-hidden=\"true\" class=\"oqSTJd\">4.3</span><span> </span><div aria-label=\"Rated 4.3 out of 5\" class=\"Hk2yDb KsR1A\" role=\"img\"><span style=\"width:63px\"></span></div><span> </span><span>(6,840)</span><span> </span></span><br/>Colorado Springs, CO</div></span></div></div></a>,\n",
              " <a data-ved=\"2ahUKEwimtb6knO-EAxWqM1kFHUkUDQQQ_pABegQIARAO\" href=\"/search?sca_esv=4b3e726407594cc1&amp;biw=1536&amp;bih=695&amp;ie=UTF-8&amp;tbs=li:1&amp;q=Great+Wolf+Lodge+Water+Park+%7C+Colorado+Springs+Colorado+Springs,+CO&amp;ludocid=10578098812367772114&amp;lsig=AB86z5VkJJqkRuyCvgROQa2Wp4cD&amp;phdesc=haZkb7x3FKQ&amp;sa=X&amp;ved=2ahUKEwimtb6knO-EAxWqM1kFHUkUDQQQ_pABegQIARAO\"><img alt=\"Arrow\" class=\"ZTv9Bb Icx6Cd\" data-deferred=\"1\" id=\"dimg_9\" src=\"data:image/gif;base64,R0lGODlhAQABAIAAAP///////yH5BAEKAAEALAAAAAABAAEAAAICTAEAOw==\" style=\"max-width:24px;max-height:24px\"/></a>,\n",
              " <a data-ved=\"2ahUKEwimtb6knO-EAxWqM1kFHUkUDQQQjGp6BAgBEA8\" href=\"/search?sca_esv=4b3e726407594cc1&amp;biw=1536&amp;bih=695&amp;ie=UTF-8&amp;tbs=lf:1,lf_ui:6&amp;q=intelig%C3%AAncia+artificial+AND+machine+learning+AND+ci%C3%AAncia+de+dados+AND+engenharia+de+software&amp;rlst=f&amp;rflfq=1&amp;num=10&amp;rlha=1&amp;sa=X&amp;ved=2ahUKEwimtb6knO-EAxWqM1kFHUkUDQQQjGp6BAgBEA8\"><div class=\"kCrYT\"><div class=\"ZAfNud\"><div class=\"naKQFc Ne5sAf\" style=\"width:40px\"><div class=\"xevp3d\"><img class=\"XCaUNd\" height=\"24\" src=\"data:image/png;base64,iVBORw0KGgoAAAANSUhEUgAAADAAAAAwCAQAAAD9CzEMAAAAaklEQVRYw+2VOwqAQAwFcy0/13qFYLF6ZD1ALNxWUfSByEzqnSmykAgAuIkmFad+ViptCY3KOp6EGi0kSJAgsT/JB1PcgSuJbwfeX7Ra6z9y6zv0Z/oV/ZG+R38WGMzHJULFqq8Jpx7gp2wNbJTpL+jhtwAAAABJRU5ErkJggg==\" style=\"margin:0px 16px 0px 0px\" width=\"24\"/></div></div><div class=\"naKQFc Ne5sAf\"><span class=\"mugnXc Q0cixc\">More places</span></div></div></div></a>,\n",
              " <a data-ved=\"2ahUKEwimtb6knO-EAxWqM1kFHUkUDQQQFnoECAoQAg\" href=\"/url?q=https://www.linkedin.com/company/intelligentalgorithms/&amp;sa=U&amp;ved=2ahUKEwimtb6knO-EAxWqM1kFHUkUDQQQFnoECAoQAg&amp;usg=AOvVaw0-0VSxczBRiawWY38SMIK1\"><div class=\"DnJfK\"><div class=\"j039Wc\"><h3 class=\"zBAuLc l97dzf\"><div class=\"BNeawe vvjwJb AP7Wnd\">Intelligent Algorithms | LinkedIn</div></h3></div><div class=\"sCuL3\"><div class=\"BNeawe UPmit AP7Wnd lRVwie\">www.linkedin.com › company › intelligentalgorithms</div></div></div></a>,\n",
              " <a data-ved=\"2ahUKEwimtb6knO-EAxWqM1kFHUkUDQQQFnoECAkQAg\" href=\"/url?q=https://www.linkedin.com/posts/andersonlamaral_ai-machinelearning-dataengineering-activity-7120535048075788289-_s5b&amp;sa=U&amp;ved=2ahUKEwimtb6knO-EAxWqM1kFHUkUDQQQFnoECAkQAg&amp;usg=AOvVaw3-_OAg1Kj-QNVmT3e3B9u5\"><div class=\"DnJfK\"><div class=\"j039Wc\"><h3 class=\"zBAuLc l97dzf\"><div class=\"BNeawe vvjwJb AP7Wnd\">Anderson L. on LinkedIn: #ai #machinelearning #dataengineering ...</div></h3></div><div class=\"sCuL3\"><div class=\"BNeawe UPmit AP7Wnd lRVwie\">www.linkedin.com › posts › andersonlamaral_ai-mach...</div></div></div></a>,\n",
              " <a data-ved=\"2ahUKEwimtb6knO-EAxWqM1kFHUkUDQQQFnoECAYQAg\" href=\"/url?q=https://www.f6s.com/companies/machine-learning/brazil/co&amp;sa=U&amp;ved=2ahUKEwimtb6knO-EAxWqM1kFHUkUDQQQFnoECAYQAg&amp;usg=AOvVaw2J7UTu2ZooZVI-LThCQIe7\"><div class=\"DnJfK\"><div class=\"j039Wc\"><h3 class=\"zBAuLc l97dzf\"><div class=\"BNeawe vvjwJb AP7Wnd\">70 top Machine Learning (ML) companies and startups in Brazil in ...</div></h3></div><div class=\"sCuL3\"><div class=\"BNeawe UPmit AP7Wnd lRVwie\">www.f6s.com › Companies › Machine Learning (ML)</div></div></div></a>,\n",
              " <a data-ved=\"2ahUKEwimtb6knO-EAxWqM1kFHUkUDQQQFnoECAcQAg\" href=\"/url?q=https://www.scielo.br/j/rap/a/5q38f9RdbQYSrZXF8zfDJqv/%3Flang%3Den&amp;sa=U&amp;ved=2ahUKEwimtb6knO-EAxWqM1kFHUkUDQQQFnoECAcQAg&amp;usg=AOvVaw0fXPiib2xdJnM6WqetGWB2\"><div class=\"DnJfK\"><div class=\"j039Wc\"><h3 class=\"zBAuLc l97dzf\"><div class=\"BNeawe vvjwJb AP7Wnd\">Tax evasion identification using open data and artificial intelligence</div></h3></div><div class=\"sCuL3\"><div class=\"BNeawe UPmit AP7Wnd lRVwie\">www.scielo.br › rap</div></div></div></a>,\n",
              " <a data-ved=\"2ahUKEwimtb6knO-EAxWqM1kFHUkUDQQQFnoECAIQAg\" href=\"/url?q=https://www.informatics-europe.org/data-portal/%3Fpage%3Dsubjects/all.html&amp;sa=U&amp;ved=2ahUKEwimtb6knO-EAxWqM1kFHUkUDQQQFnoECAIQAg&amp;usg=AOvVaw2YwOLGLgyI5JYSswrtBauE\"><div class=\"DnJfK\"><div class=\"j039Wc\"><h3 class=\"zBAuLc l97dzf\"><div class=\"BNeawe vvjwJb AP7Wnd\">Subjects - Informatics Europe Higher Education Data Portal</div></h3></div><div class=\"sCuL3\"><div class=\"BNeawe UPmit AP7Wnd lRVwie\">www.informatics-europe.org › data-portal › all</div></div></div></a>,\n",
              " <a data-ved=\"2ahUKEwimtb6knO-EAxWqM1kFHUkUDQQQFnoECAUQAg\" href=\"/url?q=https://www.cos.ufrj.br/~daniel/iECI-2021/slides/Marta.pdf&amp;sa=U&amp;ved=2ahUKEwimtb6knO-EAxWqM1kFHUkUDQQQFnoECAUQAg&amp;usg=AOvVaw20iBLa0ENpffRyXWS7jnnT\"><div class=\"DnJfK\"><div class=\"j039Wc\"><h3 class=\"zBAuLc l97dzf\"><div class=\"BNeawe vvjwJb AP7Wnd\">[PDF] 2021- Palestra ECI-Marta Mattoso-vf - PESC/Coppe/UFRJ</div></h3></div><div class=\"sCuL3\"><div class=\"BNeawe UPmit AP7Wnd lRVwie\">www.cos.ufrj.br › ~daniel › iECI-2021 › slides › Marta</div></div></div></a>,\n",
              " <a data-ved=\"2ahUKEwimtb6knO-EAxWqM1kFHUkUDQQQFnoECAQQAg\" href=\"/url?q=https://aquare.la/en/why-is-the-market-calling-for-big-data-analytics/&amp;sa=U&amp;ved=2ahUKEwimtb6knO-EAxWqM1kFHUkUDQQQFnoECAQQAg&amp;usg=AOvVaw3g8Z5QPfZyYYcsbhXAT0sO\"><div class=\"DnJfK\"><div class=\"j039Wc\"><h3 class=\"zBAuLc l97dzf\"><div class=\"BNeawe vvjwJb AP7Wnd\">Why is the market calling for Big Data Analytics? | Aquarela</div></h3></div><div class=\"sCuL3\"><div class=\"BNeawe UPmit AP7Wnd lRVwie\">aquare.la › why-is-the-market-calling-for-big-data-analytics</div></div></div></a>,\n",
              " <a data-ved=\"2ahUKEwimtb6knO-EAxWqM1kFHUkUDQQQFnoECAMQAg\" href=\"/url?q=https://petroniocandido.github.io/&amp;sa=U&amp;ved=2ahUKEwimtb6knO-EAxWqM1kFHUkUDQQQFnoECAMQAg&amp;usg=AOvVaw0H7crUQFe0amaRAQWszwC-\"><div class=\"DnJfK\"><div class=\"j039Wc\"><h3 class=\"zBAuLc l97dzf\"><div class=\"BNeawe vvjwJb AP7Wnd\">Petrônio Silva</div></h3></div><div class=\"sCuL3\"><div class=\"BNeawe UPmit AP7Wnd lRVwie\">petroniocandido.github.io</div></div></div></a>,\n",
              " <a data-ved=\"2ahUKEwimtb6knO-EAxWqM1kFHUkUDQQQFnoECAgQAg\" href=\"/url?q=https://hedibert.org/wp-content/uploads/2018/09/modernbayesianstatistics-13-aMostra-part-I.pdf&amp;sa=U&amp;ved=2ahUKEwimtb6knO-EAxWqM1kFHUkUDQQQFnoECAgQAg&amp;usg=AOvVaw2fdmH1A26TgFs0A6_72ik5\"><div class=\"DnJfK\"><div class=\"j039Wc\"><h3 class=\"zBAuLc l97dzf\"><div class=\"BNeawe vvjwJb AP7Wnd\">[PDF] Statistics, Data Science, Machine Learning - Hedibert Freitas Lopes</div></h3></div><div class=\"sCuL3\"><div class=\"BNeawe UPmit AP7Wnd lRVwie\">hedibert.org › 2018/09 › modernbayesianstatistics-13-aMostra-part-I</div></div></div></a>,\n",
              " <a data-ved=\"2ahUKEwimtb6knO-EAxWqM1kFHUkUDQQQFnoECAsQAg\" href=\"/url?q=https://ppgi.uniriotec.br/en/masters-degree-in-computer-scienc/&amp;sa=U&amp;ved=2ahUKEwimtb6knO-EAxWqM1kFHUkUDQQQFnoECAsQAg&amp;usg=AOvVaw3oFy25k0SqpwlWf4-Tif5s\"><div class=\"DnJfK\"><div class=\"j039Wc\"><h3 class=\"zBAuLc l97dzf\"><div class=\"BNeawe vvjwJb AP7Wnd\">Master's Degree (Before 2021)</div></h3></div><div class=\"sCuL3\"><div class=\"BNeawe UPmit AP7Wnd lRVwie\">ppgi.uniriotec.br › masters-degree-in-computer-scienc</div></div></div></a>,\n",
              " <a aria-label=\"Next page\" class=\"nBDE1b G5eFlf\" href=\"/search?q=intelig%C3%AAncia+artificial+AND+machine+learning+AND+ci%C3%AAncia+de+dados+AND+engenharia+de+software&amp;sca_esv=4b3e726407594cc1&amp;biw=1536&amp;bih=695&amp;ie=UTF-8&amp;tbs=li:1&amp;ei=EY3wZeboO6rn5NoPyai0IA&amp;start=10&amp;sa=N\">Next &gt;</a>,\n",
              " <a aria-label=\"Learn more about this location\" class=\"IffyKc\" href=\"/url?q=https://support.google.com/websearch%3Fp%3Dws_settings_location%26hl%3Den&amp;opi=89978449&amp;sa=U&amp;ved=0ahUKEwimtb6knO-EAxWqM1kFHUkUDQQQty4IcQ&amp;usg=AOvVaw2GxSM7lO0KjR6dUj2A0C4g\" tabindex=\"0\">Learn more</a>,\n",
              " <a href=\"/url?q=https://accounts.google.com/ServiceLogin%3Fcontinue%3Dhttps://www.google.com/search%253Fq%253Dintelig%2525C3%2525AAncia%252Bartificial%252BAND%252Bmachine%252Blearning%252BAND%252Bci%2525C3%2525AAncia%252Bde%252Bdados%252BAND%252Bengenharia%252Bde%252Bsoftware%2526sca_esv%253D4b3e726407594cc1%2526biw%253D1536%2526bih%253D695%2526tbs%253Dli:1%2526ei%253Db4zwZcm7FrXa1sQPz528gAg%2526ved%253D0ahUKEwiJr_nWm--EAxU1rZUCHc8OD4AQ4dUDCBA%2526uact%253D5%2526oq%253Dintelig%2525C3%2525AAncia%252Bartificial%252BAND%252Bmachine%252Blearning%252BAND%252Bci%2525C3%2525AAncia%252Bde%252Bdados%252BAND%252Bengenharia%252Bde%252Bsoftware%2526gs_lp%253DEgxnd3Mtd2l6LXNlcnAiXmludGVsaWfDqm5jaWEgYXJ0aWZpY2lhbCBBTkQgbWFjaGluZSBsZWFybmluZyBBTkQgY2nDqm5jaWEgZGUgZGFkb3MgQU5EIGVuZ2VuaGFyaWEgZGUgc29mdHdhcmVIAFAAWABwAHgBkAEAmAEAoAEAqgEAuAEDyAEA-AEBmAIAoAIAmAMAkgcAoAcA%2526sclient%253Dgws-wiz-serp%26hl%3Den&amp;opi=89978449&amp;sa=U&amp;ved=0ahUKEwimtb6knO-EAxWqM1kFHUkUDQQQxs8CCHI&amp;usg=AOvVaw1nDLbJpKdzpiBi_F9TVoWP\">Sign in</a>,\n",
              " <a class=\"xeDNfc\" href=\"https://www.google.com/preferences?hl=en&amp;fg=1&amp;sa=X&amp;ved=0ahUKEwimtb6knO-EAxWqM1kFHUkUDQQQ5fUCCHM\">Settings</a>,\n",
              " <a class=\"xeDNfc\" href=\"https://policies.google.com/privacy?hl=en&amp;fg=1\">Privacy</a>,\n",
              " <a class=\"xeDNfc\" href=\"https://policies.google.com/terms?hl=en&amp;fg=1\">Terms</a>,\n",
              " <a class=\"xeDNfc\" href=\"/setprefs?hl=en&amp;prev=https://www.google.com/search?q%3Dintelig%25C3%25AAncia%2Bartificial%2BAND%2Bmachine%2Blearning%2BAND%2Bci%25C3%25AAncia%2Bde%2Bdados%2BAND%2Bengenharia%2Bde%2Bsoftware%26sca_esv%3D4b3e726407594cc1%26biw%3D1536%26bih%3D695%26tbs%3Dli:1%26ei%3Db4zwZcm7FrXa1sQPz528gAg%26ved%3D0ahUKEwiJr_nWm--EAxU1rZUCHc8OD4AQ4dUDCBA%26uact%3D5%26oq%3Dintelig%25C3%25AAncia%2Bartificial%2BAND%2Bmachine%2Blearning%2BAND%2Bci%25C3%25AAncia%2Bde%2Bdados%2BAND%2Bengenharia%2Bde%2Bsoftware%26gs_lp%3DEgxnd3Mtd2l6LXNlcnAiXmludGVsaWfDqm5jaWEgYXJ0aWZpY2lhbCBBTkQgbWFjaGluZSBsZWFybmluZyBBTkQgY2nDqm5jaWEgZGUgZGFkb3MgQU5EIGVuZ2VuaGFyaWEgZGUgc29mdHdhcmVIAFAAWABwAHgBkAEAmAEAoAEAqgEAuAEDyAEA-AEBmAIAoAIAmAMAkgcAoAcA%26sclient%3Dgws-wiz-serp%26pccc%3D1&amp;sig=0_o5UfZIxuRmXXxmoDNxnU-OM30Zc%3D&amp;cs=2&amp;sa=X&amp;ved=0ahUKEwimtb6knO-EAxWqM1kFHUkUDQQQjcAJCHQ\">Dark theme: Off</a>]"
            ]
          },
          "metadata": {},
          "execution_count": 17
        }
      ]
    },
    {
      "cell_type": "code",
      "source": [
        "todos_links[5]"
      ],
      "metadata": {
        "colab": {
          "base_uri": "https://localhost:8080/"
        },
        "id": "ahHNhPkAQ2uc",
        "outputId": "e4fd5d21-cc59-4a46-85e0-2f4e1d0a4f89"
      },
      "execution_count": 23,
      "outputs": [
        {
          "output_type": "execute_result",
          "data": {
            "text/plain": [
              "<a href=\"/search?q=intelig%C3%AAncia+artificial+AND+machine+learning+AND+ci%C3%AAncia+de+dados+AND+engenharia+de+software&amp;sca_esv=4b3e726407594cc1&amp;biw=1536&amp;bih=695&amp;ie=UTF-8&amp;tbm=isch&amp;source=lnms&amp;sa=X&amp;ved=0ahUKEwimtb6knO-EAxWqM1kFHUkUDQQQ_AUICSgE\">Images</a>"
            ]
          },
          "metadata": {},
          "execution_count": 23
        }
      ]
    },
    {
      "cell_type": "code",
      "source": [
        "titulos = soup.find_all('h3')"
      ],
      "metadata": {
        "id": "xcnTk4B-e3iE"
      },
      "execution_count": 24,
      "outputs": []
    },
    {
      "cell_type": "code",
      "source": [
        "noticias=[]\n",
        "for row in titulos:\n",
        "  dado=row.find_all('div')\n",
        "  noticias.append(dado[0].text)\n",
        "print(noticias)"
      ],
      "metadata": {
        "id": "lMWobQEPfpms",
        "colab": {
          "base_uri": "https://localhost:8080/"
        },
        "outputId": "bc2b8efe-f4f4-46d5-b942-0e652826f282"
      },
      "execution_count": 25,
      "outputs": [
        {
          "output_type": "stream",
          "name": "stdout",
          "text": [
            "['Big Splash Adventure', 'Great Wolf Lodge Water Park | Kansas City', 'Gaylord Opryland Resort & Convention Center', 'Great Wolf Lodge Water Park | Colorado Springs', 'Intelligent Algorithms | LinkedIn', 'Anderson L. on LinkedIn: #ai #machinelearning #dataengineering ...', '70 top Machine Learning (ML) companies and startups in Brazil in ...', 'Tax evasion identification using open data and artificial intelligence', 'Subjects - Informatics Europe Higher Education Data Portal', '[PDF] 2021- Palestra ECI-Marta Mattoso-vf - PESC/Coppe/UFRJ', 'Why is the market calling for Big Data Analytics? | Aquarela', 'Petrônio Silva', '[PDF] Statistics, Data Science, Machine Learning - Hedibert Freitas Lopes', \"Master's Degree (Before 2021)\"]\n"
          ]
        }
      ]
    },
    {
      "cell_type": "code",
      "source": [
        "for i in range(len(noticias)):\n",
        "  print(noticias[i])"
      ],
      "metadata": {
        "colab": {
          "base_uri": "https://localhost:8080/"
        },
        "id": "itHfPu4Yf0Rh",
        "outputId": "d09694f1-b690-48d3-9e7d-8d6b6b3f8ab0"
      },
      "execution_count": 26,
      "outputs": [
        {
          "output_type": "stream",
          "name": "stdout",
          "text": [
            "Big Splash Adventure\n",
            "Great Wolf Lodge Water Park | Kansas City\n",
            "Gaylord Opryland Resort & Convention Center\n",
            "Great Wolf Lodge Water Park | Colorado Springs\n",
            "Intelligent Algorithms | LinkedIn\n",
            "Anderson L. on LinkedIn: #ai #machinelearning #dataengineering ...\n",
            "70 top Machine Learning (ML) companies and startups in Brazil in ...\n",
            "Tax evasion identification using open data and artificial intelligence\n",
            "Subjects - Informatics Europe Higher Education Data Portal\n",
            "[PDF] 2021- Palestra ECI-Marta Mattoso-vf - PESC/Coppe/UFRJ\n",
            "Why is the market calling for Big Data Analytics? | Aquarela\n",
            "Petrônio Silva\n",
            "[PDF] Statistics, Data Science, Machine Learning - Hedibert Freitas Lopes\n",
            "Master's Degree (Before 2021)\n"
          ]
        }
      ]
    },
    {
      "cell_type": "code",
      "source": [
        "dados=pd.DataFrame(noticias, columns=['noticias'])\n",
        "dados #busquei dados a partir da inspeção do html, ferramenta de mineração de dados."
      ],
      "metadata": {
        "colab": {
          "base_uri": "https://localhost:8080/",
          "height": 363
        },
        "id": "xGPhikfs_lkw",
        "outputId": "d4494d9f-65c8-41cc-938e-829b2a3e8db2"
      },
      "execution_count": null,
      "outputs": [
        {
          "output_type": "execute_result",
          "data": {
            "text/plain": [
              "                                            noticias\n",
              "0  Viagens aéreas precisam ser mais acessíveis no...\n",
              "1  Aeroporto de Congonhas é liberado após quase 9...\n",
              "2  Pneu estoura e avião para rente a barranco do ...\n",
              "3  Viagens aéreas precisam ficar mais baratas no ...\n",
              "4  Avião é retirado da pista, e operação do Aerop...\n",
              "5  Está no Brasil um Jumbo 747-400F da National; ...\n",
              "6  Aeroporto de Congonhas cancela mais de 70 voos...\n",
              "7  Viagens aéreas precisam ficar mais baratas no ...\n",
              "8  Pneu de avião estoura durante pouso em Aeropor...\n",
              "9  Mais de 140 voos foram cancelados em Congonhas..."
            ],
            "text/html": [
              "\n",
              "  <div id=\"df-5703f5aa-a605-48aa-b047-052fd0e15269\">\n",
              "    <div class=\"colab-df-container\">\n",
              "      <div>\n",
              "<style scoped>\n",
              "    .dataframe tbody tr th:only-of-type {\n",
              "        vertical-align: middle;\n",
              "    }\n",
              "\n",
              "    .dataframe tbody tr th {\n",
              "        vertical-align: top;\n",
              "    }\n",
              "\n",
              "    .dataframe thead th {\n",
              "        text-align: right;\n",
              "    }\n",
              "</style>\n",
              "<table border=\"1\" class=\"dataframe\">\n",
              "  <thead>\n",
              "    <tr style=\"text-align: right;\">\n",
              "      <th></th>\n",
              "      <th>noticias</th>\n",
              "    </tr>\n",
              "  </thead>\n",
              "  <tbody>\n",
              "    <tr>\n",
              "      <th>0</th>\n",
              "      <td>Viagens aéreas precisam ser mais acessíveis no...</td>\n",
              "    </tr>\n",
              "    <tr>\n",
              "      <th>1</th>\n",
              "      <td>Aeroporto de Congonhas é liberado após quase 9...</td>\n",
              "    </tr>\n",
              "    <tr>\n",
              "      <th>2</th>\n",
              "      <td>Pneu estoura e avião para rente a barranco do ...</td>\n",
              "    </tr>\n",
              "    <tr>\n",
              "      <th>3</th>\n",
              "      <td>Viagens aéreas precisam ficar mais baratas no ...</td>\n",
              "    </tr>\n",
              "    <tr>\n",
              "      <th>4</th>\n",
              "      <td>Avião é retirado da pista, e operação do Aerop...</td>\n",
              "    </tr>\n",
              "    <tr>\n",
              "      <th>5</th>\n",
              "      <td>Está no Brasil um Jumbo 747-400F da National; ...</td>\n",
              "    </tr>\n",
              "    <tr>\n",
              "      <th>6</th>\n",
              "      <td>Aeroporto de Congonhas cancela mais de 70 voos...</td>\n",
              "    </tr>\n",
              "    <tr>\n",
              "      <th>7</th>\n",
              "      <td>Viagens aéreas precisam ficar mais baratas no ...</td>\n",
              "    </tr>\n",
              "    <tr>\n",
              "      <th>8</th>\n",
              "      <td>Pneu de avião estoura durante pouso em Aeropor...</td>\n",
              "    </tr>\n",
              "    <tr>\n",
              "      <th>9</th>\n",
              "      <td>Mais de 140 voos foram cancelados em Congonhas...</td>\n",
              "    </tr>\n",
              "  </tbody>\n",
              "</table>\n",
              "</div>\n",
              "      <button class=\"colab-df-convert\" onclick=\"convertToInteractive('df-5703f5aa-a605-48aa-b047-052fd0e15269')\"\n",
              "              title=\"Convert this dataframe to an interactive table.\"\n",
              "              style=\"display:none;\">\n",
              "        \n",
              "  <svg xmlns=\"http://www.w3.org/2000/svg\" height=\"24px\"viewBox=\"0 0 24 24\"\n",
              "       width=\"24px\">\n",
              "    <path d=\"M0 0h24v24H0V0z\" fill=\"none\"/>\n",
              "    <path d=\"M18.56 5.44l.94 2.06.94-2.06 2.06-.94-2.06-.94-.94-2.06-.94 2.06-2.06.94zm-11 1L8.5 8.5l.94-2.06 2.06-.94-2.06-.94L8.5 2.5l-.94 2.06-2.06.94zm10 10l.94 2.06.94-2.06 2.06-.94-2.06-.94-.94-2.06-.94 2.06-2.06.94z\"/><path d=\"M17.41 7.96l-1.37-1.37c-.4-.4-.92-.59-1.43-.59-.52 0-1.04.2-1.43.59L10.3 9.45l-7.72 7.72c-.78.78-.78 2.05 0 2.83L4 21.41c.39.39.9.59 1.41.59.51 0 1.02-.2 1.41-.59l7.78-7.78 2.81-2.81c.8-.78.8-2.07 0-2.86zM5.41 20L4 18.59l7.72-7.72 1.47 1.35L5.41 20z\"/>\n",
              "  </svg>\n",
              "      </button>\n",
              "      \n",
              "  <style>\n",
              "    .colab-df-container {\n",
              "      display:flex;\n",
              "      flex-wrap:wrap;\n",
              "      gap: 12px;\n",
              "    }\n",
              "\n",
              "    .colab-df-convert {\n",
              "      background-color: #E8F0FE;\n",
              "      border: none;\n",
              "      border-radius: 50%;\n",
              "      cursor: pointer;\n",
              "      display: none;\n",
              "      fill: #1967D2;\n",
              "      height: 32px;\n",
              "      padding: 0 0 0 0;\n",
              "      width: 32px;\n",
              "    }\n",
              "\n",
              "    .colab-df-convert:hover {\n",
              "      background-color: #E2EBFA;\n",
              "      box-shadow: 0px 1px 2px rgba(60, 64, 67, 0.3), 0px 1px 3px 1px rgba(60, 64, 67, 0.15);\n",
              "      fill: #174EA6;\n",
              "    }\n",
              "\n",
              "    [theme=dark] .colab-df-convert {\n",
              "      background-color: #3B4455;\n",
              "      fill: #D2E3FC;\n",
              "    }\n",
              "\n",
              "    [theme=dark] .colab-df-convert:hover {\n",
              "      background-color: #434B5C;\n",
              "      box-shadow: 0px 1px 3px 1px rgba(0, 0, 0, 0.15);\n",
              "      filter: drop-shadow(0px 1px 2px rgba(0, 0, 0, 0.3));\n",
              "      fill: #FFFFFF;\n",
              "    }\n",
              "  </style>\n",
              "\n",
              "      <script>\n",
              "        const buttonEl =\n",
              "          document.querySelector('#df-5703f5aa-a605-48aa-b047-052fd0e15269 button.colab-df-convert');\n",
              "        buttonEl.style.display =\n",
              "          google.colab.kernel.accessAllowed ? 'block' : 'none';\n",
              "\n",
              "        async function convertToInteractive(key) {\n",
              "          const element = document.querySelector('#df-5703f5aa-a605-48aa-b047-052fd0e15269');\n",
              "          const dataTable =\n",
              "            await google.colab.kernel.invokeFunction('convertToInteractive',\n",
              "                                                     [key], {});\n",
              "          if (!dataTable) return;\n",
              "\n",
              "          const docLinkHtml = 'Like what you see? Visit the ' +\n",
              "            '<a target=\"_blank\" href=https://colab.research.google.com/notebooks/data_table.ipynb>data table notebook</a>'\n",
              "            + ' to learn more about interactive tables.';\n",
              "          element.innerHTML = '';\n",
              "          dataTable['output_type'] = 'display_data';\n",
              "          await google.colab.output.renderOutput(dataTable, element);\n",
              "          const docLink = document.createElement('div');\n",
              "          docLink.innerHTML = docLinkHtml;\n",
              "          element.appendChild(docLink);\n",
              "        }\n",
              "      </script>\n",
              "    </div>\n",
              "  </div>\n",
              "  "
            ]
          },
          "metadata": {},
          "execution_count": 22
        }
      ]
    },
    {
      "cell_type": "markdown",
      "source": [
        "AGORA NO MOMENTO ESTOU COPIANDO OS LINKS E AGREGANDO EM UM GOOGLE DOCS\n"
      ],
      "metadata": {
        "id": "qrFu205gLIBk"
      }
    },
    {
      "cell_type": "code",
      "source": [
        "link = soup.find_all('a')"
      ],
      "metadata": {
        "id": "tjf_BLvqHT7h"
      },
      "execution_count": null,
      "outputs": []
    },
    {
      "cell_type": "code",
      "source": [
        "!pip install Selenium"
      ],
      "metadata": {
        "colab": {
          "base_uri": "https://localhost:8080/",
          "height": 554
        },
        "id": "YfC42VGHOuK3",
        "outputId": "c6e47f0b-5779-4b67-898f-31338674d096"
      },
      "execution_count": null,
      "outputs": [
        {
          "output_type": "stream",
          "name": "stdout",
          "text": [
            "Looking in indexes: https://pypi.org/simple, https://us-python.pkg.dev/colab-wheels/public/simple/\n",
            "Requirement already satisfied: Selenium in /usr/local/lib/python3.7/dist-packages (4.5.0)\n",
            "Requirement already satisfied: trio-websocket~=0.9 in /usr/local/lib/python3.7/dist-packages (from Selenium) (0.9.2)\n",
            "Collecting urllib3[socks]~=1.26\n",
            "  Using cached urllib3-1.26.12-py2.py3-none-any.whl (140 kB)\n",
            "Requirement already satisfied: certifi>=2021.10.8 in /usr/local/lib/python3.7/dist-packages (from Selenium) (2022.9.24)\n",
            "Requirement already satisfied: trio~=0.17 in /usr/local/lib/python3.7/dist-packages (from Selenium) (0.22.0)\n",
            "Requirement already satisfied: outcome in /usr/local/lib/python3.7/dist-packages (from trio~=0.17->Selenium) (1.2.0)\n",
            "Requirement already satisfied: async-generator>=1.9 in /usr/local/lib/python3.7/dist-packages (from trio~=0.17->Selenium) (1.10)\n",
            "Requirement already satisfied: sniffio in /usr/local/lib/python3.7/dist-packages (from trio~=0.17->Selenium) (1.3.0)\n",
            "Requirement already satisfied: attrs>=19.2.0 in /usr/local/lib/python3.7/dist-packages (from trio~=0.17->Selenium) (22.1.0)\n",
            "Requirement already satisfied: exceptiongroup>=1.0.0rc9 in /usr/local/lib/python3.7/dist-packages (from trio~=0.17->Selenium) (1.0.0rc9)\n",
            "Requirement already satisfied: sortedcontainers in /usr/local/lib/python3.7/dist-packages (from trio~=0.17->Selenium) (2.4.0)\n",
            "Requirement already satisfied: idna in /usr/local/lib/python3.7/dist-packages (from trio~=0.17->Selenium) (2.10)\n",
            "Requirement already satisfied: wsproto>=0.14 in /usr/local/lib/python3.7/dist-packages (from trio-websocket~=0.9->Selenium) (1.2.0)\n",
            "Requirement already satisfied: PySocks!=1.5.7,<2.0,>=1.5.6 in /usr/local/lib/python3.7/dist-packages (from urllib3[socks]~=1.26->Selenium) (1.7.1)\n",
            "Requirement already satisfied: h11<1,>=0.9.0 in /usr/local/lib/python3.7/dist-packages (from wsproto>=0.14->trio-websocket~=0.9->Selenium) (0.14.0)\n",
            "Requirement already satisfied: typing-extensions in /usr/local/lib/python3.7/dist-packages (from h11<1,>=0.9.0->wsproto>=0.14->trio-websocket~=0.9->Selenium) (4.1.1)\n",
            "Installing collected packages: urllib3\n",
            "  Attempting uninstall: urllib3\n",
            "    Found existing installation: urllib3 1.25.11\n",
            "    Uninstalling urllib3-1.25.11:\n",
            "      Successfully uninstalled urllib3-1.25.11\n",
            "\u001b[31mERROR: pip's dependency resolver does not currently take into account all the packages that are installed. This behaviour is the source of the following dependency conflicts.\n",
            "requests 2.23.0 requires urllib3!=1.25.0,!=1.25.1,<1.26,>=1.21.1, but you have urllib3 1.26.12 which is incompatible.\u001b[0m\n",
            "Successfully installed urllib3-1.26.12\n"
          ]
        },
        {
          "output_type": "display_data",
          "data": {
            "application/vnd.colab-display-data+json": {
              "pip_warning": {
                "packages": [
                  "urllib3"
                ]
              }
            }
          },
          "metadata": {}
        }
      ]
    },
    {
      "cell_type": "code",
      "source": [
        "import selenium"
      ],
      "metadata": {
        "id": "_maDPClrPZYi"
      },
      "execution_count": null,
      "outputs": []
    },
    {
      "cell_type": "code",
      "source": [
        "from selenium import webdriver"
      ],
      "metadata": {
        "id": "EHe_4JUfSK2s"
      },
      "execution_count": null,
      "outputs": []
    },
    {
      "cell_type": "code",
      "source": [
        "!pip install chromedriver"
      ],
      "metadata": {
        "colab": {
          "base_uri": "https://localhost:8080/"
        },
        "id": "dwX0tMTUT4Uq",
        "outputId": "510a7366-745c-4b00-c34d-f02d9d073504"
      },
      "execution_count": null,
      "outputs": [
        {
          "output_type": "stream",
          "name": "stdout",
          "text": [
            "Looking in indexes: https://pypi.org/simple, https://us-python.pkg.dev/colab-wheels/public/simple/\n",
            "Requirement already satisfied: chromedriver in /usr/local/lib/python3.7/dist-packages (2.24.1)\n"
          ]
        }
      ]
    },
    {
      "cell_type": "code",
      "source": [
        "pip install webdriver-manager"
      ],
      "metadata": {
        "colab": {
          "base_uri": "https://localhost:8080/",
          "height": 415
        },
        "id": "zbozelqiSU2t",
        "outputId": "ab3717a8-39d5-4f05-f35e-18461a95fffc"
      },
      "execution_count": null,
      "outputs": [
        {
          "output_type": "stream",
          "name": "stdout",
          "text": [
            "Looking in indexes: https://pypi.org/simple, https://us-python.pkg.dev/colab-wheels/public/simple/\n",
            "Requirement already satisfied: webdriver-manager in /usr/local/lib/python3.7/dist-packages (3.8.3)\n",
            "Requirement already satisfied: python-dotenv in /usr/local/lib/python3.7/dist-packages (from webdriver-manager) (0.21.0)\n",
            "Requirement already satisfied: requests in /usr/local/lib/python3.7/dist-packages (from webdriver-manager) (2.23.0)\n",
            "Requirement already satisfied: tqdm in /usr/local/lib/python3.7/dist-packages (from webdriver-manager) (4.64.1)\n",
            "Collecting urllib3!=1.25.0,!=1.25.1,<1.26,>=1.21.1\n",
            "  Using cached urllib3-1.25.11-py2.py3-none-any.whl (127 kB)\n",
            "Requirement already satisfied: chardet<4,>=3.0.2 in /usr/local/lib/python3.7/dist-packages (from requests->webdriver-manager) (3.0.4)\n",
            "Requirement already satisfied: idna<3,>=2.5 in /usr/local/lib/python3.7/dist-packages (from requests->webdriver-manager) (2.10)\n",
            "Requirement already satisfied: certifi>=2017.4.17 in /usr/local/lib/python3.7/dist-packages (from requests->webdriver-manager) (2022.9.24)\n",
            "Installing collected packages: urllib3\n",
            "  Attempting uninstall: urllib3\n",
            "    Found existing installation: urllib3 1.26.12\n",
            "    Uninstalling urllib3-1.26.12:\n",
            "      Successfully uninstalled urllib3-1.26.12\n",
            "\u001b[31mERROR: pip's dependency resolver does not currently take into account all the packages that are installed. This behaviour is the source of the following dependency conflicts.\n",
            "selenium 4.5.0 requires urllib3[socks]~=1.26, but you have urllib3 1.25.11 which is incompatible.\u001b[0m\n",
            "Successfully installed urllib3-1.25.11\n"
          ]
        },
        {
          "output_type": "display_data",
          "data": {
            "application/vnd.colab-display-data+json": {
              "pip_warning": {
                "packages": [
                  "urllib3"
                ]
              }
            }
          },
          "metadata": {}
        }
      ]
    },
    {
      "cell_type": "code",
      "source": [
        "from selenium import webdriver\n",
        "from webdriver_manager.chrome import ChromeDriverManager\n"
      ],
      "metadata": {
        "id": "hQJZG1qoStF0"
      },
      "execution_count": null,
      "outputs": []
    },
    {
      "cell_type": "code",
      "source": [
        "driver =ChromeDriverManager()"
      ],
      "metadata": {
        "id": "Kf1UbHaMUlD2"
      },
      "execution_count": null,
      "outputs": []
    },
    {
      "cell_type": "code",
      "source": [
        " driver1 = ChromeDriverManager('/path/to/chromedriver')"
      ],
      "metadata": {
        "id": "yDBGDCuWU8Z5"
      },
      "execution_count": null,
      "outputs": []
    },
    {
      "cell_type": "code",
      "source": [],
      "metadata": {
        "id": "CV_YN2OeVT0A"
      },
      "execution_count": null,
      "outputs": []
    }
  ]
}
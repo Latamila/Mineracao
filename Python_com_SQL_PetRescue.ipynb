{
  "nbformat": 4,
  "nbformat_minor": 0,
  "metadata": {
    "colab": {
      "provenance": [],
      "authorship_tag": "ABX9TyPniedIktSShBFS6J7uOm9c",
      "include_colab_link": true
    },
    "kernelspec": {
      "name": "python3",
      "display_name": "Python 3"
    },
    "language_info": {
      "name": "python"
    }
  },
  "cells": [
    {
      "cell_type": "markdown",
      "metadata": {
        "id": "view-in-github",
        "colab_type": "text"
      },
      "source": [
        "<a href=\"https://colab.research.google.com/github/Latamila/Mineracao/blob/main/Python_com_SQL_PetRescue.ipynb\" target=\"_parent\"><img src=\"https://colab.research.google.com/assets/colab-badge.svg\" alt=\"Open In Colab\"/></a>"
      ]
    },
    {
      "cell_type": "code",
      "execution_count": 1,
      "metadata": {
        "id": "bbEbGlkDZu9F"
      },
      "outputs": [],
      "source": [
        "import sqlite3\n"
      ]
    },
    {
      "cell_type": "code",
      "source": [
        "from google.colab import files"
      ],
      "metadata": {
        "id": "b8NbYL8fZxgW"
      },
      "execution_count": 3,
      "outputs": []
    },
    {
      "cell_type": "code",
      "source": [
        "uploaded = files.upload()"
      ],
      "metadata": {
        "colab": {
          "base_uri": "https://localhost:8080/",
          "height": 73
        },
        "id": "AsxAftuXZ3bO",
        "outputId": "e71b0495-5120-45ac-befb-9463a35733cd"
      },
      "execution_count": 4,
      "outputs": [
        {
          "output_type": "display_data",
          "data": {
            "text/plain": [
              "<IPython.core.display.HTML object>"
            ],
            "text/html": [
              "\n",
              "     <input type=\"file\" id=\"files-2bb202e2-a467-4e2e-abec-0083ffa1adb4\" name=\"files[]\" multiple disabled\n",
              "        style=\"border:none\" />\n",
              "     <output id=\"result-2bb202e2-a467-4e2e-abec-0083ffa1adb4\">\n",
              "      Upload widget is only available when the cell has been executed in the\n",
              "      current browser session. Please rerun this cell to enable.\n",
              "      </output>\n",
              "      <script>// Copyright 2017 Google LLC\n",
              "//\n",
              "// Licensed under the Apache License, Version 2.0 (the \"License\");\n",
              "// you may not use this file except in compliance with the License.\n",
              "// You may obtain a copy of the License at\n",
              "//\n",
              "//      http://www.apache.org/licenses/LICENSE-2.0\n",
              "//\n",
              "// Unless required by applicable law or agreed to in writing, software\n",
              "// distributed under the License is distributed on an \"AS IS\" BASIS,\n",
              "// WITHOUT WARRANTIES OR CONDITIONS OF ANY KIND, either express or implied.\n",
              "// See the License for the specific language governing permissions and\n",
              "// limitations under the License.\n",
              "\n",
              "/**\n",
              " * @fileoverview Helpers for google.colab Python module.\n",
              " */\n",
              "(function(scope) {\n",
              "function span(text, styleAttributes = {}) {\n",
              "  const element = document.createElement('span');\n",
              "  element.textContent = text;\n",
              "  for (const key of Object.keys(styleAttributes)) {\n",
              "    element.style[key] = styleAttributes[key];\n",
              "  }\n",
              "  return element;\n",
              "}\n",
              "\n",
              "// Max number of bytes which will be uploaded at a time.\n",
              "const MAX_PAYLOAD_SIZE = 100 * 1024;\n",
              "\n",
              "function _uploadFiles(inputId, outputId) {\n",
              "  const steps = uploadFilesStep(inputId, outputId);\n",
              "  const outputElement = document.getElementById(outputId);\n",
              "  // Cache steps on the outputElement to make it available for the next call\n",
              "  // to uploadFilesContinue from Python.\n",
              "  outputElement.steps = steps;\n",
              "\n",
              "  return _uploadFilesContinue(outputId);\n",
              "}\n",
              "\n",
              "// This is roughly an async generator (not supported in the browser yet),\n",
              "// where there are multiple asynchronous steps and the Python side is going\n",
              "// to poll for completion of each step.\n",
              "// This uses a Promise to block the python side on completion of each step,\n",
              "// then passes the result of the previous step as the input to the next step.\n",
              "function _uploadFilesContinue(outputId) {\n",
              "  const outputElement = document.getElementById(outputId);\n",
              "  const steps = outputElement.steps;\n",
              "\n",
              "  const next = steps.next(outputElement.lastPromiseValue);\n",
              "  return Promise.resolve(next.value.promise).then((value) => {\n",
              "    // Cache the last promise value to make it available to the next\n",
              "    // step of the generator.\n",
              "    outputElement.lastPromiseValue = value;\n",
              "    return next.value.response;\n",
              "  });\n",
              "}\n",
              "\n",
              "/**\n",
              " * Generator function which is called between each async step of the upload\n",
              " * process.\n",
              " * @param {string} inputId Element ID of the input file picker element.\n",
              " * @param {string} outputId Element ID of the output display.\n",
              " * @return {!Iterable<!Object>} Iterable of next steps.\n",
              " */\n",
              "function* uploadFilesStep(inputId, outputId) {\n",
              "  const inputElement = document.getElementById(inputId);\n",
              "  inputElement.disabled = false;\n",
              "\n",
              "  const outputElement = document.getElementById(outputId);\n",
              "  outputElement.innerHTML = '';\n",
              "\n",
              "  const pickedPromise = new Promise((resolve) => {\n",
              "    inputElement.addEventListener('change', (e) => {\n",
              "      resolve(e.target.files);\n",
              "    });\n",
              "  });\n",
              "\n",
              "  const cancel = document.createElement('button');\n",
              "  inputElement.parentElement.appendChild(cancel);\n",
              "  cancel.textContent = 'Cancel upload';\n",
              "  const cancelPromise = new Promise((resolve) => {\n",
              "    cancel.onclick = () => {\n",
              "      resolve(null);\n",
              "    };\n",
              "  });\n",
              "\n",
              "  // Wait for the user to pick the files.\n",
              "  const files = yield {\n",
              "    promise: Promise.race([pickedPromise, cancelPromise]),\n",
              "    response: {\n",
              "      action: 'starting',\n",
              "    }\n",
              "  };\n",
              "\n",
              "  cancel.remove();\n",
              "\n",
              "  // Disable the input element since further picks are not allowed.\n",
              "  inputElement.disabled = true;\n",
              "\n",
              "  if (!files) {\n",
              "    return {\n",
              "      response: {\n",
              "        action: 'complete',\n",
              "      }\n",
              "    };\n",
              "  }\n",
              "\n",
              "  for (const file of files) {\n",
              "    const li = document.createElement('li');\n",
              "    li.append(span(file.name, {fontWeight: 'bold'}));\n",
              "    li.append(span(\n",
              "        `(${file.type || 'n/a'}) - ${file.size} bytes, ` +\n",
              "        `last modified: ${\n",
              "            file.lastModifiedDate ? file.lastModifiedDate.toLocaleDateString() :\n",
              "                                    'n/a'} - `));\n",
              "    const percent = span('0% done');\n",
              "    li.appendChild(percent);\n",
              "\n",
              "    outputElement.appendChild(li);\n",
              "\n",
              "    const fileDataPromise = new Promise((resolve) => {\n",
              "      const reader = new FileReader();\n",
              "      reader.onload = (e) => {\n",
              "        resolve(e.target.result);\n",
              "      };\n",
              "      reader.readAsArrayBuffer(file);\n",
              "    });\n",
              "    // Wait for the data to be ready.\n",
              "    let fileData = yield {\n",
              "      promise: fileDataPromise,\n",
              "      response: {\n",
              "        action: 'continue',\n",
              "      }\n",
              "    };\n",
              "\n",
              "    // Use a chunked sending to avoid message size limits. See b/62115660.\n",
              "    let position = 0;\n",
              "    do {\n",
              "      const length = Math.min(fileData.byteLength - position, MAX_PAYLOAD_SIZE);\n",
              "      const chunk = new Uint8Array(fileData, position, length);\n",
              "      position += length;\n",
              "\n",
              "      const base64 = btoa(String.fromCharCode.apply(null, chunk));\n",
              "      yield {\n",
              "        response: {\n",
              "          action: 'append',\n",
              "          file: file.name,\n",
              "          data: base64,\n",
              "        },\n",
              "      };\n",
              "\n",
              "      let percentDone = fileData.byteLength === 0 ?\n",
              "          100 :\n",
              "          Math.round((position / fileData.byteLength) * 100);\n",
              "      percent.textContent = `${percentDone}% done`;\n",
              "\n",
              "    } while (position < fileData.byteLength);\n",
              "  }\n",
              "\n",
              "  // All done.\n",
              "  yield {\n",
              "    response: {\n",
              "      action: 'complete',\n",
              "    }\n",
              "  };\n",
              "}\n",
              "\n",
              "scope.google = scope.google || {};\n",
              "scope.google.colab = scope.google.colab || {};\n",
              "scope.google.colab._files = {\n",
              "  _uploadFiles,\n",
              "  _uploadFilesContinue,\n",
              "};\n",
              "})(self);\n",
              "</script> "
            ]
          },
          "metadata": {}
        },
        {
          "output_type": "stream",
          "name": "stdout",
          "text": [
            "Saving PETRESCUE-CREATE.sql to PETRESCUE-CREATE (1).sql\n"
          ]
        }
      ]
    },
    {
      "cell_type": "code",
      "source": [
        "con = sqlite3.connect('meu_banco_de_dados.db') # para criar um banco de dados"
      ],
      "metadata": {
        "id": "KVTvUTOeZ5iA"
      },
      "execution_count": 5,
      "outputs": []
    },
    {
      "cell_type": "code",
      "source": [
        "print(con)"
      ],
      "metadata": {
        "colab": {
          "base_uri": "https://localhost:8080/"
        },
        "id": "ul5FcTytaEVG",
        "outputId": "20d0dd29-1f0d-4814-d53b-683cadbb55a2"
      },
      "execution_count": 6,
      "outputs": [
        {
          "output_type": "stream",
          "name": "stdout",
          "text": [
            "<sqlite3.Connection object at 0x7ac5aefa0840>\n"
          ]
        }
      ]
    },
    {
      "cell_type": "code",
      "source": [
        "cursor = con.cursor() #objeto capaz de escrever codigos em sql e executar no sql"
      ],
      "metadata": {
        "id": "aNA26kKnaKc_"
      },
      "execution_count": 7,
      "outputs": []
    },
    {
      "cell_type": "code",
      "source": [
        "cursor.execute(\"CREATE TABLE 'teste' (nome TEXT)\") #requisição para criar tabela porem nao há alteração no banco\n",
        "#de dados. Para isso é preciso chamar o 'con.commit()'\n"
      ],
      "metadata": {
        "colab": {
          "base_uri": "https://localhost:8080/"
        },
        "id": "ONiqF-wvaNm7",
        "outputId": "9b42fdc4-e67f-45eb-f307-130cebb4c0b4"
      },
      "execution_count": 15,
      "outputs": [
        {
          "output_type": "execute_result",
          "data": {
            "text/plain": [
              "<sqlite3.Cursor at 0x7ac5aef3dec0>"
            ]
          },
          "metadata": {},
          "execution_count": 15
        }
      ]
    },
    {
      "cell_type": "code",
      "source": [
        "con.commit()"
      ],
      "metadata": {
        "id": "YIWjdVvqajkG"
      },
      "execution_count": 16,
      "outputs": []
    },
    {
      "cell_type": "code",
      "source": [
        "cursor.execute('''create table PETRESCUE (\n",
        "\tID INTEGER NOT NULL,\n",
        "\tANIMAL VARCHAR(20),\n",
        "\tQUANTITY INTEGER,\n",
        "\tCOST DECIMAL(6,2),\n",
        "\tRESCUEDATE DATE,\n",
        "\tPRIMARY KEY (ID)\n",
        "\t);\n",
        "''') # so pode fazer uma requisição por vez."
      ],
      "metadata": {
        "colab": {
          "base_uri": "https://localhost:8080/"
        },
        "id": "68WVE0s8amaA",
        "outputId": "2f464e86-ab77-4c2c-f770-501bbf64d0f5"
      },
      "execution_count": 17,
      "outputs": [
        {
          "output_type": "execute_result",
          "data": {
            "text/plain": [
              "<sqlite3.Cursor at 0x7ac5aef3dec0>"
            ]
          },
          "metadata": {},
          "execution_count": 17
        }
      ]
    },
    {
      "cell_type": "code",
      "source": [
        "cursor.execute('''\n",
        "insert into PETRESCUE values\n",
        "\t(1,'Cat',9,450.09,'2018-05-29'),\n",
        "\t(2,'Dog',3,666.66,'2018-06-01'),\n",
        "\t(3,'Dog',1,100.00,'2018-06-04'),\n",
        "\t(4,'Parrot',2,50.00,'2018-06-04'),\n",
        "\t(5,'Dog',1,75.75,'2018-06-10'),\n",
        "\t(6,'Hamster',6,60.60,'2018-06-11'),\n",
        "\t(7,'Cat',1,44.44,'2018-06-11'),\n",
        "\t(8,'Goldfish',24,48.48,'2018-06-14'),\n",
        "\t(9,'Dog',2,222.22,'2018-06-15')\n",
        "\n",
        ";''')"
      ],
      "metadata": {
        "colab": {
          "base_uri": "https://localhost:8080/"
        },
        "id": "YO2VoX5fbMBv",
        "outputId": "3959569a-2994-4156-b8d7-b0720518554e"
      },
      "execution_count": 18,
      "outputs": [
        {
          "output_type": "execute_result",
          "data": {
            "text/plain": [
              "<sqlite3.Cursor at 0x7ac5aef3dec0>"
            ]
          },
          "metadata": {},
          "execution_count": 18
        }
      ]
    },
    {
      "cell_type": "code",
      "source": [
        "def inserir_dados_tabela():\n",
        "  id = int(input('insira o numero do ID:'))\n",
        "  animal = input('insira o tipo de animal:')\n",
        "  quantity = int(input('insira a quantidade resgatada:'))\n",
        "  cost = float(input('insira o custo total dos resgates:'))\n",
        "  rescuedate = input('insira a data do resgate:')\n",
        "  cursor.execute(f\"insert or ignore into PETRESCUE values('{id}','{animal}','{quantity}','{cost}','{rescuedate}');\")\n",
        "  con.commit()\n",
        ""
      ],
      "metadata": {
        "id": "gVjFABYAgpOK"
      },
      "execution_count": 32,
      "outputs": []
    },
    {
      "cell_type": "code",
      "source": [
        "con.commit()"
      ],
      "metadata": {
        "id": "SJbkoF3mgN1W"
      },
      "execution_count": 29,
      "outputs": []
    },
    {
      "cell_type": "code",
      "source": [
        "X = cursor.execute('''\n",
        "select * from PETRESCUE\n",
        "''')"
      ],
      "metadata": {
        "id": "HE4-5GN9dPnT"
      },
      "execution_count": 33,
      "outputs": []
    },
    {
      "cell_type": "code",
      "source": [
        "for i in X:\n",
        "  print(i)"
      ],
      "metadata": {
        "colab": {
          "base_uri": "https://localhost:8080/"
        },
        "id": "pM1Q-BGMd7Lc",
        "outputId": "31ba233f-4faa-425c-f24c-051facb787d3"
      },
      "execution_count": 34,
      "outputs": [
        {
          "output_type": "stream",
          "name": "stdout",
          "text": [
            "(1, 'Cat', 9, 450.09, '2018-05-29')\n",
            "(2, 'Dog', 3, 666.66, '2018-06-01')\n",
            "(3, 'Dog', 1, 100, '2018-06-04')\n",
            "(4, 'Parrot', 2, 50, '2018-06-04')\n",
            "(5, 'Dog', 1, 75.75, '2018-06-10')\n",
            "(6, 'Hamster', 6, 60.6, '2018-06-11')\n",
            "(7, 'Cat', 1, 44.44, '2018-06-11')\n",
            "(8, 'Goldfish', 24, 48.48, '2018-06-14')\n",
            "(9, 'Dog', 2, 222.22, '2018-06-15')\n",
            "(10, 'Cat', 5, 250, '2023-12-25')\n",
            "(11, 'Dog', 3, 270, '2023-02-20')\n"
          ]
        }
      ]
    },
    {
      "cell_type": "code",
      "source": [
        "inserir_dados_tabela()"
      ],
      "metadata": {
        "colab": {
          "base_uri": "https://localhost:8080/"
        },
        "id": "Nd5zDw7Pd906",
        "outputId": "e212911b-6605-427c-efbe-826ef766a1f1"
      },
      "execution_count": 35,
      "outputs": [
        {
          "name": "stdout",
          "output_type": "stream",
          "text": [
            "insira o numero do ID:12\n",
            "insira o tipo de animal:Horse\n",
            "insira a quantidade resgatada:2\n",
            "insira o custo total dos resgates:400.00\n",
            "insira a data do resgate:2023-08-17\n"
          ]
        }
      ]
    },
    {
      "cell_type": "code",
      "source": [
        "def visualizar_tabela():\n",
        "  X = cursor.execute('''\n",
        "select * from PETRESCUE\n",
        "''')\n",
        "  for i in X:\n",
        "    print(i)"
      ],
      "metadata": {
        "id": "HBdStScAhCNE"
      },
      "execution_count": 36,
      "outputs": []
    },
    {
      "cell_type": "code",
      "source": [
        "visualizar_tabela()"
      ],
      "metadata": {
        "colab": {
          "base_uri": "https://localhost:8080/"
        },
        "id": "Bj1IBrzfhXDw",
        "outputId": "08294d4a-d469-48a3-a315-4a0b7816d996"
      },
      "execution_count": 37,
      "outputs": [
        {
          "output_type": "stream",
          "name": "stdout",
          "text": [
            "(1, 'Cat', 9, 450.09, '2018-05-29')\n",
            "(2, 'Dog', 3, 666.66, '2018-06-01')\n",
            "(3, 'Dog', 1, 100, '2018-06-04')\n",
            "(4, 'Parrot', 2, 50, '2018-06-04')\n",
            "(5, 'Dog', 1, 75.75, '2018-06-10')\n",
            "(6, 'Hamster', 6, 60.6, '2018-06-11')\n",
            "(7, 'Cat', 1, 44.44, '2018-06-11')\n",
            "(8, 'Goldfish', 24, 48.48, '2018-06-14')\n",
            "(9, 'Dog', 2, 222.22, '2018-06-15')\n",
            "(10, 'Cat', 5, 250, '2023-12-25')\n",
            "(11, 'Dog', 3, 270, '2023-02-20')\n",
            "(12, 'Horse', 2, 400, '2023-08-17')\n"
          ]
        }
      ]
    },
    {
      "cell_type": "code",
      "source": [
        "a = cursor.execute('''\n",
        "select DISTINCT animal\n",
        "from PETRESCUE\n",
        "order by animal ASC\n",
        "''')\n",
        "for linha in a:\n",
        "  print(linha)"
      ],
      "metadata": {
        "colab": {
          "base_uri": "https://localhost:8080/"
        },
        "id": "6RAWuhnBhZWM",
        "outputId": "83fb0062-0173-4150-b4e4-d834a098a7ed"
      },
      "execution_count": 44,
      "outputs": [
        {
          "output_type": "stream",
          "name": "stdout",
          "text": [
            "('Cat',)\n",
            "('Dog',)\n",
            "('Goldfish',)\n",
            "('Hamster',)\n",
            "('Horse',)\n",
            "('Parrot',)\n"
          ]
        }
      ]
    },
    {
      "cell_type": "code",
      "source": [
        "def agrupar_animais():\n",
        "  b = cursor.execute('''\n",
        "select animal, sum(quantity)\n",
        "from PETRESCUE\n",
        "group by animal\n",
        "''')\n",
        "  for i in b:\n",
        "    print(i)"
      ],
      "metadata": {
        "id": "FPFDl6bIiAiD"
      },
      "execution_count": 51,
      "outputs": []
    },
    {
      "cell_type": "code",
      "source": [
        "agrupar_animais()"
      ],
      "metadata": {
        "colab": {
          "base_uri": "https://localhost:8080/"
        },
        "id": "XcDO7teZiXzh",
        "outputId": "5a67e0d9-ad43-4720-9ce1-b7472e58713c"
      },
      "execution_count": 52,
      "outputs": [
        {
          "output_type": "stream",
          "name": "stdout",
          "text": [
            "('Cat', 15)\n",
            "('Dog', 10)\n",
            "('Goldfish', 24)\n",
            "('Hamster', 6)\n",
            "('Horse', 2)\n",
            "('Parrot', 2)\n"
          ]
        }
      ]
    },
    {
      "cell_type": "code",
      "source": [
        "  n = int(input('Acima de qual quantidade você quer observar: '))\n",
        "  c = cursor.execute(f\"select animal, count(animal) from PETRESCUE group by animal having count(animal) > {n};\")\n",
        "  for i in c:\n",
        "    print(i)"
      ],
      "metadata": {
        "colab": {
          "base_uri": "https://localhost:8080/"
        },
        "id": "RNZNennajWXy",
        "outputId": "29dd845b-e43b-4b35-b5af-16d98487e026"
      },
      "execution_count": 54,
      "outputs": [
        {
          "output_type": "stream",
          "name": "stdout",
          "text": [
            "Acima de qual quantidade você quer observar: 2\n",
            "('Cat', 3)\n",
            "('Dog', 5)\n"
          ]
        }
      ]
    },
    {
      "cell_type": "code",
      "source": [
        "def observar_dias_por_animal_resgatado():\n",
        "  n = int(input('Acima de qual quantidade você quer observar: '))\n",
        "  c = cursor.execute(f\"select animal, count(animal) from PETRESCUE group by animal having count(animal) > {n};\")\n",
        "  for i in c:\n",
        "    print(i)"
      ],
      "metadata": {
        "id": "Vaoi2fzelZvU"
      },
      "execution_count": 55,
      "outputs": []
    },
    {
      "cell_type": "code",
      "source": [
        "observar_dias_por_animal_resgatado()"
      ],
      "metadata": {
        "colab": {
          "base_uri": "https://localhost:8080/"
        },
        "id": "AeBSNlGdjrD-",
        "outputId": "2fd8ad12-5108-4baa-eff1-c3ad4439c053"
      },
      "execution_count": 56,
      "outputs": [
        {
          "output_type": "stream",
          "name": "stdout",
          "text": [
            "Acima de qual quantidade você quer observar: 2\n",
            "('Cat', 3)\n",
            "('Dog', 5)\n"
          ]
        }
      ]
    },
    {
      "cell_type": "code",
      "source": [
        "animal = input('Você quer um relatório de qual animal? ')\n",
        "c = cursor.execute(f\"select * from PETRESCUE where animal = '{animal}';\")\n",
        "for i in c:\n",
        "  print(i)"
      ],
      "metadata": {
        "colab": {
          "base_uri": "https://localhost:8080/"
        },
        "id": "RT_RDuwzpK9w",
        "outputId": "0d703291-d11e-4611-86b9-205aa643a1a8"
      },
      "execution_count": 59,
      "outputs": [
        {
          "output_type": "stream",
          "name": "stdout",
          "text": [
            "Você quer um relatório de qual animal? Horse\n",
            "(12, 'Horse', 2, 400, '2023-08-17')\n"
          ]
        }
      ]
    },
    {
      "cell_type": "code",
      "source": [
        "def observar_cada_animal():\n",
        "  animal = input('Você quer um relatório de qual animal? ')\n",
        "  c = cursor.execute(f\"select * from PETRESCUE where animal = '{animal}';\")\n",
        "  for i in c:\n",
        "    print(i)"
      ],
      "metadata": {
        "id": "KLKfzqwnluIR"
      },
      "execution_count": 60,
      "outputs": []
    },
    {
      "cell_type": "code",
      "source": [
        "observar_cada_animal()"
      ],
      "metadata": {
        "colab": {
          "base_uri": "https://localhost:8080/"
        },
        "id": "0LoPf0Zhoo3j",
        "outputId": "24a02620-5ddc-4dea-d387-bffd0481c4a6"
      },
      "execution_count": 61,
      "outputs": [
        {
          "output_type": "stream",
          "name": "stdout",
          "text": [
            "Você quer um relatório de qual animal? Hamster\n",
            "(6, 'Hamster', 6, 60.6, '2018-06-11')\n"
          ]
        }
      ]
    },
    {
      "cell_type": "code",
      "source": [
        "visualizar_tabela()"
      ],
      "metadata": {
        "colab": {
          "base_uri": "https://localhost:8080/"
        },
        "id": "L4CrCqQX-exr",
        "outputId": "a211c7dd-4a7c-44f7-ec17-54f0cc9f6286"
      },
      "execution_count": 66,
      "outputs": [
        {
          "output_type": "stream",
          "name": "stdout",
          "text": [
            "(1, 'Cat', 9, 450.09, '2018-05-29')\n",
            "(2, 'Dog', 3, 666.66, '2018-06-01')\n",
            "(3, 'Dog', 1, 100, '2018-06-04')\n",
            "(4, 'Parrot', 2, 50, '2018-06-04')\n",
            "(5, 'Dog', 1, 75.75, '2018-06-10')\n",
            "(6, 'Hamster', 6, 60.6, '2018-06-11')\n",
            "(7, 'Cat', 1, 44.44, '2018-06-11')\n",
            "(8, 'Goldfish', 24, 48.48, '2018-06-14')\n",
            "(9, 'Dog', 2, 222.22, '2018-06-15')\n",
            "(10, 'Cat', 5, 250, '2023-12-25')\n",
            "(11, 'Dog', 3, 270, '2023-02-20')\n",
            "(12, 'Horse', 2, 400, '2023-08-17')\n"
          ]
        }
      ]
    },
    {
      "cell_type": "code",
      "source": [
        "c = cursor.execute('''\n",
        "select animal, count(*), avg(cost) from PETRESCUE group by animal''')\n",
        "for i in c:\n",
        "  print(i)"
      ],
      "metadata": {
        "colab": {
          "base_uri": "https://localhost:8080/"
        },
        "id": "3UfSIvzfoqqr",
        "outputId": "94980366-4be3-4bb5-cff9-49e8d6996d4c"
      },
      "execution_count": 65,
      "outputs": [
        {
          "output_type": "stream",
          "name": "stdout",
          "text": [
            "('Cat', 3, 248.17666666666665)\n",
            "('Dog', 5, 266.926)\n",
            "('Goldfish', 1, 48.48)\n",
            "('Hamster', 1, 60.6)\n",
            "('Horse', 1, 400.0)\n",
            "('Parrot', 1, 50.0)\n"
          ]
        }
      ]
    },
    {
      "cell_type": "code",
      "source": [
        "def media():\n",
        "  c = cursor.execute('''\n",
        "select animal, count(*), avg(cost) from PETRESCUE group by animal''')\n",
        "  for i in c:\n",
        "    print(i)"
      ],
      "metadata": {
        "id": "fFcz8bdosIlA"
      },
      "execution_count": 67,
      "outputs": []
    },
    {
      "cell_type": "code",
      "source": [
        "media()"
      ],
      "metadata": {
        "colab": {
          "base_uri": "https://localhost:8080/"
        },
        "id": "B0S_xE47sm7T",
        "outputId": "09cc5494-bf2f-4330-954e-f9af06b26c5c"
      },
      "execution_count": 68,
      "outputs": [
        {
          "output_type": "stream",
          "name": "stdout",
          "text": [
            "('Cat', 3, 248.17666666666665)\n",
            "('Dog', 5, 266.926)\n",
            "('Goldfish', 1, 48.48)\n",
            "('Hamster', 1, 60.6)\n",
            "('Horse', 1, 400.0)\n",
            "('Parrot', 1, 50.0)\n"
          ]
        }
      ]
    },
    {
      "cell_type": "code",
      "source": [
        "c = cursor.execute('''\n",
        "select animal, count(*) as \"num_animal\", avg(cost) as \"avg_cost\"\n",
        "from PETRESCUE\n",
        "group by animal\n",
        "''')\n",
        "for i in c:\n",
        "  print(i)"
      ],
      "metadata": {
        "colab": {
          "base_uri": "https://localhost:8080/"
        },
        "id": "A4XDOMkusnx9",
        "outputId": "1f435468-daba-4377-b3aa-00a821f2288c"
      },
      "execution_count": 78,
      "outputs": [
        {
          "output_type": "stream",
          "name": "stdout",
          "text": [
            "('Cat', 3, 306.74)\n",
            "('Dog', 4, 266.15749999999997)\n",
            "('Goldfish', 1, 48.48)\n",
            "('Hamster', 1, 60.6)\n",
            "('Parrot', 2, 72.55)\n"
          ]
        }
      ]
    },
    {
      "cell_type": "code",
      "source": [
        "cursor.execute('''\n",
        "drop table if exists teste;\n",
        "''')\n",
        "\n",
        "con.commit()"
      ],
      "metadata": {
        "id": "BOgTiA4LtUS3"
      },
      "execution_count": 69,
      "outputs": []
    },
    {
      "cell_type": "code",
      "source": [
        "cursor.execute('''\n",
        "drop table if exists PETRESCUE;\n",
        "''')\n",
        "\n",
        "con.commit()"
      ],
      "metadata": {
        "id": "7dOfD2OkzfNi"
      },
      "execution_count": 70,
      "outputs": []
    },
    {
      "cell_type": "code",
      "source": [
        "x = cursor.execute('''\n",
        "SELECT * FROM PETRESCUE;\n",
        "''')\n",
        "for i in x :\n",
        "  print(i)\n",
        "#A TABELA FOI EXCLUIDA E POR ISSO O ERRO."
      ],
      "metadata": {
        "colab": {
          "base_uri": "https://localhost:8080/",
          "height": 245
        },
        "id": "8U9dX5NvzyRs",
        "outputId": "ed5aa80e-2dcc-4bc0-e797-ef10d9d0b135"
      },
      "execution_count": 71,
      "outputs": [
        {
          "output_type": "error",
          "ename": "OperationalError",
          "evalue": "ignored",
          "traceback": [
            "\u001b[0;31m---------------------------------------------------------------------------\u001b[0m",
            "\u001b[0;31mOperationalError\u001b[0m                          Traceback (most recent call last)",
            "\u001b[0;32m<ipython-input-71-329139e3da62>\u001b[0m in \u001b[0;36m<cell line: 1>\u001b[0;34m()\u001b[0m\n\u001b[0;32m----> 1\u001b[0;31m x = cursor.execute('''\n\u001b[0m\u001b[1;32m      2\u001b[0m \u001b[0mSELECT\u001b[0m \u001b[0;34m*\u001b[0m \u001b[0mFROM\u001b[0m \u001b[0mPETRESCUE\u001b[0m\u001b[0;34m;\u001b[0m\u001b[0;34m\u001b[0m\u001b[0;34m\u001b[0m\u001b[0m\n\u001b[1;32m      3\u001b[0m ''')\n\u001b[1;32m      4\u001b[0m \u001b[0;32mfor\u001b[0m \u001b[0mi\u001b[0m \u001b[0;32min\u001b[0m \u001b[0mx\u001b[0m \u001b[0;34m:\u001b[0m\u001b[0;34m\u001b[0m\u001b[0;34m\u001b[0m\u001b[0m\n\u001b[1;32m      5\u001b[0m   \u001b[0mprint\u001b[0m\u001b[0;34m(\u001b[0m\u001b[0mi\u001b[0m\u001b[0;34m)\u001b[0m\u001b[0;34m\u001b[0m\u001b[0;34m\u001b[0m\u001b[0m\n",
            "\u001b[0;31mOperationalError\u001b[0m: no such table: PETRESCUE"
          ]
        }
      ]
    },
    {
      "cell_type": "code",
      "source": [],
      "metadata": {
        "id": "5_UvR-Qgz-5e"
      },
      "execution_count": null,
      "outputs": []
    }
  ]
}